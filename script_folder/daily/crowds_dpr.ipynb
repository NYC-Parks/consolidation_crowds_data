{
 "cells": [
  {
   "cell_type": "code",
   "execution_count": 70,
   "metadata": {},
   "outputs": [],
   "source": [
    "#Import required libraries\n",
    "import gspread\n",
    "import sys\n",
    "import pandas as pd\n",
    "import numpy as np\n",
    "import urllib\n",
    "import sqlalchemy"
   ]
  },
  {
   "cell_type": "code",
   "execution_count": 71,
   "metadata": {},
   "outputs": [],
   "source": [
    "#Import project specific functions\n",
    "#sys.path.append('..')\n",
    "from column_map import column_map\n",
    "from yesno_functions import *\n",
    "from format_datetime import *"
   ]
  },
  {
   "cell_type": "code",
   "execution_count": 72,
   "metadata": {},
   "outputs": [],
   "source": [
    "#Import shared functions\n",
    "sys.path.append('..')\n",
    "#sys.path.append('..\\..')\n",
    "from IPM_Shared_Code_public.Python.utils import get_config\n",
    "from IPM_Shared_Code_public.Python.delta_functions import *\n",
    "from IPM_Shared_Code_public.Python.sql_functions import *\n",
    "from IPM_Shared_Code_public.Python.google_functions import *"
   ]
  },
  {
   "cell_type": "markdown",
   "metadata": {},
   "source": [
    "### Use the config file to setup connections"
   ]
  },
  {
   "cell_type": "code",
   "execution_count": 73,
   "metadata": {},
   "outputs": [],
   "source": [
    "config = get_config('c:\\Projects\\config.ini')\n",
    "\n",
    "driver = config['srv']['driver']\n",
    "server = config['srv']['server']\n",
    "dwh = config['db']['crowdsdb']\n",
    "cred_file = config['google']['path_to_file']"
   ]
  },
  {
   "cell_type": "code",
   "execution_count": 74,
   "metadata": {},
   "outputs": [],
   "source": [
    "con_string = 'Driver={' + driver + '};Server=' + server +';Database=' + dwh + ';Trusted_Connection=Yes;'\n",
    "params = urllib.parse.quote_plus(con_string)\n",
    "engine = sqlalchemy.create_engine(\"mssql+pyodbc:///?odbc_connect=%s\" % params)"
   ]
  },
  {
   "cell_type": "markdown",
   "metadata": {},
   "source": [
    "### Execute the function to get the renamed columns for this sheet"
   ]
  },
  {
   "cell_type": "code",
   "execution_count": 75,
   "metadata": {},
   "outputs": [],
   "source": [
    "#Call the column map function to get the dictionary to be used for renaming and subsetting the columns\n",
    "col_rename = column_map('crowds_dpr')"
   ]
  },
  {
   "cell_type": "code",
   "execution_count": 76,
   "metadata": {},
   "outputs": [],
   "source": [
    "#Because of duplicate column names these columns are renamed based on the column index and the keys and \n",
    "#values need to be switched\n",
    "col_rename = {v[0]: k for k, v in col_rename.items()}"
   ]
  },
  {
   "cell_type": "code",
   "execution_count": 77,
   "metadata": {},
   "outputs": [],
   "source": [
    "cols = list(col_rename.values())"
   ]
  },
  {
   "cell_type": "markdown",
   "metadata": {},
   "source": [
    "### Read the site reference list from SQL"
   ]
  },
  {
   "cell_type": "code",
   "execution_count": 78,
   "metadata": {},
   "outputs": [],
   "source": [
    "sql = '''select *\n",
    "         from (select *,\n",
    "                      row_number() over(partition by desc_location, park_borough order by desc_location) as n\n",
    "               from crowdsdb.dbo.tbl_ref_park_sites\n",
    "               where active = 1) as t\n",
    "         where n = 1'''"
   ]
  },
  {
   "cell_type": "code",
   "execution_count": 79,
   "metadata": {},
   "outputs": [],
   "source": [
    "site_ref = (pd.read_sql(con = engine, sql = sql)\n",
    "            .rename(columns = {'park_borough': 'borough'}))[['site_id', 'desc_location']]"
   ]
  },
  {
   "cell_type": "markdown",
   "metadata": {},
   "source": [
    "### Read the current data from SQL"
   ]
  },
  {
   "cell_type": "code",
   "execution_count": 80,
   "metadata": {},
   "outputs": [],
   "source": [
    "sql = 'select * from crowdsdb.dbo.tbl_dpr_crowds'"
   ]
  },
  {
   "cell_type": "code",
   "execution_count": 81,
   "metadata": {},
   "outputs": [],
   "source": [
    "crowds_sql = (pd.read_sql(con = engine, sql = sql)\n",
    "              .drop(columns = ['crowds_id'])\n",
    "              .fillna(value = np.nan, axis = 1))"
   ]
  },
  {
   "cell_type": "code",
   "execution_count": 82,
   "metadata": {},
   "outputs": [],
   "source": [
    "if crowds_sql.shape[0] > 0:\n",
    "    format_datetime(crowds_sql, 'encounter_timestamp')"
   ]
  },
  {
   "cell_type": "code",
   "execution_count": 83,
   "metadata": {},
   "outputs": [],
   "source": [
    "float_cols = ['patroncount', 'in_playground']\n",
    "for c in float_cols:\n",
    "    crowds_sql[c] = crowds_sql[c].astype(float)"
   ]
  },
  {
   "cell_type": "code",
   "execution_count": 84,
   "metadata": {},
   "outputs": [
    {
     "data": {
      "text/html": [
       "<div>\n",
       "<style scoped>\n",
       "    .dataframe tbody tr th:only-of-type {\n",
       "        vertical-align: middle;\n",
       "    }\n",
       "\n",
       "    .dataframe tbody tr th {\n",
       "        vertical-align: top;\n",
       "    }\n",
       "\n",
       "    .dataframe thead th {\n",
       "        text-align: right;\n",
       "    }\n",
       "</style>\n",
       "<table border=\"1\" class=\"dataframe\">\n",
       "  <thead>\n",
       "    <tr style=\"text-align: right;\">\n",
       "      <th></th>\n",
       "      <th>encounter_timestamp</th>\n",
       "      <th>park_district</th>\n",
       "      <th>patroncount</th>\n",
       "      <th>in_playground</th>\n",
       "      <th>action_taken</th>\n",
       "      <th>amenity</th>\n",
       "      <th>comments</th>\n",
       "      <th>site_id</th>\n",
       "      <th>borough</th>\n",
       "    </tr>\n",
       "  </thead>\n",
       "  <tbody>\n",
       "    <tr>\n",
       "      <td>0</td>\n",
       "      <td>06-01-2020 10:54:14</td>\n",
       "      <td>Q-12</td>\n",
       "      <td>12.0</td>\n",
       "      <td>1.0</td>\n",
       "      <td>Approached the crowd; they ignored the employee</td>\n",
       "      <td>Playground</td>\n",
       "      <td>NaN</td>\n",
       "      <td>Q005-11</td>\n",
       "      <td>Queens</td>\n",
       "    </tr>\n",
       "    <tr>\n",
       "      <td>1</td>\n",
       "      <td>06-01-2020 10:22:51</td>\n",
       "      <td>X-14</td>\n",
       "      <td>11.0</td>\n",
       "      <td>0.0</td>\n",
       "      <td>Did not approach the crowd; the crowd remains</td>\n",
       "      <td>Soccer field</td>\n",
       "      <td>Playing soccer</td>\n",
       "      <td>X147A-ZN01</td>\n",
       "      <td>Bronx</td>\n",
       "    </tr>\n",
       "    <tr>\n",
       "      <td>2</td>\n",
       "      <td>05-31-2020 16:31:20</td>\n",
       "      <td>Q-13</td>\n",
       "      <td>13.0</td>\n",
       "      <td>0.0</td>\n",
       "      <td>Approached the crowd; they ignored the employee</td>\n",
       "      <td>Skate Park</td>\n",
       "      <td>NaN</td>\n",
       "      <td>Q108</td>\n",
       "      <td>Queens</td>\n",
       "    </tr>\n",
       "    <tr>\n",
       "      <td>3</td>\n",
       "      <td>05-31-2020 15:04:12</td>\n",
       "      <td>Q-07</td>\n",
       "      <td>30.0</td>\n",
       "      <td>1.0</td>\n",
       "      <td>Approached the crowd; they complied with instr...</td>\n",
       "      <td>Basketball court</td>\n",
       "      <td>NaN</td>\n",
       "      <td>Q397</td>\n",
       "      <td>Queens</td>\n",
       "    </tr>\n",
       "    <tr>\n",
       "      <td>4</td>\n",
       "      <td>05-31-2020 14:38:52</td>\n",
       "      <td>X-02</td>\n",
       "      <td>15.0</td>\n",
       "      <td>0.0</td>\n",
       "      <td>Did not approach the crowd; the crowd remains</td>\n",
       "      <td>Baseball field</td>\n",
       "      <td>Central communication was called</td>\n",
       "      <td>X255</td>\n",
       "      <td>Bronx</td>\n",
       "    </tr>\n",
       "  </tbody>\n",
       "</table>\n",
       "</div>"
      ],
      "text/plain": [
       "   encounter_timestamp park_district  patroncount  in_playground  \\\n",
       "0  06-01-2020 10:54:14          Q-12         12.0            1.0   \n",
       "1  06-01-2020 10:22:51          X-14         11.0            0.0   \n",
       "2  05-31-2020 16:31:20          Q-13         13.0            0.0   \n",
       "3  05-31-2020 15:04:12          Q-07         30.0            1.0   \n",
       "4  05-31-2020 14:38:52          X-02         15.0            0.0   \n",
       "\n",
       "                                        action_taken           amenity  \\\n",
       "0    Approached the crowd; they ignored the employee        Playground   \n",
       "1      Did not approach the crowd; the crowd remains      Soccer field   \n",
       "2    Approached the crowd; they ignored the employee        Skate Park   \n",
       "3  Approached the crowd; they complied with instr...  Basketball court   \n",
       "4      Did not approach the crowd; the crowd remains    Baseball field   \n",
       "\n",
       "                           comments     site_id borough  \n",
       "0                               NaN     Q005-11  Queens  \n",
       "1                    Playing soccer  X147A-ZN01   Bronx  \n",
       "2                               NaN        Q108  Queens  \n",
       "3                               NaN        Q397  Queens  \n",
       "4  Central communication was called        X255   Bronx  "
      ]
     },
     "execution_count": 84,
     "metadata": {},
     "output_type": "execute_result"
    }
   ],
   "source": [
    "crowds_sql.head()"
   ]
  },
  {
   "cell_type": "code",
   "execution_count": 85,
   "metadata": {},
   "outputs": [],
   "source": [
    "sql_cols = list(crowds_sql.columns.values)"
   ]
  },
  {
   "cell_type": "code",
   "execution_count": 86,
   "metadata": {},
   "outputs": [],
   "source": [
    "hash_rows(crowds_sql, exclude_cols = ['site_id', 'encounter_timestamp'], hash_name = 'row_hash')"
   ]
  },
  {
   "cell_type": "markdown",
   "metadata": {},
   "source": [
    "### Read the latest data from Google Sheets"
   ]
  },
  {
   "cell_type": "code",
   "execution_count": 87,
   "metadata": {},
   "outputs": [],
   "source": [
    "crowds = (read_google_sheet(cred_file, 'Crowds_Combined', 'Sheet1', drop_empty_cols = False, evaluate_formulas = True, \n",
    "                            header= None)\n",
    "          #Always remove row 0 with the column headers\n",
    "          .iloc[1:]\n",
    "          .rename(columns = col_rename)\n",
    "          .fillna(value = np.nan, axis = 1))[cols]"
   ]
  },
  {
   "cell_type": "code",
   "execution_count": 88,
   "metadata": {},
   "outputs": [],
   "source": [
    "#Remove the rows where there timestamp is null because these sheets have extra rows full of nulls\n",
    "crowds = crowds[crowds['encounter_timestamp'].notnull()]"
   ]
  },
  {
   "cell_type": "code",
   "execution_count": 89,
   "metadata": {},
   "outputs": [],
   "source": [
    "format_datetime(crowds, 'encounter_timestamp')"
   ]
  },
  {
   "cell_type": "code",
   "execution_count": 90,
   "metadata": {},
   "outputs": [
    {
     "data": {
      "text/html": [
       "<div>\n",
       "<style scoped>\n",
       "    .dataframe tbody tr th:only-of-type {\n",
       "        vertical-align: middle;\n",
       "    }\n",
       "\n",
       "    .dataframe tbody tr th {\n",
       "        vertical-align: top;\n",
       "    }\n",
       "\n",
       "    .dataframe thead th {\n",
       "        text-align: right;\n",
       "    }\n",
       "</style>\n",
       "<table border=\"1\" class=\"dataframe\">\n",
       "  <thead>\n",
       "    <tr style=\"text-align: right;\">\n",
       "      <th></th>\n",
       "      <th>encounter_timestamp</th>\n",
       "      <th>park_district</th>\n",
       "      <th>patroncount</th>\n",
       "      <th>in_playground</th>\n",
       "      <th>action_taken</th>\n",
       "      <th>amenity</th>\n",
       "      <th>comments</th>\n",
       "      <th>desc_location</th>\n",
       "      <th>borough</th>\n",
       "    </tr>\n",
       "  </thead>\n",
       "  <tbody>\n",
       "    <tr>\n",
       "      <td>1</td>\n",
       "      <td>06-30-2020 08:15:21</td>\n",
       "      <td>M-12</td>\n",
       "      <td>12.0</td>\n",
       "      <td>Yes</td>\n",
       "      <td>Did not approach the crowd; the crowd remains</td>\n",
       "      <td>Adult fitness equipment</td>\n",
       "      <td>NaN</td>\n",
       "      <td>M029-01 | Fort Tryon Park-Jacob Javits Playground</td>\n",
       "      <td>Manhattan</td>\n",
       "    </tr>\n",
       "    <tr>\n",
       "      <td>2</td>\n",
       "      <td>06-29-2020 11:15:32</td>\n",
       "      <td>Q-06</td>\n",
       "      <td>1.0</td>\n",
       "      <td>No</td>\n",
       "      <td>Approached the crowd; they complied with instr...</td>\n",
       "      <td>Handall court</td>\n",
       "      <td>1 patron climbed over French Barricade with sn...</td>\n",
       "      <td>Q357B01 | Barrier Playground</td>\n",
       "      <td>Queens</td>\n",
       "    </tr>\n",
       "    <tr>\n",
       "      <td>3</td>\n",
       "      <td>06-29-2020 07:35:49</td>\n",
       "      <td>M-03</td>\n",
       "      <td>15.0</td>\n",
       "      <td>No</td>\n",
       "      <td>Approached the crowd; they ignored the employee</td>\n",
       "      <td>Baseball field</td>\n",
       "      <td>NaN</td>\n",
       "      <td>M144-ZN04 | John V. Lindsay - East River Park-...</td>\n",
       "      <td>Manhattan</td>\n",
       "    </tr>\n",
       "    <tr>\n",
       "      <td>4</td>\n",
       "      <td>06-28-2020 20:43:04</td>\n",
       "      <td>X-13</td>\n",
       "      <td>50.0</td>\n",
       "      <td>Yes</td>\n",
       "      <td>Did not approach the crowd; the crowd remains</td>\n",
       "      <td>Playground</td>\n",
       "      <td>NaN</td>\n",
       "      <td>X092-09 | Van Cortlandt Park-Southwest Playground</td>\n",
       "      <td>Bronx</td>\n",
       "    </tr>\n",
       "    <tr>\n",
       "      <td>5</td>\n",
       "      <td>06-28-2020 20:42:20</td>\n",
       "      <td>X-13</td>\n",
       "      <td>250.0</td>\n",
       "      <td>No</td>\n",
       "      <td>Did not approach the crowd; the crowd remains</td>\n",
       "      <td>Open field/multi-purpose play area</td>\n",
       "      <td>PEP was called</td>\n",
       "      <td>X092-ZN03 | Van Cortlandt Park-Van Cortlandt Pool</td>\n",
       "      <td>Bronx</td>\n",
       "    </tr>\n",
       "  </tbody>\n",
       "</table>\n",
       "</div>"
      ],
      "text/plain": [
       "   encounter_timestamp park_district  patroncount in_playground  \\\n",
       "1  06-30-2020 08:15:21          M-12         12.0           Yes   \n",
       "2  06-29-2020 11:15:32          Q-06          1.0            No   \n",
       "3  06-29-2020 07:35:49          M-03         15.0            No   \n",
       "4  06-28-2020 20:43:04          X-13         50.0           Yes   \n",
       "5  06-28-2020 20:42:20          X-13        250.0            No   \n",
       "\n",
       "                                        action_taken  \\\n",
       "1      Did not approach the crowd; the crowd remains   \n",
       "2  Approached the crowd; they complied with instr...   \n",
       "3    Approached the crowd; they ignored the employee   \n",
       "4      Did not approach the crowd; the crowd remains   \n",
       "5      Did not approach the crowd; the crowd remains   \n",
       "\n",
       "                              amenity  \\\n",
       "1             Adult fitness equipment   \n",
       "2                       Handall court   \n",
       "3                      Baseball field   \n",
       "4                          Playground   \n",
       "5  Open field/multi-purpose play area   \n",
       "\n",
       "                                            comments  \\\n",
       "1                                                NaN   \n",
       "2  1 patron climbed over French Barricade with sn...   \n",
       "3                                                NaN   \n",
       "4                                                NaN   \n",
       "5                                     PEP was called   \n",
       "\n",
       "                                       desc_location    borough  \n",
       "1  M029-01 | Fort Tryon Park-Jacob Javits Playground  Manhattan  \n",
       "2                       Q357B01 | Barrier Playground     Queens  \n",
       "3  M144-ZN04 | John V. Lindsay - East River Park-...  Manhattan  \n",
       "4  X092-09 | Van Cortlandt Park-Southwest Playground      Bronx  \n",
       "5  X092-ZN03 | Van Cortlandt Park-Van Cortlandt Pool      Bronx  "
      ]
     },
     "execution_count": 90,
     "metadata": {},
     "output_type": "execute_result"
    }
   ],
   "source": [
    "crowds.head()"
   ]
  },
  {
   "cell_type": "code",
   "execution_count": 91,
   "metadata": {},
   "outputs": [],
   "source": [
    "yesno = ['in_playground']"
   ]
  },
  {
   "cell_type": "code",
   "execution_count": 92,
   "metadata": {},
   "outputs": [],
   "source": [
    "yesno_cols(crowds, yesno)"
   ]
  },
  {
   "cell_type": "code",
   "execution_count": 93,
   "metadata": {},
   "outputs": [],
   "source": [
    "crowds = crowds.merge(site_ref, how = 'left', on = 'desc_location')[sql_cols]"
   ]
  },
  {
   "cell_type": "code",
   "execution_count": 28,
   "metadata": {},
   "outputs": [],
   "source": [
    "hash_rows(crowds, exclude_cols = ['site_id', 'encounter_timestamp'], hash_name = 'row_hash')"
   ]
  },
  {
   "cell_type": "code",
   "execution_count": 29,
   "metadata": {},
   "outputs": [
    {
     "data": {
      "text/html": [
       "<div>\n",
       "<style scoped>\n",
       "    .dataframe tbody tr th:only-of-type {\n",
       "        vertical-align: middle;\n",
       "    }\n",
       "\n",
       "    .dataframe tbody tr th {\n",
       "        vertical-align: top;\n",
       "    }\n",
       "\n",
       "    .dataframe thead th {\n",
       "        text-align: right;\n",
       "    }\n",
       "</style>\n",
       "<table border=\"1\" class=\"dataframe\">\n",
       "  <thead>\n",
       "    <tr style=\"text-align: right;\">\n",
       "      <th></th>\n",
       "      <th>encounter_timestamp</th>\n",
       "      <th>park_district</th>\n",
       "      <th>patroncount</th>\n",
       "      <th>in_playground</th>\n",
       "      <th>action_taken</th>\n",
       "      <th>amenity</th>\n",
       "      <th>comments</th>\n",
       "      <th>site_id</th>\n",
       "      <th>borough</th>\n",
       "      <th>row_hash</th>\n",
       "    </tr>\n",
       "  </thead>\n",
       "  <tbody>\n",
       "    <tr>\n",
       "      <td>0</td>\n",
       "      <td>06-14-2020 20:14:59</td>\n",
       "      <td>Q-13</td>\n",
       "      <td>15.0</td>\n",
       "      <td>1.0</td>\n",
       "      <td>Did not approach the crowd; the crowd remains</td>\n",
       "      <td>Skate Park</td>\n",
       "      <td>PATRONS ARE CUTTING HOLES IN THE FENCING TO TH...</td>\n",
       "      <td>Q108</td>\n",
       "      <td>Queens</td>\n",
       "      <td>f106cdb413144d450f520cf55ba2da427b4dbc78167095...</td>\n",
       "    </tr>\n",
       "    <tr>\n",
       "      <td>1</td>\n",
       "      <td>06-14-2020 20:09:47</td>\n",
       "      <td>Q-13</td>\n",
       "      <td>20.0</td>\n",
       "      <td>0.0</td>\n",
       "      <td>Did not approach the crowd; the crowd remains</td>\n",
       "      <td>Bench/sitting area</td>\n",
       "      <td>BROOKVILLE PK. BBQ AREA,,,TRESSPASSING IN A CL...</td>\n",
       "      <td>Q008</td>\n",
       "      <td>Queens</td>\n",
       "      <td>6b90acb801d252e78959c0060146a8604daed89fa30995...</td>\n",
       "    </tr>\n",
       "    <tr>\n",
       "      <td>2</td>\n",
       "      <td>06-14-2020 20:03:57</td>\n",
       "      <td>Q-13</td>\n",
       "      <td>6.0</td>\n",
       "      <td>0.0</td>\n",
       "      <td>Did not approach the crowd; the crowd remains</td>\n",
       "      <td>Handall court</td>\n",
       "      <td>PATRONS ARE TRESSPASSING  IN A CLOSED  HBC AR...</td>\n",
       "      <td>Q008</td>\n",
       "      <td>Queens</td>\n",
       "      <td>bd2c80c48fb38b5f44657c53339dee7632af3f6fb755a6...</td>\n",
       "    </tr>\n",
       "    <tr>\n",
       "      <td>3</td>\n",
       "      <td>06-14-2020 19:58:37</td>\n",
       "      <td>Q-13</td>\n",
       "      <td>10.0</td>\n",
       "      <td>0.0</td>\n",
       "      <td>Did not approach the crowd; the crowd remains</td>\n",
       "      <td>Adult fitness equipment</td>\n",
       "      <td>PATRONS ARE TRESSPASSING IN THE CLOSED EXERCIS...</td>\n",
       "      <td>Q008</td>\n",
       "      <td>Queens</td>\n",
       "      <td>de4f1120700333d63e47e247eeba751c05299ac74b8ab4...</td>\n",
       "    </tr>\n",
       "    <tr>\n",
       "      <td>4</td>\n",
       "      <td>06-14-2020 16:27:01</td>\n",
       "      <td>X-15</td>\n",
       "      <td>500.0</td>\n",
       "      <td>0.0</td>\n",
       "      <td>Did not approach the crowd; the crowd remains</td>\n",
       "      <td>Open field/multi-purpose play area</td>\n",
       "      <td>NaN</td>\n",
       "      <td>X039-ZN01</td>\n",
       "      <td>Bronx</td>\n",
       "      <td>0acfd5ec3408e1eecea269af04b2322f2f5fc5c09f7f59...</td>\n",
       "    </tr>\n",
       "  </tbody>\n",
       "</table>\n",
       "</div>"
      ],
      "text/plain": [
       "   encounter_timestamp park_district  patroncount  in_playground  \\\n",
       "0  06-14-2020 20:14:59          Q-13         15.0            1.0   \n",
       "1  06-14-2020 20:09:47          Q-13         20.0            0.0   \n",
       "2  06-14-2020 20:03:57          Q-13          6.0            0.0   \n",
       "3  06-14-2020 19:58:37          Q-13         10.0            0.0   \n",
       "4  06-14-2020 16:27:01          X-15        500.0            0.0   \n",
       "\n",
       "                                    action_taken  \\\n",
       "0  Did not approach the crowd; the crowd remains   \n",
       "1  Did not approach the crowd; the crowd remains   \n",
       "2  Did not approach the crowd; the crowd remains   \n",
       "3  Did not approach the crowd; the crowd remains   \n",
       "4  Did not approach the crowd; the crowd remains   \n",
       "\n",
       "                              amenity  \\\n",
       "0                          Skate Park   \n",
       "1                  Bench/sitting area   \n",
       "2                       Handall court   \n",
       "3             Adult fitness equipment   \n",
       "4  Open field/multi-purpose play area   \n",
       "\n",
       "                                            comments    site_id borough  \\\n",
       "0  PATRONS ARE CUTTING HOLES IN THE FENCING TO TH...       Q108  Queens   \n",
       "1  BROOKVILLE PK. BBQ AREA,,,TRESSPASSING IN A CL...       Q008  Queens   \n",
       "2   PATRONS ARE TRESSPASSING  IN A CLOSED  HBC AR...       Q008  Queens   \n",
       "3  PATRONS ARE TRESSPASSING IN THE CLOSED EXERCIS...       Q008  Queens   \n",
       "4                                                NaN  X039-ZN01   Bronx   \n",
       "\n",
       "                                            row_hash  \n",
       "0  f106cdb413144d450f520cf55ba2da427b4dbc78167095...  \n",
       "1  6b90acb801d252e78959c0060146a8604daed89fa30995...  \n",
       "2  bd2c80c48fb38b5f44657c53339dee7632af3f6fb755a6...  \n",
       "3  de4f1120700333d63e47e247eeba751c05299ac74b8ab4...  \n",
       "4  0acfd5ec3408e1eecea269af04b2322f2f5fc5c09f7f59...  "
      ]
     },
     "execution_count": 29,
     "metadata": {},
     "output_type": "execute_result"
    }
   ],
   "source": [
    "crowds.head()"
   ]
  },
  {
   "cell_type": "markdown",
   "metadata": {},
   "source": [
    "### Find the deltas based on the row hashes"
   ]
  },
  {
   "cell_type": "code",
   "execution_count": 30,
   "metadata": {},
   "outputs": [],
   "source": [
    "crowds_deltas = (check_deltas(new_df = crowds, old_df = crowds_sql, on = ['encounter_timestamp', 'site_id'], \n",
    "                              hash_name = 'row_hash', dml_col = 'dml_verb'))[sql_cols + ['dml_verb']]"
   ]
  },
  {
   "cell_type": "code",
   "execution_count": 31,
   "metadata": {},
   "outputs": [
    {
     "data": {
      "text/html": [
       "<div>\n",
       "<style scoped>\n",
       "    .dataframe tbody tr th:only-of-type {\n",
       "        vertical-align: middle;\n",
       "    }\n",
       "\n",
       "    .dataframe tbody tr th {\n",
       "        vertical-align: top;\n",
       "    }\n",
       "\n",
       "    .dataframe thead th {\n",
       "        text-align: right;\n",
       "    }\n",
       "</style>\n",
       "<table border=\"1\" class=\"dataframe\">\n",
       "  <thead>\n",
       "    <tr style=\"text-align: right;\">\n",
       "      <th></th>\n",
       "      <th>encounter_timestamp</th>\n",
       "      <th>park_district</th>\n",
       "      <th>patroncount</th>\n",
       "      <th>in_playground</th>\n",
       "      <th>action_taken</th>\n",
       "      <th>amenity</th>\n",
       "      <th>comments</th>\n",
       "      <th>site_id</th>\n",
       "      <th>borough</th>\n",
       "      <th>dml_verb</th>\n",
       "    </tr>\n",
       "  </thead>\n",
       "  <tbody>\n",
       "    <tr>\n",
       "      <td>0</td>\n",
       "      <td>06-14-2020 20:14:59</td>\n",
       "      <td>Q-13</td>\n",
       "      <td>15.0</td>\n",
       "      <td>1.0</td>\n",
       "      <td>Did not approach the crowd; the crowd remains</td>\n",
       "      <td>Skate Park</td>\n",
       "      <td>PATRONS ARE CUTTING HOLES IN THE FENCING TO TH...</td>\n",
       "      <td>Q108</td>\n",
       "      <td>Queens</td>\n",
       "      <td>I</td>\n",
       "    </tr>\n",
       "    <tr>\n",
       "      <td>1</td>\n",
       "      <td>06-14-2020 20:09:47</td>\n",
       "      <td>Q-13</td>\n",
       "      <td>20.0</td>\n",
       "      <td>0.0</td>\n",
       "      <td>Did not approach the crowd; the crowd remains</td>\n",
       "      <td>Bench/sitting area</td>\n",
       "      <td>BROOKVILLE PK. BBQ AREA,,,TRESSPASSING IN A CL...</td>\n",
       "      <td>Q008</td>\n",
       "      <td>Queens</td>\n",
       "      <td>I</td>\n",
       "    </tr>\n",
       "    <tr>\n",
       "      <td>2</td>\n",
       "      <td>06-14-2020 20:03:57</td>\n",
       "      <td>Q-13</td>\n",
       "      <td>6.0</td>\n",
       "      <td>0.0</td>\n",
       "      <td>Did not approach the crowd; the crowd remains</td>\n",
       "      <td>Handall court</td>\n",
       "      <td>PATRONS ARE TRESSPASSING  IN A CLOSED  HBC AR...</td>\n",
       "      <td>Q008</td>\n",
       "      <td>Queens</td>\n",
       "      <td>I</td>\n",
       "    </tr>\n",
       "    <tr>\n",
       "      <td>3</td>\n",
       "      <td>06-14-2020 19:58:37</td>\n",
       "      <td>Q-13</td>\n",
       "      <td>10.0</td>\n",
       "      <td>0.0</td>\n",
       "      <td>Did not approach the crowd; the crowd remains</td>\n",
       "      <td>Adult fitness equipment</td>\n",
       "      <td>PATRONS ARE TRESSPASSING IN THE CLOSED EXERCIS...</td>\n",
       "      <td>Q008</td>\n",
       "      <td>Queens</td>\n",
       "      <td>I</td>\n",
       "    </tr>\n",
       "    <tr>\n",
       "      <td>4</td>\n",
       "      <td>06-14-2020 16:27:01</td>\n",
       "      <td>X-15</td>\n",
       "      <td>500.0</td>\n",
       "      <td>0.0</td>\n",
       "      <td>Did not approach the crowd; the crowd remains</td>\n",
       "      <td>Open field/multi-purpose play area</td>\n",
       "      <td>NaN</td>\n",
       "      <td>X039-ZN01</td>\n",
       "      <td>Bronx</td>\n",
       "      <td>I</td>\n",
       "    </tr>\n",
       "  </tbody>\n",
       "</table>\n",
       "</div>"
      ],
      "text/plain": [
       "   encounter_timestamp park_district  patroncount  in_playground  \\\n",
       "0  06-14-2020 20:14:59          Q-13         15.0            1.0   \n",
       "1  06-14-2020 20:09:47          Q-13         20.0            0.0   \n",
       "2  06-14-2020 20:03:57          Q-13          6.0            0.0   \n",
       "3  06-14-2020 19:58:37          Q-13         10.0            0.0   \n",
       "4  06-14-2020 16:27:01          X-15        500.0            0.0   \n",
       "\n",
       "                                    action_taken  \\\n",
       "0  Did not approach the crowd; the crowd remains   \n",
       "1  Did not approach the crowd; the crowd remains   \n",
       "2  Did not approach the crowd; the crowd remains   \n",
       "3  Did not approach the crowd; the crowd remains   \n",
       "4  Did not approach the crowd; the crowd remains   \n",
       "\n",
       "                              amenity  \\\n",
       "0                          Skate Park   \n",
       "1                  Bench/sitting area   \n",
       "2                       Handall court   \n",
       "3             Adult fitness equipment   \n",
       "4  Open field/multi-purpose play area   \n",
       "\n",
       "                                            comments    site_id borough  \\\n",
       "0  PATRONS ARE CUTTING HOLES IN THE FENCING TO TH...       Q108  Queens   \n",
       "1  BROOKVILLE PK. BBQ AREA,,,TRESSPASSING IN A CL...       Q008  Queens   \n",
       "2   PATRONS ARE TRESSPASSING  IN A CLOSED  HBC AR...       Q008  Queens   \n",
       "3  PATRONS ARE TRESSPASSING IN THE CLOSED EXERCIS...       Q008  Queens   \n",
       "4                                                NaN  X039-ZN01   Bronx   \n",
       "\n",
       "  dml_verb  \n",
       "0        I  \n",
       "1        I  \n",
       "2        I  \n",
       "3        I  \n",
       "4        I  "
      ]
     },
     "execution_count": 31,
     "metadata": {},
     "output_type": "execute_result"
    }
   ],
   "source": [
    "crowds_deltas.head()"
   ]
  },
  {
   "cell_type": "code",
   "execution_count": 32,
   "metadata": {},
   "outputs": [],
   "source": [
    "crowds_inserts = crowds_deltas[crowds_deltas['dml_verb'] == 'I'][sql_cols]"
   ]
  },
  {
   "cell_type": "code",
   "execution_count": 33,
   "metadata": {},
   "outputs": [
    {
     "data": {
      "text/html": [
       "<div>\n",
       "<style scoped>\n",
       "    .dataframe tbody tr th:only-of-type {\n",
       "        vertical-align: middle;\n",
       "    }\n",
       "\n",
       "    .dataframe tbody tr th {\n",
       "        vertical-align: top;\n",
       "    }\n",
       "\n",
       "    .dataframe thead th {\n",
       "        text-align: right;\n",
       "    }\n",
       "</style>\n",
       "<table border=\"1\" class=\"dataframe\">\n",
       "  <thead>\n",
       "    <tr style=\"text-align: right;\">\n",
       "      <th></th>\n",
       "      <th>encounter_timestamp</th>\n",
       "      <th>park_district</th>\n",
       "      <th>patroncount</th>\n",
       "      <th>in_playground</th>\n",
       "      <th>action_taken</th>\n",
       "      <th>amenity</th>\n",
       "      <th>comments</th>\n",
       "      <th>site_id</th>\n",
       "      <th>borough</th>\n",
       "    </tr>\n",
       "  </thead>\n",
       "  <tbody>\n",
       "    <tr>\n",
       "      <td>0</td>\n",
       "      <td>06-14-2020 20:14:59</td>\n",
       "      <td>Q-13</td>\n",
       "      <td>15.0</td>\n",
       "      <td>1.0</td>\n",
       "      <td>Did not approach the crowd; the crowd remains</td>\n",
       "      <td>Skate Park</td>\n",
       "      <td>PATRONS ARE CUTTING HOLES IN THE FENCING TO TH...</td>\n",
       "      <td>Q108</td>\n",
       "      <td>Queens</td>\n",
       "    </tr>\n",
       "    <tr>\n",
       "      <td>1</td>\n",
       "      <td>06-14-2020 20:09:47</td>\n",
       "      <td>Q-13</td>\n",
       "      <td>20.0</td>\n",
       "      <td>0.0</td>\n",
       "      <td>Did not approach the crowd; the crowd remains</td>\n",
       "      <td>Bench/sitting area</td>\n",
       "      <td>BROOKVILLE PK. BBQ AREA,,,TRESSPASSING IN A CL...</td>\n",
       "      <td>Q008</td>\n",
       "      <td>Queens</td>\n",
       "    </tr>\n",
       "    <tr>\n",
       "      <td>2</td>\n",
       "      <td>06-14-2020 20:03:57</td>\n",
       "      <td>Q-13</td>\n",
       "      <td>6.0</td>\n",
       "      <td>0.0</td>\n",
       "      <td>Did not approach the crowd; the crowd remains</td>\n",
       "      <td>Handall court</td>\n",
       "      <td>PATRONS ARE TRESSPASSING  IN A CLOSED  HBC AR...</td>\n",
       "      <td>Q008</td>\n",
       "      <td>Queens</td>\n",
       "    </tr>\n",
       "    <tr>\n",
       "      <td>3</td>\n",
       "      <td>06-14-2020 19:58:37</td>\n",
       "      <td>Q-13</td>\n",
       "      <td>10.0</td>\n",
       "      <td>0.0</td>\n",
       "      <td>Did not approach the crowd; the crowd remains</td>\n",
       "      <td>Adult fitness equipment</td>\n",
       "      <td>PATRONS ARE TRESSPASSING IN THE CLOSED EXERCIS...</td>\n",
       "      <td>Q008</td>\n",
       "      <td>Queens</td>\n",
       "    </tr>\n",
       "    <tr>\n",
       "      <td>4</td>\n",
       "      <td>06-14-2020 16:27:01</td>\n",
       "      <td>X-15</td>\n",
       "      <td>500.0</td>\n",
       "      <td>0.0</td>\n",
       "      <td>Did not approach the crowd; the crowd remains</td>\n",
       "      <td>Open field/multi-purpose play area</td>\n",
       "      <td>NaN</td>\n",
       "      <td>X039-ZN01</td>\n",
       "      <td>Bronx</td>\n",
       "    </tr>\n",
       "  </tbody>\n",
       "</table>\n",
       "</div>"
      ],
      "text/plain": [
       "   encounter_timestamp park_district  patroncount  in_playground  \\\n",
       "0  06-14-2020 20:14:59          Q-13         15.0            1.0   \n",
       "1  06-14-2020 20:09:47          Q-13         20.0            0.0   \n",
       "2  06-14-2020 20:03:57          Q-13          6.0            0.0   \n",
       "3  06-14-2020 19:58:37          Q-13         10.0            0.0   \n",
       "4  06-14-2020 16:27:01          X-15        500.0            0.0   \n",
       "\n",
       "                                    action_taken  \\\n",
       "0  Did not approach the crowd; the crowd remains   \n",
       "1  Did not approach the crowd; the crowd remains   \n",
       "2  Did not approach the crowd; the crowd remains   \n",
       "3  Did not approach the crowd; the crowd remains   \n",
       "4  Did not approach the crowd; the crowd remains   \n",
       "\n",
       "                              amenity  \\\n",
       "0                          Skate Park   \n",
       "1                  Bench/sitting area   \n",
       "2                       Handall court   \n",
       "3             Adult fitness equipment   \n",
       "4  Open field/multi-purpose play area   \n",
       "\n",
       "                                            comments    site_id borough  \n",
       "0  PATRONS ARE CUTTING HOLES IN THE FENCING TO TH...       Q108  Queens  \n",
       "1  BROOKVILLE PK. BBQ AREA,,,TRESSPASSING IN A CL...       Q008  Queens  \n",
       "2   PATRONS ARE TRESSPASSING  IN A CLOSED  HBC AR...       Q008  Queens  \n",
       "3  PATRONS ARE TRESSPASSING IN THE CLOSED EXERCIS...       Q008  Queens  \n",
       "4                                                NaN  X039-ZN01   Bronx  "
      ]
     },
     "execution_count": 33,
     "metadata": {},
     "output_type": "execute_result"
    }
   ],
   "source": [
    "crowds_inserts.head()"
   ]
  },
  {
   "cell_type": "code",
   "execution_count": 34,
   "metadata": {},
   "outputs": [],
   "source": [
    "crowds_inserts.to_sql('tbl_dpr_crowds', engine, index = False, if_exists = 'append')"
   ]
  },
  {
   "cell_type": "code",
   "execution_count": 35,
   "metadata": {},
   "outputs": [],
   "source": [
    "crowds_updates = crowds_deltas[crowds_deltas['dml_verb'] == 'U'][sql_cols]"
   ]
  },
  {
   "cell_type": "code",
   "execution_count": 36,
   "metadata": {},
   "outputs": [
    {
     "data": {
      "text/html": [
       "<div>\n",
       "<style scoped>\n",
       "    .dataframe tbody tr th:only-of-type {\n",
       "        vertical-align: middle;\n",
       "    }\n",
       "\n",
       "    .dataframe tbody tr th {\n",
       "        vertical-align: top;\n",
       "    }\n",
       "\n",
       "    .dataframe thead th {\n",
       "        text-align: right;\n",
       "    }\n",
       "</style>\n",
       "<table border=\"1\" class=\"dataframe\">\n",
       "  <thead>\n",
       "    <tr style=\"text-align: right;\">\n",
       "      <th></th>\n",
       "      <th>encounter_timestamp</th>\n",
       "      <th>park_district</th>\n",
       "      <th>patroncount</th>\n",
       "      <th>in_playground</th>\n",
       "      <th>action_taken</th>\n",
       "      <th>amenity</th>\n",
       "      <th>comments</th>\n",
       "      <th>site_id</th>\n",
       "      <th>borough</th>\n",
       "    </tr>\n",
       "  </thead>\n",
       "  <tbody>\n",
       "  </tbody>\n",
       "</table>\n",
       "</div>"
      ],
      "text/plain": [
       "Empty DataFrame\n",
       "Columns: [encounter_timestamp, park_district, patroncount, in_playground, action_taken, amenity, comments, site_id, borough]\n",
       "Index: []"
      ]
     },
     "execution_count": 36,
     "metadata": {},
     "output_type": "execute_result"
    }
   ],
   "source": [
    "crowds_updates.head()"
   ]
  },
  {
   "cell_type": "code",
   "execution_count": 37,
   "metadata": {},
   "outputs": [],
   "source": [
    "sql_update(crowds_updates, 'tbl_dpr_crowds', engine, ['encounter_timestamp', 'site_id'])"
   ]
  }
 ],
 "metadata": {
  "kernelspec": {
   "display_name": "Python 3",
   "language": "python",
   "name": "python3"
  },
  "language_info": {
   "codemirror_mode": {
    "name": "ipython",
    "version": 3
   },
   "file_extension": ".py",
   "mimetype": "text/x-python",
   "name": "python",
   "nbconvert_exporter": "python",
   "pygments_lexer": "ipython3",
   "version": "3.7.4"
  }
 },
 "nbformat": 4,
 "nbformat_minor": 2
}
