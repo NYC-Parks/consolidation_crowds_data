{
 "cells": [
  {
   "cell_type": "code",
   "execution_count": 1,
   "metadata": {},
   "outputs": [],
   "source": [
    "#Import required libraries\n",
    "import gspread\n",
    "import sys\n",
    "from oauth2client.service_account import ServiceAccountCredentials\n",
    "import pandas as pd\n",
    "import numpy as np\n",
    "import urllib\n",
    "import sqlalchemy\n",
    "from gspread_dataframe import set_with_dataframe\n",
    "from gspread_dataframe import get_as_dataframe"
   ]
  },
  {
   "cell_type": "code",
   "execution_count": 2,
   "metadata": {},
   "outputs": [
    {
     "name": "stderr",
     "output_type": "stream",
     "text": [
      "C:\\ProgramData\\Anaconda3\\lib\\site-packages\\authlib\\client\\__init__.py:12: AuthlibDeprecationWarning: Deprecate \"authlib.client\", USE \"authlib.integrations.requests_client\" instead.\n",
      "It will be compatible before version 1.0.\n",
      "Read more <https://git.io/Jeclj#file-rn-md>\n",
      "  deprecate('Deprecate \"authlib.client\", USE \"authlib.integrations.requests_client\" instead.', '1.0', 'Jeclj', 'rn')\n"
     ]
    }
   ],
   "source": [
    "#Import shared functions\n",
    "sys.path.append('../..')\n",
    "from IPM_Shared_Code_public.Python.google_creds_functions import create_assertion_session\n",
    "from IPM_Shared_Code_public.Python.utils import get_config\n",
    "from IPM_Shared_Code_public.Python.delta_functions import *\n",
    "from IPM_Shared_Code_public.Python.sql_functions import *"
   ]
  },
  {
   "cell_type": "markdown",
   "metadata": {},
   "source": [
    "### Use the config file to setup connections"
   ]
  },
  {
   "cell_type": "code",
   "execution_count": 3,
   "metadata": {},
   "outputs": [],
   "source": [
    "config = get_config('c:\\Projects\\config.ini')\n",
    "\n",
    "driver = config['srv']['driver']\n",
    "server = config['srv']['server']\n",
    "dwh = config['db']['crowdsdb']\n",
    "cred_file = config['google']['path_to_file']"
   ]
  },
  {
   "cell_type": "code",
   "execution_count": 4,
   "metadata": {},
   "outputs": [],
   "source": [
    "con_string = 'Driver={' + driver + '};Server=' + server +';Database=' + dwh + ';Trusted_Connection=Yes;'\n",
    "params = urllib.parse.quote_plus(con_string)\n",
    "engine = sqlalchemy.create_engine(\"mssql+pyodbc:///?odbc_connect=%s\" % params)"
   ]
  },
  {
   "cell_type": "markdown",
   "metadata": {},
   "source": [
    "### Send the data to the sheet"
   ]
  },
  {
   "cell_type": "code",
   "execution_count": 5,
   "metadata": {},
   "outputs": [],
   "source": [
    "sql = 'select * from crowdsdb.dbo.vw_consolidated_socialdistancing'"
   ]
  },
  {
   "cell_type": "code",
   "execution_count": 6,
   "metadata": {},
   "outputs": [],
   "source": [
    "consolidated_sql = (pd.read_sql(con = engine, sql = sql)\n",
    "                    .fillna(value = np.nan, axis = 1))"
   ]
  },
  {
   "cell_type": "code",
   "execution_count": 7,
   "metadata": {},
   "outputs": [
    {
     "data": {
      "text/html": [
       "<div>\n",
       "<style scoped>\n",
       "    .dataframe tbody tr th:only-of-type {\n",
       "        vertical-align: middle;\n",
       "    }\n",
       "\n",
       "    .dataframe tbody tr th {\n",
       "        vertical-align: top;\n",
       "    }\n",
       "\n",
       "    .dataframe thead th {\n",
       "        text-align: right;\n",
       "    }\n",
       "</style>\n",
       "<table border=\"1\" class=\"dataframe\">\n",
       "  <thead>\n",
       "    <tr style=\"text-align: right;\">\n",
       "      <th></th>\n",
       "      <th>source_survey</th>\n",
       "      <th>encounter_datetime</th>\n",
       "      <th>gispropnum</th>\n",
       "      <th>reported_as</th>\n",
       "      <th>site_id</th>\n",
       "      <th>site_desc</th>\n",
       "      <th>park_borough</th>\n",
       "      <th>location_adddesc</th>\n",
       "      <th>city_agency</th>\n",
       "      <th>encounter_type</th>\n",
       "      <th>amenity</th>\n",
       "      <th>patroncount</th>\n",
       "      <th>police_precinct</th>\n",
       "      <th>police_boro_com</th>\n",
       "      <th>communityboard</th>\n",
       "    </tr>\n",
       "  </thead>\n",
       "  <tbody>\n",
       "    <tr>\n",
       "      <td>38209</td>\n",
       "      <td>DPR Crowds</td>\n",
       "      <td>2020-06-10 10:29:05</td>\n",
       "      <td>Q024</td>\n",
       "      <td>Q024</td>\n",
       "      <td>Q024-03</td>\n",
       "      <td>Kissena Park-Four Winds Playground</td>\n",
       "      <td>Queens</td>\n",
       "      <td>NaN</td>\n",
       "      <td>DPR</td>\n",
       "      <td>NaN</td>\n",
       "      <td>Handall court</td>\n",
       "      <td>4.0</td>\n",
       "      <td>109</td>\n",
       "      <td>Queens North</td>\n",
       "      <td>407</td>\n",
       "    </tr>\n",
       "    <tr>\n",
       "      <td>38210</td>\n",
       "      <td>DPR Crowds</td>\n",
       "      <td>2020-06-10 07:49:05</td>\n",
       "      <td>Q099</td>\n",
       "      <td>Q099</td>\n",
       "      <td>Q099-ZN15</td>\n",
       "      <td>Flushing Meadows Park-South Lawn</td>\n",
       "      <td>Queens</td>\n",
       "      <td>NaN</td>\n",
       "      <td>DPR</td>\n",
       "      <td>NaN</td>\n",
       "      <td>Soccer field</td>\n",
       "      <td>23.0</td>\n",
       "      <td>6</td>\n",
       "      <td>Manhattan South</td>\n",
       "      <td>481</td>\n",
       "    </tr>\n",
       "    <tr>\n",
       "      <td>38211</td>\n",
       "      <td>DPR Crowds</td>\n",
       "      <td>2020-06-10 07:48:43</td>\n",
       "      <td>Q099</td>\n",
       "      <td>Q099</td>\n",
       "      <td>Q099-ZN09</td>\n",
       "      <td>Flushing Meadows Park-North Of Fountain Of The...</td>\n",
       "      <td>Queens</td>\n",
       "      <td>NaN</td>\n",
       "      <td>DPR</td>\n",
       "      <td>NaN</td>\n",
       "      <td>Soccer field</td>\n",
       "      <td>25.0</td>\n",
       "      <td>NaN</td>\n",
       "      <td>NaN</td>\n",
       "      <td>481</td>\n",
       "    </tr>\n",
       "    <tr>\n",
       "      <td>38212</td>\n",
       "      <td>DPR Crowds</td>\n",
       "      <td>2020-06-10 07:48:04</td>\n",
       "      <td>Q300</td>\n",
       "      <td>Q300</td>\n",
       "      <td>Q099-ZN17</td>\n",
       "      <td>Flushing Meadows Park-College Point Blvd Socce...</td>\n",
       "      <td>Queens</td>\n",
       "      <td>NaN</td>\n",
       "      <td>DPR</td>\n",
       "      <td>NaN</td>\n",
       "      <td>Soccer field</td>\n",
       "      <td>34.0</td>\n",
       "      <td>109</td>\n",
       "      <td>Queens North</td>\n",
       "      <td>407</td>\n",
       "    </tr>\n",
       "    <tr>\n",
       "      <td>38213</td>\n",
       "      <td>DPR Crowds</td>\n",
       "      <td>2020-06-10 07:47:43</td>\n",
       "      <td>Q099</td>\n",
       "      <td>Q099</td>\n",
       "      <td>Q099-ZN16</td>\n",
       "      <td>Flushing Meadows Park-Ftn Of Planets &amp; Ftn Of ...</td>\n",
       "      <td>Queens</td>\n",
       "      <td>NaN</td>\n",
       "      <td>DPR</td>\n",
       "      <td>NaN</td>\n",
       "      <td>Soccer field</td>\n",
       "      <td>30.0</td>\n",
       "      <td>110</td>\n",
       "      <td>Queens North</td>\n",
       "      <td>481</td>\n",
       "    </tr>\n",
       "  </tbody>\n",
       "</table>\n",
       "</div>"
      ],
      "text/plain": [
       "      source_survey  encounter_datetime gispropnum reported_as    site_id  \\\n",
       "38209    DPR Crowds 2020-06-10 10:29:05       Q024        Q024    Q024-03   \n",
       "38210    DPR Crowds 2020-06-10 07:49:05       Q099        Q099  Q099-ZN15   \n",
       "38211    DPR Crowds 2020-06-10 07:48:43       Q099        Q099  Q099-ZN09   \n",
       "38212    DPR Crowds 2020-06-10 07:48:04       Q300        Q300  Q099-ZN17   \n",
       "38213    DPR Crowds 2020-06-10 07:47:43       Q099        Q099  Q099-ZN16   \n",
       "\n",
       "                                               site_desc park_borough  \\\n",
       "38209                 Kissena Park-Four Winds Playground       Queens   \n",
       "38210                   Flushing Meadows Park-South Lawn       Queens   \n",
       "38211  Flushing Meadows Park-North Of Fountain Of The...       Queens   \n",
       "38212  Flushing Meadows Park-College Point Blvd Socce...       Queens   \n",
       "38213  Flushing Meadows Park-Ftn Of Planets & Ftn Of ...       Queens   \n",
       "\n",
       "      location_adddesc city_agency encounter_type        amenity  patroncount  \\\n",
       "38209              NaN         DPR            NaN  Handall court          4.0   \n",
       "38210              NaN         DPR            NaN   Soccer field         23.0   \n",
       "38211              NaN         DPR            NaN   Soccer field         25.0   \n",
       "38212              NaN         DPR            NaN   Soccer field         34.0   \n",
       "38213              NaN         DPR            NaN   Soccer field         30.0   \n",
       "\n",
       "      police_precinct  police_boro_com communityboard  \n",
       "38209             109     Queens North            407  \n",
       "38210               6  Manhattan South            481  \n",
       "38211             NaN              NaN            481  \n",
       "38212             109     Queens North            407  \n",
       "38213             110     Queens North            481  "
      ]
     },
     "execution_count": 7,
     "metadata": {},
     "output_type": "execute_result"
    }
   ],
   "source": [
    "consolidated_sql.tail()"
   ]
  },
  {
   "cell_type": "code",
   "execution_count": 8,
   "metadata": {},
   "outputs": [],
   "source": [
    "scope = ['https://spreadsheets.google.com/feeds',\n",
    "         'https://www.googleapis.com/auth/drive']\n",
    "creds = ServiceAccountCredentials.from_json_keyfile_name(cred_file, scope)\n",
    "client = gspread.authorize(creds)"
   ]
  },
  {
   "cell_type": "code",
   "execution_count": 9,
   "metadata": {},
   "outputs": [],
   "source": [
    "sheet = client.open('consolidated_social_distancing_data')"
   ]
  },
  {
   "cell_type": "code",
   "execution_count": 10,
   "metadata": {},
   "outputs": [],
   "source": [
    "ws = sheet.worksheet('Data')"
   ]
  },
  {
   "cell_type": "code",
   "execution_count": 11,
   "metadata": {},
   "outputs": [],
   "source": [
    "set_with_dataframe(ws, consolidated_sql, include_index = False, \n",
    "                   include_column_header = True, resize = True, allow_formulas = False)"
   ]
  }
 ],
 "metadata": {
  "kernelspec": {
   "display_name": "Python 3",
   "language": "python",
   "name": "python3"
  },
  "language_info": {
   "codemirror_mode": {
    "name": "ipython",
    "version": 3
   },
   "file_extension": ".py",
   "mimetype": "text/x-python",
   "name": "python",
   "nbconvert_exporter": "python",
   "pygments_lexer": "ipython3",
   "version": "3.7.4"
  }
 },
 "nbformat": 4,
 "nbformat_minor": 2
}
