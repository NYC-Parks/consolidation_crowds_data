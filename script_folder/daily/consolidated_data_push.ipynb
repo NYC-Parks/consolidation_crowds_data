{
 "cells": [
  {
   "cell_type": "code",
   "execution_count": 1,
   "metadata": {},
   "outputs": [],
   "source": [
    "#Import required libraries\n",
    "import gspread\n",
    "import sys\n",
    "#from oauth2client.service_account import ServiceAccountCredentials\n",
    "from google.auth.transport.requests import AuthorizedSession\n",
    "from google.oauth2 import service_account\n",
    "import pandas as pd\n",
    "import numpy as np\n",
    "import urllib\n",
    "import sqlalchemy\n",
    "from gspread_dataframe import set_with_dataframe\n",
    "from gspread_dataframe import get_as_dataframe"
   ]
  },
  {
   "cell_type": "code",
   "execution_count": 2,
   "metadata": {},
   "outputs": [
    {
     "name": "stderr",
     "output_type": "stream",
     "text": [
      "C:\\ProgramData\\Anaconda3\\lib\\site-packages\\authlib\\client\\__init__.py:12: AuthlibDeprecationWarning: Deprecate \"authlib.client\", USE \"authlib.integrations.requests_client\" instead.\n",
      "It will be compatible before version 1.0.\n",
      "Read more <https://git.io/Jeclj#file-rn-md>\n",
      "  deprecate('Deprecate \"authlib.client\", USE \"authlib.integrations.requests_client\" instead.', '1.0', 'Jeclj', 'rn')\n"
     ]
    }
   ],
   "source": [
    "#Import shared functions\n",
    "sys.path.append('..')\n",
    "from IPM_Shared_Code_public.Python.google_creds_functions import create_assertion_session\n",
    "from IPM_Shared_Code_public.Python.utils import get_config\n",
    "from IPM_Shared_Code_public.Python.delta_functions import *\n",
    "from IPM_Shared_Code_public.Python.sql_functions import *"
   ]
  },
  {
   "cell_type": "markdown",
   "metadata": {},
   "source": [
    "### Use the config file to setup connections"
   ]
  },
  {
   "cell_type": "code",
   "execution_count": 3,
   "metadata": {},
   "outputs": [],
   "source": [
    "config = get_config('c:\\Projects\\config.ini')\n",
    "\n",
    "driver = config['srv']['driver']\n",
    "server = config['srv']['server']\n",
    "dwh = config['db']['crowdsdb']\n",
    "cred_file = config['google']['path_to_file']"
   ]
  },
  {
   "cell_type": "code",
   "execution_count": 4,
   "metadata": {},
   "outputs": [],
   "source": [
    "con_string = 'Driver={' + driver + '};Server=' + server +';Database=' + dwh + ';Trusted_Connection=Yes;'\n",
    "params = urllib.parse.quote_plus(con_string)\n",
    "engine = sqlalchemy.create_engine(\"mssql+pyodbc:///?odbc_connect=%s\" % params)"
   ]
  },
  {
   "cell_type": "markdown",
   "metadata": {},
   "source": [
    "### Send the data to the sheet"
   ]
  },
  {
   "cell_type": "code",
   "execution_count": 5,
   "metadata": {},
   "outputs": [],
   "source": [
    "sql = 'select * from crowdsdb.dbo.vw_consolidated_socialdistancing'"
   ]
  },
  {
   "cell_type": "code",
   "execution_count": 6,
   "metadata": {},
   "outputs": [],
   "source": [
    "consolidated_sql = (pd.read_sql(con = engine, sql = sql)\n",
    "                    .fillna(value = np.nan, axis = 1))"
   ]
  },
  {
   "cell_type": "code",
   "execution_count": 7,
   "metadata": {},
   "outputs": [
    {
     "data": {
      "text/html": [
       "<div>\n",
       "<style scoped>\n",
       "    .dataframe tbody tr th:only-of-type {\n",
       "        vertical-align: middle;\n",
       "    }\n",
       "\n",
       "    .dataframe tbody tr th {\n",
       "        vertical-align: top;\n",
       "    }\n",
       "\n",
       "    .dataframe thead th {\n",
       "        text-align: right;\n",
       "    }\n",
       "</style>\n",
       "<table border=\"1\" class=\"dataframe\">\n",
       "  <thead>\n",
       "    <tr style=\"text-align: right;\">\n",
       "      <th></th>\n",
       "      <th>source_survey</th>\n",
       "      <th>encounter_datetime</th>\n",
       "      <th>gispropnum</th>\n",
       "      <th>reported_as</th>\n",
       "      <th>site_id</th>\n",
       "      <th>site_desc</th>\n",
       "      <th>park_borough</th>\n",
       "      <th>location_adddesc</th>\n",
       "      <th>city_agency</th>\n",
       "      <th>encounter_type</th>\n",
       "      <th>amenity</th>\n",
       "      <th>patroncount</th>\n",
       "      <th>police_precinct</th>\n",
       "      <th>police_boro_com</th>\n",
       "      <th>communityboard</th>\n",
       "    </tr>\n",
       "  </thead>\n",
       "  <tbody>\n",
       "    <tr>\n",
       "      <td>40397</td>\n",
       "      <td>DPR Crowds</td>\n",
       "      <td>2020-06-13 10:54:57</td>\n",
       "      <td>Q051</td>\n",
       "      <td>Q051</td>\n",
       "      <td>Q051</td>\n",
       "      <td>St. Albans Park</td>\n",
       "      <td>Queens</td>\n",
       "      <td>NaN</td>\n",
       "      <td>DPR</td>\n",
       "      <td>NaN</td>\n",
       "      <td>Adult fitness equipment</td>\n",
       "      <td>15.0</td>\n",
       "      <td>113</td>\n",
       "      <td>Queens South</td>\n",
       "      <td>412</td>\n",
       "    </tr>\n",
       "    <tr>\n",
       "      <td>40398</td>\n",
       "      <td>DPR Crowds</td>\n",
       "      <td>2020-06-13 10:38:20</td>\n",
       "      <td>Q300A</td>\n",
       "      <td>Q300A</td>\n",
       "      <td>Q300A-01</td>\n",
       "      <td>Kissena Corridor Park-Underhill Playground</td>\n",
       "      <td>Queens</td>\n",
       "      <td>NaN</td>\n",
       "      <td>DPR</td>\n",
       "      <td>NaN</td>\n",
       "      <td>Playground</td>\n",
       "      <td>50.0</td>\n",
       "      <td>111</td>\n",
       "      <td>Queens North</td>\n",
       "      <td>411</td>\n",
       "    </tr>\n",
       "    <tr>\n",
       "      <td>40399</td>\n",
       "      <td>DPR Crowds</td>\n",
       "      <td>2020-06-13 10:32:48</td>\n",
       "      <td>M077</td>\n",
       "      <td>M077</td>\n",
       "      <td>M077-ZN02</td>\n",
       "      <td>St Nicholas Park Zone 02</td>\n",
       "      <td>Manhattan</td>\n",
       "      <td>NaN</td>\n",
       "      <td>DPR</td>\n",
       "      <td>NaN</td>\n",
       "      <td>Bench/sitting area</td>\n",
       "      <td>18.0</td>\n",
       "      <td>26</td>\n",
       "      <td>Manhattan North</td>\n",
       "      <td>109</td>\n",
       "    </tr>\n",
       "    <tr>\n",
       "      <td>40400</td>\n",
       "      <td>DPR Crowds</td>\n",
       "      <td>2020-06-13 10:07:32</td>\n",
       "      <td>Q015</td>\n",
       "      <td>Q015</td>\n",
       "      <td>Q015-ZN04</td>\n",
       "      <td>Forest Park-Victory Field</td>\n",
       "      <td>Queens</td>\n",
       "      <td>NaN</td>\n",
       "      <td>DPR</td>\n",
       "      <td>NaN</td>\n",
       "      <td>Soccer field</td>\n",
       "      <td>40.0</td>\n",
       "      <td>NaN</td>\n",
       "      <td>NaN</td>\n",
       "      <td>482</td>\n",
       "    </tr>\n",
       "    <tr>\n",
       "      <td>40401</td>\n",
       "      <td>DPR Crowds</td>\n",
       "      <td>2020-06-13 09:31:19</td>\n",
       "      <td>X010A</td>\n",
       "      <td>X010A</td>\n",
       "      <td>X010A</td>\n",
       "      <td>Tremont Park</td>\n",
       "      <td>Bronx</td>\n",
       "      <td>NaN</td>\n",
       "      <td>DPR</td>\n",
       "      <td>NaN</td>\n",
       "      <td>Bench/sitting area</td>\n",
       "      <td>12.0</td>\n",
       "      <td>48</td>\n",
       "      <td>Bronx</td>\n",
       "      <td>206</td>\n",
       "    </tr>\n",
       "  </tbody>\n",
       "</table>\n",
       "</div>"
      ],
      "text/plain": [
       "      source_survey  encounter_datetime gispropnum reported_as    site_id  \\\n",
       "40397    DPR Crowds 2020-06-13 10:54:57       Q051        Q051       Q051   \n",
       "40398    DPR Crowds 2020-06-13 10:38:20      Q300A       Q300A   Q300A-01   \n",
       "40399    DPR Crowds 2020-06-13 10:32:48       M077        M077  M077-ZN02   \n",
       "40400    DPR Crowds 2020-06-13 10:07:32       Q015        Q015  Q015-ZN04   \n",
       "40401    DPR Crowds 2020-06-13 09:31:19      X010A       X010A      X010A   \n",
       "\n",
       "                                        site_desc park_borough  \\\n",
       "40397                             St. Albans Park       Queens   \n",
       "40398  Kissena Corridor Park-Underhill Playground       Queens   \n",
       "40399                    St Nicholas Park Zone 02    Manhattan   \n",
       "40400                   Forest Park-Victory Field       Queens   \n",
       "40401                                Tremont Park        Bronx   \n",
       "\n",
       "      location_adddesc city_agency encounter_type                  amenity  \\\n",
       "40397              NaN         DPR            NaN  Adult fitness equipment   \n",
       "40398              NaN         DPR            NaN               Playground   \n",
       "40399              NaN         DPR            NaN       Bench/sitting area   \n",
       "40400              NaN         DPR            NaN             Soccer field   \n",
       "40401              NaN         DPR            NaN       Bench/sitting area   \n",
       "\n",
       "       patroncount police_precinct  police_boro_com communityboard  \n",
       "40397         15.0             113     Queens South            412  \n",
       "40398         50.0             111     Queens North            411  \n",
       "40399         18.0              26  Manhattan North            109  \n",
       "40400         40.0             NaN              NaN            482  \n",
       "40401         12.0              48            Bronx            206  "
      ]
     },
     "execution_count": 7,
     "metadata": {},
     "output_type": "execute_result"
    }
   ],
   "source": [
    "consolidated_sql.tail()"
   ]
  },
  {
   "cell_type": "code",
   "execution_count": 8,
   "metadata": {},
   "outputs": [],
   "source": [
    "scope = ['https://spreadsheets.google.com/feeds',\n",
    "         'https://www.googleapis.com/auth/drive']\n",
    "#creds = ServiceAccountCredentials.from_json_keyfile_name(cred_file, scope)\n",
    "#client = gspread.authorize(creds)"
   ]
  },
  {
   "cell_type": "code",
   "execution_count": null,
   "metadata": {},
   "outputs": [],
   "source": [
    "creds = service_account.Credentials.from_service_account_file(cred_file).with_scopes(scope)"
   ]
  },
  {
   "cell_type": "code",
   "execution_count": null,
   "metadata": {},
   "outputs": [],
   "source": [
    "authed_session = AuthorizedSession(creds)"
   ]
  },
  {
   "cell_type": "code",
   "execution_count": null,
   "metadata": {},
   "outputs": [],
   "source": [
    "client = gspread.Client(creds, authed_session)"
   ]
  },
  {
   "cell_type": "code",
   "execution_count": 9,
   "metadata": {},
   "outputs": [],
   "source": [
    "sheet = client.open('consolidated_social_distancing_data')"
   ]
  },
  {
   "cell_type": "code",
   "execution_count": 10,
   "metadata": {},
   "outputs": [],
   "source": [
    "ws = sheet.worksheet('Data')"
   ]
  },
  {
   "cell_type": "code",
   "execution_count": 11,
   "metadata": {},
   "outputs": [],
   "source": [
    "set_with_dataframe(ws, consolidated_sql, include_index = False, \n",
    "                   include_column_header = True, resize = True, allow_formulas = False)"
   ]
  }
 ],
 "metadata": {
  "kernelspec": {
   "display_name": "Python 3",
   "language": "python",
   "name": "python3"
  },
  "language_info": {
   "codemirror_mode": {
    "name": "ipython",
    "version": 3
   },
   "file_extension": ".py",
   "mimetype": "text/x-python",
   "name": "python",
   "nbconvert_exporter": "python",
   "pygments_lexer": "ipython3",
   "version": "3.7.4"
  }
 },
 "nbformat": 4,
 "nbformat_minor": 2
}
