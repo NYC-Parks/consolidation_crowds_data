{
 "cells": [
  {
   "cell_type": "code",
   "execution_count": 1,
   "metadata": {},
   "outputs": [],
   "source": [
    "#Import required libraries\n",
    "import gspread\n",
    "import sys\n",
    "from oauth2client.service_account import ServiceAccountCredentials\n",
    "import pandas as pd\n",
    "import numpy as np\n",
    "import urllib\n",
    "import sqlalchemy\n",
    "from gspread_dataframe import set_with_dataframe\n",
    "from gspread_dataframe import get_as_dataframe"
   ]
  },
  {
   "cell_type": "code",
   "execution_count": 2,
   "metadata": {},
   "outputs": [
    {
     "name": "stderr",
     "output_type": "stream",
     "text": [
      "C:\\ProgramData\\Anaconda3\\lib\\site-packages\\authlib\\client\\__init__.py:12: AuthlibDeprecationWarning: Deprecate \"authlib.client\", USE \"authlib.integrations.requests_client\" instead.\n",
      "It will be compatible before version 1.0.\n",
      "Read more <https://git.io/Jeclj#file-rn-md>\n",
      "  deprecate('Deprecate \"authlib.client\", USE \"authlib.integrations.requests_client\" instead.', '1.0', 'Jeclj', 'rn')\n"
     ]
    }
   ],
   "source": [
    "#Import shared functions\n",
    "sys.path.append('../..')\n",
    "from IPM_Shared_Code_public.Python.google_creds_functions import create_assertion_session\n",
    "from IPM_Shared_Code_public.Python.utils import get_config\n",
    "from IPM_Shared_Code_public.Python.delta_functions import *\n",
    "from IPM_Shared_Code_public.Python.sql_functions import *"
   ]
  },
  {
   "cell_type": "markdown",
   "metadata": {},
   "source": [
    "### Use the config file to setup connections"
   ]
  },
  {
   "cell_type": "code",
   "execution_count": 3,
   "metadata": {},
   "outputs": [],
   "source": [
    "config = get_config('c:\\Projects\\config.ini')\n",
    "\n",
    "driver = config['srv']['driver']\n",
    "server = config['srv']['server']\n",
    "dwh = config['db']['crowdsdb']\n",
    "cred_file = config['google']['path_to_file']"
   ]
  },
  {
   "cell_type": "code",
   "execution_count": 4,
   "metadata": {},
   "outputs": [],
   "source": [
    "con_string = 'Driver={' + driver + '};Server=' + server +';Database=' + dwh + ';Trusted_Connection=Yes;'\n",
    "params = urllib.parse.quote_plus(con_string)\n",
    "engine = sqlalchemy.create_engine(\"mssql+pyodbc:///?odbc_connect=%s\" % params)"
   ]
  },
  {
   "cell_type": "markdown",
   "metadata": {},
   "source": [
    "### Send the data to the sheet"
   ]
  },
  {
   "cell_type": "code",
   "execution_count": 5,
   "metadata": {},
   "outputs": [],
   "source": [
    "sql = 'select * from crowdsdb.dbo.vw_consolidated_socialdistancing'"
   ]
  },
  {
   "cell_type": "code",
   "execution_count": 6,
   "metadata": {},
   "outputs": [],
   "source": [
    "consolidated_sql = (pd.read_sql(con = engine, sql = sql)\n",
    "                    .fillna(value = np.nan, axis = 1))"
   ]
  },
  {
   "cell_type": "code",
   "execution_count": 7,
   "metadata": {},
   "outputs": [
    {
     "data": {
      "text/html": [
       "<div>\n",
       "<style scoped>\n",
       "    .dataframe tbody tr th:only-of-type {\n",
       "        vertical-align: middle;\n",
       "    }\n",
       "\n",
       "    .dataframe tbody tr th {\n",
       "        vertical-align: top;\n",
       "    }\n",
       "\n",
       "    .dataframe thead th {\n",
       "        text-align: right;\n",
       "    }\n",
       "</style>\n",
       "<table border=\"1\" class=\"dataframe\">\n",
       "  <thead>\n",
       "    <tr style=\"text-align: right;\">\n",
       "      <th></th>\n",
       "      <th>source_survey</th>\n",
       "      <th>encounter_datetime</th>\n",
       "      <th>gispropnum</th>\n",
       "      <th>reported_as</th>\n",
       "      <th>site_id</th>\n",
       "      <th>site_desc</th>\n",
       "      <th>park_borough</th>\n",
       "      <th>location_adddesc</th>\n",
       "      <th>city_agency</th>\n",
       "      <th>encounter_type</th>\n",
       "      <th>amenity</th>\n",
       "      <th>patroncount</th>\n",
       "      <th>police_precinct</th>\n",
       "      <th>police_boro_com</th>\n",
       "      <th>communityboard</th>\n",
       "    </tr>\n",
       "  </thead>\n",
       "  <tbody>\n",
       "    <tr>\n",
       "      <td>36510</td>\n",
       "      <td>DPR Crowds</td>\n",
       "      <td>2020-06-08 15:03:24</td>\n",
       "      <td>M089</td>\n",
       "      <td>M089</td>\n",
       "      <td>M089</td>\n",
       "      <td>Union Square Park</td>\n",
       "      <td>Manhattan</td>\n",
       "      <td>NaN</td>\n",
       "      <td>DPR</td>\n",
       "      <td>NaN</td>\n",
       "      <td>Walking path</td>\n",
       "      <td>6.0</td>\n",
       "      <td>13</td>\n",
       "      <td>Manhattan South</td>\n",
       "      <td>105</td>\n",
       "    </tr>\n",
       "    <tr>\n",
       "      <td>36511</td>\n",
       "      <td>DPR Crowds</td>\n",
       "      <td>2020-06-08 14:52:39</td>\n",
       "      <td>M144</td>\n",
       "      <td>M144</td>\n",
       "      <td>M144-ZN02</td>\n",
       "      <td>John V. Lindsay - East River Park-East River P...</td>\n",
       "      <td>Manhattan</td>\n",
       "      <td>NaN</td>\n",
       "      <td>DPR</td>\n",
       "      <td>NaN</td>\n",
       "      <td>Open field/multi-purpose play area</td>\n",
       "      <td>10.0</td>\n",
       "      <td>NaN</td>\n",
       "      <td>NaN</td>\n",
       "      <td>103</td>\n",
       "    </tr>\n",
       "    <tr>\n",
       "      <td>36512</td>\n",
       "      <td>DPR Crowds</td>\n",
       "      <td>2020-06-08 14:51:33</td>\n",
       "      <td>M144</td>\n",
       "      <td>M144</td>\n",
       "      <td>M144-ZN06</td>\n",
       "      <td>John V. Lindsay - East River Park-East River P...</td>\n",
       "      <td>Manhattan</td>\n",
       "      <td>NaN</td>\n",
       "      <td>DPR</td>\n",
       "      <td>NaN</td>\n",
       "      <td>Adult fitness equipment</td>\n",
       "      <td>17.0</td>\n",
       "      <td>9</td>\n",
       "      <td>Manhattan South</td>\n",
       "      <td>103</td>\n",
       "    </tr>\n",
       "    <tr>\n",
       "      <td>36513</td>\n",
       "      <td>DPR Crowds</td>\n",
       "      <td>2020-06-08 14:50:45</td>\n",
       "      <td>M144</td>\n",
       "      <td>M144</td>\n",
       "      <td>M144-ZN04</td>\n",
       "      <td>John V. Lindsay - East River Park-East River P...</td>\n",
       "      <td>Manhattan</td>\n",
       "      <td>NaN</td>\n",
       "      <td>DPR</td>\n",
       "      <td>NaN</td>\n",
       "      <td>Open field/multi-purpose play area</td>\n",
       "      <td>15.0</td>\n",
       "      <td>NaN</td>\n",
       "      <td>NaN</td>\n",
       "      <td>103</td>\n",
       "    </tr>\n",
       "    <tr>\n",
       "      <td>36514</td>\n",
       "      <td>DPR Crowds</td>\n",
       "      <td>2020-06-08 12:09:40</td>\n",
       "      <td>B026</td>\n",
       "      <td>B026</td>\n",
       "      <td>B026</td>\n",
       "      <td>Cuyler Gore Park</td>\n",
       "      <td>Brooklyn</td>\n",
       "      <td>NaN</td>\n",
       "      <td>DPR</td>\n",
       "      <td>NaN</td>\n",
       "      <td>Playground</td>\n",
       "      <td>10.0</td>\n",
       "      <td>88</td>\n",
       "      <td>Brooklyn North</td>\n",
       "      <td>302</td>\n",
       "    </tr>\n",
       "  </tbody>\n",
       "</table>\n",
       "</div>"
      ],
      "text/plain": [
       "      source_survey  encounter_datetime gispropnum reported_as    site_id  \\\n",
       "36510    DPR Crowds 2020-06-08 15:03:24       M089        M089       M089   \n",
       "36511    DPR Crowds 2020-06-08 14:52:39       M144        M144  M144-ZN02   \n",
       "36512    DPR Crowds 2020-06-08 14:51:33       M144        M144  M144-ZN06   \n",
       "36513    DPR Crowds 2020-06-08 14:50:45       M144        M144  M144-ZN04   \n",
       "36514    DPR Crowds 2020-06-08 12:09:40       B026        B026       B026   \n",
       "\n",
       "                                               site_desc park_borough  \\\n",
       "36510                                  Union Square Park    Manhattan   \n",
       "36511  John V. Lindsay - East River Park-East River P...    Manhattan   \n",
       "36512  John V. Lindsay - East River Park-East River P...    Manhattan   \n",
       "36513  John V. Lindsay - East River Park-East River P...    Manhattan   \n",
       "36514                                   Cuyler Gore Park     Brooklyn   \n",
       "\n",
       "      location_adddesc city_agency encounter_type  \\\n",
       "36510              NaN         DPR            NaN   \n",
       "36511              NaN         DPR            NaN   \n",
       "36512              NaN         DPR            NaN   \n",
       "36513              NaN         DPR            NaN   \n",
       "36514              NaN         DPR            NaN   \n",
       "\n",
       "                                  amenity  patroncount police_precinct  \\\n",
       "36510                        Walking path          6.0              13   \n",
       "36511  Open field/multi-purpose play area         10.0             NaN   \n",
       "36512             Adult fitness equipment         17.0               9   \n",
       "36513  Open field/multi-purpose play area         15.0             NaN   \n",
       "36514                          Playground         10.0              88   \n",
       "\n",
       "       police_boro_com communityboard  \n",
       "36510  Manhattan South            105  \n",
       "36511              NaN            103  \n",
       "36512  Manhattan South            103  \n",
       "36513              NaN            103  \n",
       "36514   Brooklyn North            302  "
      ]
     },
     "execution_count": 7,
     "metadata": {},
     "output_type": "execute_result"
    }
   ],
   "source": [
    "consolidated_sql.tail()"
   ]
  },
  {
   "cell_type": "code",
   "execution_count": 8,
   "metadata": {},
   "outputs": [],
   "source": [
    "scope = ['https://spreadsheets.google.com/feeds',\n",
    "         'https://www.googleapis.com/auth/drive']\n",
    "creds = ServiceAccountCredentials.from_json_keyfile_name(cred_file, scope)\n",
    "client = gspread.authorize(creds)"
   ]
  },
  {
   "cell_type": "code",
   "execution_count": 9,
   "metadata": {},
   "outputs": [],
   "source": [
    "sheet = client.open('consolidated_social_distancing_data')"
   ]
  },
  {
   "cell_type": "code",
   "execution_count": 10,
   "metadata": {},
   "outputs": [],
   "source": [
    "ws = sheet.worksheet('Data')"
   ]
  },
  {
   "cell_type": "code",
   "execution_count": 11,
   "metadata": {},
   "outputs": [],
   "source": [
    "set_with_dataframe(ws, consolidated_sql, include_index = False, \n",
    "                   include_column_header = True, resize = True, allow_formulas = False)"
   ]
  }
 ],
 "metadata": {
  "kernelspec": {
   "display_name": "Python 3",
   "language": "python",
   "name": "python3"
  },
  "language_info": {
   "codemirror_mode": {
    "name": "ipython",
    "version": 3
   },
   "file_extension": ".py",
   "mimetype": "text/x-python",
   "name": "python",
   "nbconvert_exporter": "python",
   "pygments_lexer": "ipython3",
   "version": "3.7.4"
  }
 },
 "nbformat": 4,
 "nbformat_minor": 2
}
