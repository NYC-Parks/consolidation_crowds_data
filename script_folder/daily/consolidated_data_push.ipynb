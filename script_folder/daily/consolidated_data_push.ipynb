{
 "cells": [
  {
   "cell_type": "code",
   "execution_count": 11,
   "metadata": {},
   "outputs": [],
   "source": [
    "#Import required libraries\n",
    "import gspread\n",
    "import sys\n",
    "from oauth2client.service_account import ServiceAccountCredentials\n",
    "import pandas as pd\n",
    "import numpy as np\n",
    "import urllib\n",
    "import sqlalchemy\n",
    "from gspread_dataframe import set_with_dataframe\n",
    "from gspread_dataframe import get_as_dataframe"
   ]
  },
  {
   "cell_type": "code",
   "execution_count": 12,
   "metadata": {},
   "outputs": [],
   "source": [
    "#Import shared functions\n",
    "sys.path.append('../..')\n",
    "from IPM_Shared_Code_public.Python.google_creds_functions import create_assertion_session\n",
    "from IPM_Shared_Code_public.Python.utils import get_config\n",
    "from IPM_Shared_Code_public.Python.delta_functions import *\n",
    "from IPM_Shared_Code_public.Python.sql_functions import *"
   ]
  },
  {
   "cell_type": "markdown",
   "metadata": {},
   "source": [
    "### Use the config file to setup connections"
   ]
  },
  {
   "cell_type": "code",
   "execution_count": 13,
   "metadata": {},
   "outputs": [],
   "source": [
    "config = get_config('c:\\Projects\\config.ini')\n",
    "\n",
    "driver = config['srv']['driver']\n",
    "server = config['srv']['server']\n",
    "dwh = config['db']['crowdsdb']\n",
    "cred_file = config['google']['path_to_file']"
   ]
  },
  {
   "cell_type": "code",
   "execution_count": 14,
   "metadata": {},
   "outputs": [],
   "source": [
    "con_string = 'Driver={' + driver + '};Server=' + server +';Database=' + dwh + ';Trusted_Connection=Yes;'\n",
    "params = urllib.parse.quote_plus(con_string)\n",
    "engine = sqlalchemy.create_engine(\"mssql+pyodbc:///?odbc_connect=%s\" % params)"
   ]
  },
  {
   "cell_type": "markdown",
   "metadata": {},
   "source": [
    "### Send the data to the sheet"
   ]
  },
  {
   "cell_type": "code",
   "execution_count": 15,
   "metadata": {},
   "outputs": [],
   "source": [
    "sql = 'select * from crowdsdb.dbo.vw_consolidated_socialdistancing'"
   ]
  },
  {
   "cell_type": "code",
   "execution_count": 16,
   "metadata": {},
   "outputs": [],
   "source": [
    "consolidated_sql = (pd.read_sql(con = engine, sql = sql)\n",
    "                    .fillna(value = np.nan, axis = 1))"
   ]
  },
  {
   "cell_type": "code",
   "execution_count": 17,
   "metadata": {},
   "outputs": [
    {
     "data": {
      "text/html": [
       "<div>\n",
       "<style scoped>\n",
       "    .dataframe tbody tr th:only-of-type {\n",
       "        vertical-align: middle;\n",
       "    }\n",
       "\n",
       "    .dataframe tbody tr th {\n",
       "        vertical-align: top;\n",
       "    }\n",
       "\n",
       "    .dataframe thead th {\n",
       "        text-align: right;\n",
       "    }\n",
       "</style>\n",
       "<table border=\"1\" class=\"dataframe\">\n",
       "  <thead>\n",
       "    <tr style=\"text-align: right;\">\n",
       "      <th></th>\n",
       "      <th>source_survey</th>\n",
       "      <th>encounter_datetime</th>\n",
       "      <th>gispropnum</th>\n",
       "      <th>reported_as</th>\n",
       "      <th>site_id</th>\n",
       "      <th>site_desc</th>\n",
       "      <th>park_borough</th>\n",
       "      <th>location_adddesc</th>\n",
       "      <th>city_agency</th>\n",
       "      <th>encounter_type</th>\n",
       "      <th>amenity</th>\n",
       "      <th>patroncount</th>\n",
       "      <th>police_precinct</th>\n",
       "      <th>police_boro_com</th>\n",
       "      <th>communityboard</th>\n",
       "    </tr>\n",
       "  </thead>\n",
       "  <tbody>\n",
       "    <tr>\n",
       "      <td>35449</td>\n",
       "      <td>DPR Crowds</td>\n",
       "      <td>2020-06-06 11:09:43</td>\n",
       "      <td>M144</td>\n",
       "      <td>M144</td>\n",
       "      <td>M144-ZN05</td>\n",
       "      <td>John V. Lindsay - East River Park-East River P...</td>\n",
       "      <td>Manhattan</td>\n",
       "      <td>NaN</td>\n",
       "      <td>DPR</td>\n",
       "      <td>NaN</td>\n",
       "      <td>Baseball field</td>\n",
       "      <td>17.0</td>\n",
       "      <td>9</td>\n",
       "      <td>Manhattan South</td>\n",
       "      <td>103</td>\n",
       "    </tr>\n",
       "    <tr>\n",
       "      <td>35450</td>\n",
       "      <td>DPR Crowds</td>\n",
       "      <td>2020-06-06 10:58:32</td>\n",
       "      <td>R022</td>\n",
       "      <td>R022</td>\n",
       "      <td>R022</td>\n",
       "      <td>Silver Lake Park</td>\n",
       "      <td>Staten Island</td>\n",
       "      <td>NaN</td>\n",
       "      <td>DPR</td>\n",
       "      <td>NaN</td>\n",
       "      <td>Open field/multi-purpose play area</td>\n",
       "      <td>25.0</td>\n",
       "      <td>120</td>\n",
       "      <td>Staten Island</td>\n",
       "      <td>501</td>\n",
       "    </tr>\n",
       "    <tr>\n",
       "      <td>35451</td>\n",
       "      <td>DPR Crowds</td>\n",
       "      <td>2020-06-06 10:37:52</td>\n",
       "      <td>Q300</td>\n",
       "      <td>Q300</td>\n",
       "      <td>Q300-05</td>\n",
       "      <td>Kissena Corridor Park-Rachel Carson Playground</td>\n",
       "      <td>Queens</td>\n",
       "      <td>NaN</td>\n",
       "      <td>DPR</td>\n",
       "      <td>NaN</td>\n",
       "      <td>Track/field area</td>\n",
       "      <td>12.0</td>\n",
       "      <td>109</td>\n",
       "      <td>Queens North</td>\n",
       "      <td>407</td>\n",
       "    </tr>\n",
       "    <tr>\n",
       "      <td>35452</td>\n",
       "      <td>DPR Crowds</td>\n",
       "      <td>2020-06-06 10:36:29</td>\n",
       "      <td>Q300</td>\n",
       "      <td>Q300</td>\n",
       "      <td>Q300-03</td>\n",
       "      <td>Kissena Corridor Park-Silent Springs Playground</td>\n",
       "      <td>Queens</td>\n",
       "      <td>NaN</td>\n",
       "      <td>DPR</td>\n",
       "      <td>NaN</td>\n",
       "      <td>Playground</td>\n",
       "      <td>19.0</td>\n",
       "      <td>109</td>\n",
       "      <td>Queens North</td>\n",
       "      <td>407</td>\n",
       "    </tr>\n",
       "    <tr>\n",
       "      <td>35453</td>\n",
       "      <td>DPR Crowds</td>\n",
       "      <td>2020-06-06 08:06:00</td>\n",
       "      <td>M011</td>\n",
       "      <td>M011</td>\n",
       "      <td>M011</td>\n",
       "      <td>Chelsea Park</td>\n",
       "      <td>Manhattan</td>\n",
       "      <td>NaN</td>\n",
       "      <td>DPR</td>\n",
       "      <td>NaN</td>\n",
       "      <td>Basketball court</td>\n",
       "      <td>14.0</td>\n",
       "      <td>10</td>\n",
       "      <td>Manhattan South</td>\n",
       "      <td>104</td>\n",
       "    </tr>\n",
       "  </tbody>\n",
       "</table>\n",
       "</div>"
      ],
      "text/plain": [
       "      source_survey  encounter_datetime gispropnum reported_as    site_id  \\\n",
       "35449    DPR Crowds 2020-06-06 11:09:43       M144        M144  M144-ZN05   \n",
       "35450    DPR Crowds 2020-06-06 10:58:32       R022        R022       R022   \n",
       "35451    DPR Crowds 2020-06-06 10:37:52       Q300        Q300    Q300-05   \n",
       "35452    DPR Crowds 2020-06-06 10:36:29       Q300        Q300    Q300-03   \n",
       "35453    DPR Crowds 2020-06-06 08:06:00       M011        M011       M011   \n",
       "\n",
       "                                               site_desc   park_borough  \\\n",
       "35449  John V. Lindsay - East River Park-East River P...      Manhattan   \n",
       "35450                                   Silver Lake Park  Staten Island   \n",
       "35451     Kissena Corridor Park-Rachel Carson Playground         Queens   \n",
       "35452    Kissena Corridor Park-Silent Springs Playground         Queens   \n",
       "35453                                       Chelsea Park      Manhattan   \n",
       "\n",
       "      location_adddesc city_agency encounter_type  \\\n",
       "35449              NaN         DPR            NaN   \n",
       "35450              NaN         DPR            NaN   \n",
       "35451              NaN         DPR            NaN   \n",
       "35452              NaN         DPR            NaN   \n",
       "35453              NaN         DPR            NaN   \n",
       "\n",
       "                                  amenity  patroncount police_precinct  \\\n",
       "35449                      Baseball field         17.0               9   \n",
       "35450  Open field/multi-purpose play area         25.0             120   \n",
       "35451                    Track/field area         12.0             109   \n",
       "35452                          Playground         19.0             109   \n",
       "35453                    Basketball court         14.0              10   \n",
       "\n",
       "       police_boro_com communityboard  \n",
       "35449  Manhattan South            103  \n",
       "35450    Staten Island            501  \n",
       "35451     Queens North            407  \n",
       "35452     Queens North            407  \n",
       "35453  Manhattan South            104  "
      ]
     },
     "execution_count": 17,
     "metadata": {},
     "output_type": "execute_result"
    }
   ],
   "source": [
    "consolidated_sql.tail()"
   ]
  },
  {
   "cell_type": "code",
   "execution_count": 18,
   "metadata": {},
   "outputs": [],
   "source": [
    "scope = ['https://spreadsheets.google.com/feeds',\n",
    "         'https://www.googleapis.com/auth/drive']\n",
    "creds = ServiceAccountCredentials.from_json_keyfile_name(cred_file, scope)\n",
    "client = gspread.authorize(creds)"
   ]
  },
  {
   "cell_type": "code",
   "execution_count": 19,
   "metadata": {},
   "outputs": [],
   "source": [
    "sheet = client.open('consolidated_social_distancing_data')"
   ]
  },
  {
   "cell_type": "code",
   "execution_count": 20,
   "metadata": {},
   "outputs": [],
   "source": [
    "ws = sheet.worksheet('Data')"
   ]
  },
  {
   "cell_type": "code",
   "execution_count": 21,
   "metadata": {},
   "outputs": [],
   "source": [
    "set_with_dataframe(ws, consolidated_sql, include_index = False, \n",
    "                   include_column_header = True, resize = True, allow_formulas = False)"
   ]
  }
 ],
 "metadata": {
  "kernelspec": {
   "display_name": "Python 3",
   "language": "python",
   "name": "python3"
  },
  "language_info": {
   "codemirror_mode": {
    "name": "ipython",
    "version": 3
   },
   "file_extension": ".py",
   "mimetype": "text/x-python",
   "name": "python",
   "nbconvert_exporter": "python",
   "pygments_lexer": "ipython3",
   "version": "3.7.4"
  }
 },
 "nbformat": 4,
 "nbformat_minor": 2
}
