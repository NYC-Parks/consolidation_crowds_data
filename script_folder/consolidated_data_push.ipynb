{
 "cells": [
  {
   "cell_type": "code",
   "execution_count": 1,
   "metadata": {},
   "outputs": [],
   "source": [
    "#Import required libraries\n",
    "import gspread\n",
    "import sys\n",
    "from oauth2client.service_account import ServiceAccountCredentials\n",
    "import pandas as pd\n",
    "import numpy as np\n",
    "import urllib\n",
    "import sqlalchemy\n",
    "from gspread_dataframe import set_with_dataframe\n",
    "from gspread_dataframe import get_as_dataframe"
   ]
  },
  {
   "cell_type": "code",
   "execution_count": 2,
   "metadata": {},
   "outputs": [
    {
     "name": "stderr",
     "output_type": "stream",
     "text": [
      "C:\\ProgramData\\Anaconda3\\lib\\site-packages\\authlib\\client\\__init__.py:12: AuthlibDeprecationWarning: Deprecate \"authlib.client\", USE \"authlib.integrations.requests_client\" instead.\n",
      "It will be compatible before version 1.0.\n",
      "Read more <https://git.io/Jeclj#file-rn-md>\n",
      "  deprecate('Deprecate \"authlib.client\", USE \"authlib.integrations.requests_client\" instead.', '1.0', 'Jeclj', 'rn')\n"
     ]
    }
   ],
   "source": [
    "#Import shared functions\n",
    "sys.path.append('../..')\n",
    "from IPM_Shared_Code_public.Python.google_creds_functions import create_assertion_session\n",
    "from IPM_Shared_Code_public.Python.utils import get_config\n",
    "from IPM_Shared_Code_public.Python.delta_functions import *\n",
    "from IPM_Shared_Code_public.Python.sql_functions import *"
   ]
  },
  {
   "cell_type": "markdown",
   "metadata": {},
   "source": [
    "### Use the config file to setup connections"
   ]
  },
  {
   "cell_type": "code",
   "execution_count": 3,
   "metadata": {},
   "outputs": [],
   "source": [
    "config = get_config('c:\\Projects\\config.ini')\n",
    "\n",
    "driver = config['srv']['driver']\n",
    "server = config['srv']['server']\n",
    "dwh = config['db']['crowdsdb']\n",
    "cred_file = config['google']['path_to_file']"
   ]
  },
  {
   "cell_type": "code",
   "execution_count": 4,
   "metadata": {},
   "outputs": [],
   "source": [
    "con_string = 'Driver={' + driver + '};Server=' + server +';Database=' + dwh + ';Trusted_Connection=Yes;'\n",
    "params = urllib.parse.quote_plus(con_string)\n",
    "engine = sqlalchemy.create_engine(\"mssql+pyodbc:///?odbc_connect=%s\" % params)"
   ]
  },
  {
   "cell_type": "markdown",
   "metadata": {},
   "source": [
    "### Send the data to the sheet"
   ]
  },
  {
   "cell_type": "code",
   "execution_count": 12,
   "metadata": {},
   "outputs": [],
   "source": [
    "sql = 'select * from crowdsdb.dbo.vw_consolidated_socialdistancing'"
   ]
  },
  {
   "cell_type": "code",
   "execution_count": 13,
   "metadata": {},
   "outputs": [],
   "source": [
    "consolidated_sql = (pd.read_sql(con = engine, sql = sql)\n",
    "                    .fillna(value = np.nan, axis = 1))"
   ]
  },
  {
   "cell_type": "code",
   "execution_count": 14,
   "metadata": {},
   "outputs": [
    {
     "data": {
      "text/html": [
       "<div>\n",
       "<style scoped>\n",
       "    .dataframe tbody tr th:only-of-type {\n",
       "        vertical-align: middle;\n",
       "    }\n",
       "\n",
       "    .dataframe tbody tr th {\n",
       "        vertical-align: top;\n",
       "    }\n",
       "\n",
       "    .dataframe thead th {\n",
       "        text-align: right;\n",
       "    }\n",
       "</style>\n",
       "<table border=\"1\" class=\"dataframe\">\n",
       "  <thead>\n",
       "    <tr style=\"text-align: right;\">\n",
       "      <th></th>\n",
       "      <th>source_survey</th>\n",
       "      <th>encounter_datetime</th>\n",
       "      <th>gispropnum</th>\n",
       "      <th>reported_as</th>\n",
       "      <th>site_id</th>\n",
       "      <th>site_desc</th>\n",
       "      <th>park_borough</th>\n",
       "      <th>location_adddesc</th>\n",
       "      <th>city_agency</th>\n",
       "      <th>encounter_type</th>\n",
       "      <th>amenity</th>\n",
       "      <th>patroncount</th>\n",
       "      <th>police_precinct</th>\n",
       "      <th>police_boro_com</th>\n",
       "    </tr>\n",
       "  </thead>\n",
       "  <tbody>\n",
       "    <tr>\n",
       "      <td>27490</td>\n",
       "      <td>DPR Crowds</td>\n",
       "      <td>2020-03-25 10:54:28</td>\n",
       "      <td>R005</td>\n",
       "      <td>R005</td>\n",
       "      <td>R005-ZN01</td>\n",
       "      <td>Clove Lakes Park Zone 1</td>\n",
       "      <td>Staten Island</td>\n",
       "      <td>NaN</td>\n",
       "      <td>DPR</td>\n",
       "      <td>NaN</td>\n",
       "      <td>NaN</td>\n",
       "      <td>10.0</td>\n",
       "      <td>120</td>\n",
       "      <td>Staten Island</td>\n",
       "    </tr>\n",
       "    <tr>\n",
       "      <td>27491</td>\n",
       "      <td>DPR Crowds</td>\n",
       "      <td>2020-03-25 10:49:53</td>\n",
       "      <td>R005</td>\n",
       "      <td>R005</td>\n",
       "      <td>R005</td>\n",
       "      <td>Clove Lakes Park</td>\n",
       "      <td>Staten Island</td>\n",
       "      <td>NaN</td>\n",
       "      <td>DPR</td>\n",
       "      <td>NaN</td>\n",
       "      <td>NaN</td>\n",
       "      <td>6.0</td>\n",
       "      <td>120</td>\n",
       "      <td>Staten Island</td>\n",
       "    </tr>\n",
       "    <tr>\n",
       "      <td>27492</td>\n",
       "      <td>DPR Crowds</td>\n",
       "      <td>2020-03-25 10:49:03</td>\n",
       "      <td>R045</td>\n",
       "      <td>R045</td>\n",
       "      <td>R045-01</td>\n",
       "      <td>Schmul Park-Schmul Park</td>\n",
       "      <td>Staten Island</td>\n",
       "      <td>NaN</td>\n",
       "      <td>DPR</td>\n",
       "      <td>NaN</td>\n",
       "      <td>NaN</td>\n",
       "      <td>8.0</td>\n",
       "      <td>122</td>\n",
       "      <td>Staten Island</td>\n",
       "    </tr>\n",
       "    <tr>\n",
       "      <td>27493</td>\n",
       "      <td>DPR Crowds</td>\n",
       "      <td>2020-03-25 10:44:20</td>\n",
       "      <td>NaN</td>\n",
       "      <td>NaN</td>\n",
       "      <td>R030-99</td>\n",
       "      <td>NaN</td>\n",
       "      <td>NaN</td>\n",
       "      <td>NaN</td>\n",
       "      <td>DPR</td>\n",
       "      <td>NaN</td>\n",
       "      <td>NaN</td>\n",
       "      <td>18.0</td>\n",
       "      <td>NaN</td>\n",
       "      <td>NaN</td>\n",
       "    </tr>\n",
       "    <tr>\n",
       "      <td>27494</td>\n",
       "      <td>DPR Crowds</td>\n",
       "      <td>2020-03-25 08:07:40</td>\n",
       "      <td>M108T01</td>\n",
       "      <td>M108T01</td>\n",
       "      <td>M108T01</td>\n",
       "      <td>East River Esplanade</td>\n",
       "      <td>Manhattan</td>\n",
       "      <td>NaN</td>\n",
       "      <td>DPR</td>\n",
       "      <td>NaN</td>\n",
       "      <td>NaN</td>\n",
       "      <td>17.0</td>\n",
       "      <td>19</td>\n",
       "      <td>Manhattan North</td>\n",
       "    </tr>\n",
       "  </tbody>\n",
       "</table>\n",
       "</div>"
      ],
      "text/plain": [
       "      source_survey  encounter_datetime gispropnum reported_as    site_id  \\\n",
       "27490    DPR Crowds 2020-03-25 10:54:28       R005        R005  R005-ZN01   \n",
       "27491    DPR Crowds 2020-03-25 10:49:53       R005        R005       R005   \n",
       "27492    DPR Crowds 2020-03-25 10:49:03       R045        R045    R045-01   \n",
       "27493    DPR Crowds 2020-03-25 10:44:20        NaN         NaN    R030-99   \n",
       "27494    DPR Crowds 2020-03-25 08:07:40    M108T01     M108T01    M108T01   \n",
       "\n",
       "                     site_desc   park_borough location_adddesc city_agency  \\\n",
       "27490  Clove Lakes Park Zone 1  Staten Island              NaN         DPR   \n",
       "27491         Clove Lakes Park  Staten Island              NaN         DPR   \n",
       "27492  Schmul Park-Schmul Park  Staten Island              NaN         DPR   \n",
       "27493                      NaN            NaN              NaN         DPR   \n",
       "27494     East River Esplanade      Manhattan              NaN         DPR   \n",
       "\n",
       "      encounter_type amenity  patroncount police_precinct  police_boro_com  \n",
       "27490            NaN     NaN         10.0             120    Staten Island  \n",
       "27491            NaN     NaN          6.0             120    Staten Island  \n",
       "27492            NaN     NaN          8.0             122    Staten Island  \n",
       "27493            NaN     NaN         18.0             NaN              NaN  \n",
       "27494            NaN     NaN         17.0              19  Manhattan North  "
      ]
     },
     "execution_count": 14,
     "metadata": {},
     "output_type": "execute_result"
    }
   ],
   "source": [
    "consolidated_sql.tail()"
   ]
  },
  {
   "cell_type": "code",
   "execution_count": 15,
   "metadata": {},
   "outputs": [],
   "source": [
    "scope = ['https://spreadsheets.google.com/feeds',\n",
    "         'https://www.googleapis.com/auth/drive']\n",
    "creds = ServiceAccountCredentials.from_json_keyfile_name(cred_file, scope)\n",
    "client = gspread.authorize(creds)"
   ]
  },
  {
   "cell_type": "code",
   "execution_count": 16,
   "metadata": {},
   "outputs": [],
   "source": [
    "sheet = client.open('consolidated_social_distancing_data')"
   ]
  },
  {
   "cell_type": "code",
   "execution_count": 17,
   "metadata": {},
   "outputs": [],
   "source": [
    "ws = sheet.worksheet('Sheet1')"
   ]
  },
  {
   "cell_type": "code",
   "execution_count": 18,
   "metadata": {},
   "outputs": [],
   "source": [
    "set_with_dataframe(ws, consolidated_sql, include_index = False, \n",
    "                   include_column_header = True, resize = True, allow_formulas = False)"
   ]
  }
 ],
 "metadata": {
  "kernelspec": {
   "display_name": "Python 3",
   "language": "python",
   "name": "python3"
  },
  "language_info": {
   "codemirror_mode": {
    "name": "ipython",
    "version": 3
   },
   "file_extension": ".py",
   "mimetype": "text/x-python",
   "name": "python",
   "nbconvert_exporter": "python",
   "pygments_lexer": "ipython3",
   "version": "3.7.4"
  }
 },
 "nbformat": 4,
 "nbformat_minor": 2
}
