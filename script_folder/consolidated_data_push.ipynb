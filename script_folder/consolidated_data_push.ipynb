{
 "cells": [
  {
   "cell_type": "code",
   "execution_count": 1,
   "metadata": {},
   "outputs": [],
   "source": [
    "#Import required libraries\n",
    "import gspread\n",
    "import sys\n",
    "from oauth2client.service_account import ServiceAccountCredentials\n",
    "import pandas as pd\n",
    "import numpy as np\n",
    "import urllib\n",
    "import sqlalchemy\n",
    "from gspread_dataframe import set_with_dataframe\n",
    "from gspread_dataframe import get_as_dataframe"
   ]
  },
  {
   "cell_type": "code",
   "execution_count": 2,
   "metadata": {},
   "outputs": [
    {
     "name": "stderr",
     "output_type": "stream",
     "text": [
      "C:\\ProgramData\\Anaconda3\\lib\\site-packages\\authlib\\client\\__init__.py:12: AuthlibDeprecationWarning: Deprecate \"authlib.client\", USE \"authlib.integrations.requests_client\" instead.\n",
      "It will be compatible before version 1.0.\n",
      "Read more <https://git.io/Jeclj#file-rn-md>\n",
      "  deprecate('Deprecate \"authlib.client\", USE \"authlib.integrations.requests_client\" instead.', '1.0', 'Jeclj', 'rn')\n"
     ]
    }
   ],
   "source": [
    "#Import shared functions\n",
    "sys.path.append('../..')\n",
    "from IPM_Shared_Code_public.Python.google_creds_functions import create_assertion_session\n",
    "from IPM_Shared_Code_public.Python.utils import get_config\n",
    "from IPM_Shared_Code_public.Python.delta_functions import *\n",
    "from IPM_Shared_Code_public.Python.sql_functions import *"
   ]
  },
  {
   "cell_type": "markdown",
   "metadata": {},
   "source": [
    "### Use the config file to setup connections"
   ]
  },
  {
   "cell_type": "code",
   "execution_count": 3,
   "metadata": {},
   "outputs": [],
   "source": [
    "config = get_config('c:\\Projects\\config.ini')\n",
    "\n",
    "driver = config['srv']['driver']\n",
    "server = config['srv']['server']\n",
    "dwh = config['db']['crowdsdb']\n",
    "cred_file = config['google']['path_to_file']"
   ]
  },
  {
   "cell_type": "code",
   "execution_count": 4,
   "metadata": {},
   "outputs": [],
   "source": [
    "con_string = 'Driver={' + driver + '};Server=' + server +';Database=' + dwh + ';Trusted_Connection=Yes;'\n",
    "params = urllib.parse.quote_plus(con_string)\n",
    "engine = sqlalchemy.create_engine(\"mssql+pyodbc:///?odbc_connect=%s\" % params)"
   ]
  },
  {
   "cell_type": "markdown",
   "metadata": {},
   "source": [
    "### Send the data to the sheet"
   ]
  },
  {
   "cell_type": "code",
   "execution_count": 5,
   "metadata": {},
   "outputs": [],
   "source": [
    "sql = 'select * from crowdsdb.dbo.vw_consolidated_socialdistancing'"
   ]
  },
  {
   "cell_type": "code",
   "execution_count": 6,
   "metadata": {},
   "outputs": [],
   "source": [
    "consolidated_sql = (pd.read_sql(con = engine, sql = sql)\n",
    "                    .fillna(value = np.nan, axis = 1))"
   ]
  },
  {
   "cell_type": "code",
   "execution_count": 7,
   "metadata": {},
   "outputs": [
    {
     "data": {
      "text/html": [
       "<div>\n",
       "<style scoped>\n",
       "    .dataframe tbody tr th:only-of-type {\n",
       "        vertical-align: middle;\n",
       "    }\n",
       "\n",
       "    .dataframe tbody tr th {\n",
       "        vertical-align: top;\n",
       "    }\n",
       "\n",
       "    .dataframe thead th {\n",
       "        text-align: right;\n",
       "    }\n",
       "</style>\n",
       "<table border=\"1\" class=\"dataframe\">\n",
       "  <thead>\n",
       "    <tr style=\"text-align: right;\">\n",
       "      <th></th>\n",
       "      <th>source_survey</th>\n",
       "      <th>encounter_datetime</th>\n",
       "      <th>gispropnum</th>\n",
       "      <th>reported_as</th>\n",
       "      <th>site_id</th>\n",
       "      <th>site_desc</th>\n",
       "      <th>park_borough</th>\n",
       "      <th>location_adddesc</th>\n",
       "      <th>city_agency</th>\n",
       "      <th>encounter_type</th>\n",
       "      <th>amenity</th>\n",
       "      <th>patroncount</th>\n",
       "      <th>police_precinct</th>\n",
       "      <th>police_boro_com</th>\n",
       "      <th>communityboard</th>\n",
       "    </tr>\n",
       "  </thead>\n",
       "  <tbody>\n",
       "    <tr>\n",
       "      <td>31581</td>\n",
       "      <td>DPR Crowds</td>\n",
       "      <td>2020-06-02 10:58:56</td>\n",
       "      <td>Q131</td>\n",
       "      <td>Q131</td>\n",
       "      <td>Q131-01</td>\n",
       "      <td>Frank Principe Park-Virginia Principe Playground</td>\n",
       "      <td>Queens</td>\n",
       "      <td>NaN</td>\n",
       "      <td>DPR</td>\n",
       "      <td>NaN</td>\n",
       "      <td>Soccer field</td>\n",
       "      <td>80.0</td>\n",
       "      <td>104</td>\n",
       "      <td>Queens North</td>\n",
       "      <td>405</td>\n",
       "    </tr>\n",
       "    <tr>\n",
       "      <td>31582</td>\n",
       "      <td>DPR Crowds</td>\n",
       "      <td>2020-06-02 18:46:01</td>\n",
       "      <td>Q004</td>\n",
       "      <td>Q004</td>\n",
       "      <td>Q004</td>\n",
       "      <td>Astoria Park</td>\n",
       "      <td>Queens</td>\n",
       "      <td>NaN</td>\n",
       "      <td>DPR</td>\n",
       "      <td>NaN</td>\n",
       "      <td>Soccer field</td>\n",
       "      <td>100.0</td>\n",
       "      <td>114</td>\n",
       "      <td>Queens North</td>\n",
       "      <td>401</td>\n",
       "    </tr>\n",
       "    <tr>\n",
       "      <td>31583</td>\n",
       "      <td>DPR Crowds</td>\n",
       "      <td>2020-06-02 17:47:38</td>\n",
       "      <td>Q392</td>\n",
       "      <td>Q392</td>\n",
       "      <td>Q392-ZN01</td>\n",
       "      <td>Idlewild Park Zone 1</td>\n",
       "      <td>Queens</td>\n",
       "      <td>NaN</td>\n",
       "      <td>DPR</td>\n",
       "      <td>NaN</td>\n",
       "      <td>Open field/multi-purpose play area</td>\n",
       "      <td>20.0</td>\n",
       "      <td>105</td>\n",
       "      <td>Queens South</td>\n",
       "      <td>413</td>\n",
       "    </tr>\n",
       "    <tr>\n",
       "      <td>31584</td>\n",
       "      <td>DPR Crowds</td>\n",
       "      <td>2020-06-02 17:32:52</td>\n",
       "      <td>Q207</td>\n",
       "      <td>Q207</td>\n",
       "      <td>Q207</td>\n",
       "      <td>MacDonald Park</td>\n",
       "      <td>Queens</td>\n",
       "      <td>NaN</td>\n",
       "      <td>DPR</td>\n",
       "      <td>NaN</td>\n",
       "      <td>Chess area</td>\n",
       "      <td>20.0</td>\n",
       "      <td>112</td>\n",
       "      <td>Queens North</td>\n",
       "      <td>406</td>\n",
       "    </tr>\n",
       "    <tr>\n",
       "      <td>31585</td>\n",
       "      <td>DPR Crowds</td>\n",
       "      <td>2020-06-02 17:10:48</td>\n",
       "      <td>X147A</td>\n",
       "      <td>X147A</td>\n",
       "      <td>X147A-ZN01</td>\n",
       "      <td>Starlight Park Zone 1</td>\n",
       "      <td>Bronx</td>\n",
       "      <td>NaN</td>\n",
       "      <td>DPR</td>\n",
       "      <td>NaN</td>\n",
       "      <td>Soccer field</td>\n",
       "      <td>30.0</td>\n",
       "      <td>43</td>\n",
       "      <td>Bronx</td>\n",
       "      <td>209</td>\n",
       "    </tr>\n",
       "  </tbody>\n",
       "</table>\n",
       "</div>"
      ],
      "text/plain": [
       "      source_survey  encounter_datetime gispropnum reported_as     site_id  \\\n",
       "31581    DPR Crowds 2020-06-02 10:58:56       Q131        Q131     Q131-01   \n",
       "31582    DPR Crowds 2020-06-02 18:46:01       Q004        Q004        Q004   \n",
       "31583    DPR Crowds 2020-06-02 17:47:38       Q392        Q392   Q392-ZN01   \n",
       "31584    DPR Crowds 2020-06-02 17:32:52       Q207        Q207        Q207   \n",
       "31585    DPR Crowds 2020-06-02 17:10:48      X147A       X147A  X147A-ZN01   \n",
       "\n",
       "                                              site_desc park_borough  \\\n",
       "31581  Frank Principe Park-Virginia Principe Playground       Queens   \n",
       "31582                                      Astoria Park       Queens   \n",
       "31583                              Idlewild Park Zone 1       Queens   \n",
       "31584                                    MacDonald Park       Queens   \n",
       "31585                             Starlight Park Zone 1        Bronx   \n",
       "\n",
       "      location_adddesc city_agency encounter_type  \\\n",
       "31581              NaN         DPR            NaN   \n",
       "31582              NaN         DPR            NaN   \n",
       "31583              NaN         DPR            NaN   \n",
       "31584              NaN         DPR            NaN   \n",
       "31585              NaN         DPR            NaN   \n",
       "\n",
       "                                  amenity  patroncount police_precinct  \\\n",
       "31581                        Soccer field         80.0             104   \n",
       "31582                        Soccer field        100.0             114   \n",
       "31583  Open field/multi-purpose play area         20.0             105   \n",
       "31584                          Chess area         20.0             112   \n",
       "31585                        Soccer field         30.0              43   \n",
       "\n",
       "      police_boro_com communityboard  \n",
       "31581    Queens North            405  \n",
       "31582    Queens North            401  \n",
       "31583    Queens South            413  \n",
       "31584    Queens North            406  \n",
       "31585           Bronx            209  "
      ]
     },
     "execution_count": 7,
     "metadata": {},
     "output_type": "execute_result"
    }
   ],
   "source": [
    "consolidated_sql.tail()"
   ]
  },
  {
   "cell_type": "code",
   "execution_count": 8,
   "metadata": {},
   "outputs": [],
   "source": [
    "scope = ['https://spreadsheets.google.com/feeds',\n",
    "         'https://www.googleapis.com/auth/drive']\n",
    "creds = ServiceAccountCredentials.from_json_keyfile_name(cred_file, scope)\n",
    "client = gspread.authorize(creds)"
   ]
  },
  {
   "cell_type": "code",
   "execution_count": 9,
   "metadata": {},
   "outputs": [],
   "source": [
    "sheet = client.open('consolidated_social_distancing_data')"
   ]
  },
  {
   "cell_type": "code",
   "execution_count": 10,
   "metadata": {},
   "outputs": [],
   "source": [
    "ws = sheet.worksheet('Sheet1')"
   ]
  },
  {
   "cell_type": "code",
   "execution_count": 11,
   "metadata": {},
   "outputs": [],
   "source": [
    "set_with_dataframe(ws, consolidated_sql, include_index = False, \n",
    "                   include_column_header = True, resize = True, allow_formulas = False)"
   ]
  }
 ],
 "metadata": {
  "kernelspec": {
   "display_name": "Python 3",
   "language": "python",
   "name": "python3"
  },
  "language_info": {
   "codemirror_mode": {
    "name": "ipython",
    "version": 3
   },
   "file_extension": ".py",
   "mimetype": "text/x-python",
   "name": "python",
   "nbconvert_exporter": "python",
   "pygments_lexer": "ipython3",
   "version": "3.7.4"
  }
 },
 "nbformat": 4,
 "nbformat_minor": 2
}
