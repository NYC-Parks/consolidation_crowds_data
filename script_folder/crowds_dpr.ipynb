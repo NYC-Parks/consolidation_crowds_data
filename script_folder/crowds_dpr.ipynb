{
 "cells": [
  {
   "cell_type": "code",
   "execution_count": 1,
   "metadata": {},
   "outputs": [],
   "source": [
    "#Import required libraries\n",
    "import gspread\n",
    "import sys\n",
    "from oauth2client.service_account import ServiceAccountCredentials\n",
    "import pandas as pd\n",
    "import numpy as np\n",
    "import urllib\n",
    "import sqlalchemy\n",
    "from gspread_dataframe import set_with_dataframe\n",
    "from gspread_dataframe import get_as_dataframe\n",
    "import datetime"
   ]
  },
  {
   "cell_type": "code",
   "execution_count": 2,
   "metadata": {},
   "outputs": [],
   "source": [
    "#Import project specific functions\n",
    "from column_map import column_map\n",
    "from yesno_functions import *\n",
    "from format_datetime import *"
   ]
  },
  {
   "cell_type": "code",
   "execution_count": 3,
   "metadata": {},
   "outputs": [
    {
     "name": "stderr",
     "output_type": "stream",
     "text": [
      "C:\\ProgramData\\Anaconda3\\lib\\site-packages\\authlib\\client\\__init__.py:12: AuthlibDeprecationWarning: Deprecate \"authlib.client\", USE \"authlib.integrations.requests_client\" instead.\n",
      "It will be compatible before version 1.0.\n",
      "Read more <https://git.io/Jeclj#file-rn-md>\n",
      "  deprecate('Deprecate \"authlib.client\", USE \"authlib.integrations.requests_client\" instead.', '1.0', 'Jeclj', 'rn')\n"
     ]
    }
   ],
   "source": [
    "#Import shared functions\n",
    "sys.path.append('../..')\n",
    "from IPM_Shared_Code_public.Python.google_creds_functions import create_assertion_session\n",
    "from IPM_Shared_Code_public.Python.utils import get_config\n",
    "from IPM_Shared_Code_public.Python.delta_functions import *\n",
    "from IPM_Shared_Code_public.Python.sql_functions import *"
   ]
  },
  {
   "cell_type": "markdown",
   "metadata": {},
   "source": [
    "### Use the config file to setup connections"
   ]
  },
  {
   "cell_type": "code",
   "execution_count": 4,
   "metadata": {},
   "outputs": [],
   "source": [
    "config = get_config('c:\\Projects\\config.ini')\n",
    "\n",
    "driver = config['srv']['driver']\n",
    "server = config['srv']['server']\n",
    "dwh = config['db']['crowdsdb']\n",
    "cred_file = config['google']['path_to_file']"
   ]
  },
  {
   "cell_type": "code",
   "execution_count": 5,
   "metadata": {},
   "outputs": [],
   "source": [
    "con_string = 'Driver={' + driver + '};Server=' + server +';Database=' + dwh + ';Trusted_Connection=Yes;'\n",
    "params = urllib.parse.quote_plus(con_string)\n",
    "engine = sqlalchemy.create_engine(\"mssql+pyodbc:///?odbc_connect=%s\" % params)"
   ]
  },
  {
   "cell_type": "markdown",
   "metadata": {},
   "source": [
    "### Execute the function to get the renamed columns for this sheet"
   ]
  },
  {
   "cell_type": "code",
   "execution_count": 6,
   "metadata": {},
   "outputs": [],
   "source": [
    "#Call the column map function to get the dictionary to be used for renaming and subsetting the columns\n",
    "col_rename = column_map('crowds_dpr')"
   ]
  },
  {
   "cell_type": "code",
   "execution_count": 7,
   "metadata": {},
   "outputs": [],
   "source": [
    "#Because of duplicate column names these columns are renamed based on the column index and the keys and \n",
    "#values need to be switched\n",
    "col_rename = {v[0]: k for k, v in col_rename.items()}"
   ]
  },
  {
   "cell_type": "code",
   "execution_count": 8,
   "metadata": {},
   "outputs": [],
   "source": [
    "cols = list(col_rename.values())"
   ]
  },
  {
   "cell_type": "markdown",
   "metadata": {},
   "source": [
    "### Read the site reference list from SQL"
   ]
  },
  {
   "cell_type": "code",
   "execution_count": 9,
   "metadata": {},
   "outputs": [],
   "source": [
    "sql = 'select * from crowdsdb.dbo.tbl_ref_sites'"
   ]
  },
  {
   "cell_type": "code",
   "execution_count": 10,
   "metadata": {},
   "outputs": [],
   "source": [
    "site_ref = pd.read_sql(con = engine, sql = sql)[['site_id', 'desc_location']]"
   ]
  },
  {
   "cell_type": "markdown",
   "metadata": {},
   "source": [
    "### Read the current data from SQL"
   ]
  },
  {
   "cell_type": "code",
   "execution_count": 11,
   "metadata": {},
   "outputs": [],
   "source": [
    "sql = 'select * from crowdsdb.dbo.tbl_dpr_crowds'"
   ]
  },
  {
   "cell_type": "code",
   "execution_count": 12,
   "metadata": {},
   "outputs": [],
   "source": [
    "crowds_sql = (pd.read_sql(con = engine, sql = sql)\n",
    "              .drop(columns = ['crowds_id'])\n",
    "              .fillna(value = np.nan, axis = 1))"
   ]
  },
  {
   "cell_type": "code",
   "execution_count": 13,
   "metadata": {},
   "outputs": [],
   "source": [
    "format_datetime(crowds_sql, 'encounter_timestamp')"
   ]
  },
  {
   "cell_type": "code",
   "execution_count": 14,
   "metadata": {},
   "outputs": [],
   "source": [
    "float_cols = ['patroncount', 'in_playground']\n",
    "for c in float_cols:\n",
    "    crowds_sql[c] = crowds_sql[c].astype(float)"
   ]
  },
  {
   "cell_type": "code",
   "execution_count": 15,
   "metadata": {},
   "outputs": [
    {
     "data": {
      "text/html": [
       "<div>\n",
       "<style scoped>\n",
       "    .dataframe tbody tr th:only-of-type {\n",
       "        vertical-align: middle;\n",
       "    }\n",
       "\n",
       "    .dataframe tbody tr th {\n",
       "        vertical-align: top;\n",
       "    }\n",
       "\n",
       "    .dataframe thead th {\n",
       "        text-align: right;\n",
       "    }\n",
       "</style>\n",
       "<table border=\"1\" class=\"dataframe\">\n",
       "  <thead>\n",
       "    <tr style=\"text-align: right;\">\n",
       "      <th></th>\n",
       "      <th>encounter_timestamp</th>\n",
       "      <th>park_district</th>\n",
       "      <th>patroncount</th>\n",
       "      <th>in_playground</th>\n",
       "      <th>action_taken</th>\n",
       "      <th>amenity</th>\n",
       "      <th>comments</th>\n",
       "      <th>site_id</th>\n",
       "      <th>borough</th>\n",
       "    </tr>\n",
       "  </thead>\n",
       "  <tbody>\n",
       "    <tr>\n",
       "      <td>0</td>\n",
       "      <td>06-01-2020 10:54:14</td>\n",
       "      <td>Q-12</td>\n",
       "      <td>12.0</td>\n",
       "      <td>1.0</td>\n",
       "      <td>Approached the crowd; they ignored the employee</td>\n",
       "      <td>Playground</td>\n",
       "      <td>NaN</td>\n",
       "      <td>Q005-11</td>\n",
       "      <td>Queens</td>\n",
       "    </tr>\n",
       "    <tr>\n",
       "      <td>1</td>\n",
       "      <td>06-01-2020 10:22:51</td>\n",
       "      <td>X-14</td>\n",
       "      <td>11.0</td>\n",
       "      <td>0.0</td>\n",
       "      <td>Did not approach the crowd; the crowd remains</td>\n",
       "      <td>Soccer field</td>\n",
       "      <td>Playing soccer</td>\n",
       "      <td>X147A-ZN01</td>\n",
       "      <td>Bronx</td>\n",
       "    </tr>\n",
       "    <tr>\n",
       "      <td>2</td>\n",
       "      <td>05-31-2020 16:31:20</td>\n",
       "      <td>Q-13</td>\n",
       "      <td>13.0</td>\n",
       "      <td>0.0</td>\n",
       "      <td>Approached the crowd; they ignored the employee</td>\n",
       "      <td>Skate Park</td>\n",
       "      <td>NaN</td>\n",
       "      <td>Q108</td>\n",
       "      <td>Queens</td>\n",
       "    </tr>\n",
       "    <tr>\n",
       "      <td>3</td>\n",
       "      <td>05-31-2020 15:04:12</td>\n",
       "      <td>Q-07</td>\n",
       "      <td>30.0</td>\n",
       "      <td>1.0</td>\n",
       "      <td>Approached the crowd; they complied with instr...</td>\n",
       "      <td>Basketball court</td>\n",
       "      <td>NaN</td>\n",
       "      <td>Q397</td>\n",
       "      <td>Queens</td>\n",
       "    </tr>\n",
       "    <tr>\n",
       "      <td>4</td>\n",
       "      <td>05-31-2020 14:38:52</td>\n",
       "      <td>X-02</td>\n",
       "      <td>15.0</td>\n",
       "      <td>0.0</td>\n",
       "      <td>Did not approach the crowd; the crowd remains</td>\n",
       "      <td>Baseball field</td>\n",
       "      <td>Central communication was called</td>\n",
       "      <td>X255</td>\n",
       "      <td>Bronx</td>\n",
       "    </tr>\n",
       "  </tbody>\n",
       "</table>\n",
       "</div>"
      ],
      "text/plain": [
       "   encounter_timestamp park_district  patroncount  in_playground  \\\n",
       "0  06-01-2020 10:54:14          Q-12         12.0            1.0   \n",
       "1  06-01-2020 10:22:51          X-14         11.0            0.0   \n",
       "2  05-31-2020 16:31:20          Q-13         13.0            0.0   \n",
       "3  05-31-2020 15:04:12          Q-07         30.0            1.0   \n",
       "4  05-31-2020 14:38:52          X-02         15.0            0.0   \n",
       "\n",
       "                                        action_taken           amenity  \\\n",
       "0    Approached the crowd; they ignored the employee        Playground   \n",
       "1      Did not approach the crowd; the crowd remains      Soccer field   \n",
       "2    Approached the crowd; they ignored the employee        Skate Park   \n",
       "3  Approached the crowd; they complied with instr...  Basketball court   \n",
       "4      Did not approach the crowd; the crowd remains    Baseball field   \n",
       "\n",
       "                           comments     site_id borough  \n",
       "0                               NaN     Q005-11  Queens  \n",
       "1                    Playing soccer  X147A-ZN01   Bronx  \n",
       "2                               NaN        Q108  Queens  \n",
       "3                               NaN        Q397  Queens  \n",
       "4  Central communication was called        X255   Bronx  "
      ]
     },
     "execution_count": 15,
     "metadata": {},
     "output_type": "execute_result"
    }
   ],
   "source": [
    "crowds_sql.head()"
   ]
  },
  {
   "cell_type": "code",
   "execution_count": 16,
   "metadata": {},
   "outputs": [],
   "source": [
    "sql_cols = list(crowds_sql.columns.values)"
   ]
  },
  {
   "cell_type": "code",
   "execution_count": 17,
   "metadata": {},
   "outputs": [],
   "source": [
    "hash_rows(crowds_sql, exclude_cols = ['site_id', 'encounter_timestamp'], hash_name = 'row_hash')"
   ]
  },
  {
   "cell_type": "markdown",
   "metadata": {},
   "source": [
    "### Read the latest data from Google Sheets"
   ]
  },
  {
   "cell_type": "code",
   "execution_count": 18,
   "metadata": {},
   "outputs": [],
   "source": [
    "scope = ['https://spreadsheets.google.com/feeds',\n",
    "         'https://www.googleapis.com/auth/drive']\n",
    "creds = ServiceAccountCredentials.from_json_keyfile_name(cred_file, scope)\n",
    "client = gspread.authorize(creds)"
   ]
  },
  {
   "cell_type": "code",
   "execution_count": 19,
   "metadata": {},
   "outputs": [],
   "source": [
    "sheet = client.open('Crowds_Combined')"
   ]
  },
  {
   "cell_type": "code",
   "execution_count": 20,
   "metadata": {},
   "outputs": [],
   "source": [
    "ws = sheet.worksheet('Sheet1')"
   ]
  },
  {
   "cell_type": "code",
   "execution_count": 21,
   "metadata": {},
   "outputs": [],
   "source": [
    "crowds = (get_as_dataframe(ws, evaluate_formulas = True, header= None)\n",
    "          #Always remove row 0 with the column headers\n",
    "          .iloc[1:]\n",
    "          .rename(columns = col_rename)\n",
    "          .fillna(value = np.nan, axis = 1))[cols]"
   ]
  },
  {
   "cell_type": "code",
   "execution_count": 22,
   "metadata": {},
   "outputs": [],
   "source": [
    "#Remove the rows where there timestamp is null because these sheets have extra rows full of nulls\n",
    "crowds = crowds[crowds['encounter_timestamp'].notnull()]"
   ]
  },
  {
   "cell_type": "code",
   "execution_count": 23,
   "metadata": {},
   "outputs": [],
   "source": [
    "format_datetime(crowds, 'encounter_timestamp')"
   ]
  },
  {
   "cell_type": "code",
   "execution_count": 24,
   "metadata": {},
   "outputs": [
    {
     "data": {
      "text/html": [
       "<div>\n",
       "<style scoped>\n",
       "    .dataframe tbody tr th:only-of-type {\n",
       "        vertical-align: middle;\n",
       "    }\n",
       "\n",
       "    .dataframe tbody tr th {\n",
       "        vertical-align: top;\n",
       "    }\n",
       "\n",
       "    .dataframe thead th {\n",
       "        text-align: right;\n",
       "    }\n",
       "</style>\n",
       "<table border=\"1\" class=\"dataframe\">\n",
       "  <thead>\n",
       "    <tr style=\"text-align: right;\">\n",
       "      <th></th>\n",
       "      <th>encounter_timestamp</th>\n",
       "      <th>park_district</th>\n",
       "      <th>patroncount</th>\n",
       "      <th>in_playground</th>\n",
       "      <th>action_taken</th>\n",
       "      <th>amenity</th>\n",
       "      <th>comments</th>\n",
       "      <th>desc_location</th>\n",
       "      <th>borough</th>\n",
       "    </tr>\n",
       "  </thead>\n",
       "  <tbody>\n",
       "    <tr>\n",
       "      <td>1</td>\n",
       "      <td>06-05-2020 18:55:11</td>\n",
       "      <td>Q-07</td>\n",
       "      <td>50.0</td>\n",
       "      <td>Yes</td>\n",
       "      <td>Did not approach the crowd; the crowd remains</td>\n",
       "      <td>Handall court</td>\n",
       "      <td>Kids in PG and adults on HBCT. Departing slowl...</td>\n",
       "      <td>Q086-01 | Flushing Fields-Leonardo Ingravallo ...</td>\n",
       "      <td>Queens</td>\n",
       "    </tr>\n",
       "    <tr>\n",
       "      <td>2</td>\n",
       "      <td>06-05-2020 17:00:16</td>\n",
       "      <td>Q-08</td>\n",
       "      <td>25.0</td>\n",
       "      <td>No</td>\n",
       "      <td>Did not approach the crowd; the crowd remains</td>\n",
       "      <td>Bench/sitting area</td>\n",
       "      <td>Bocce courts</td>\n",
       "      <td>Q021 | Cunningham Park</td>\n",
       "      <td>Queens</td>\n",
       "    </tr>\n",
       "    <tr>\n",
       "      <td>3</td>\n",
       "      <td>06-05-2020 15:53:01</td>\n",
       "      <td>Q-07A</td>\n",
       "      <td>15.0</td>\n",
       "      <td>No</td>\n",
       "      <td>Did not approach the crowd; the crowd remains</td>\n",
       "      <td>Bench/sitting area</td>\n",
       "      <td>Kids birthday party at Orange BBQ area Upper A...</td>\n",
       "      <td>Q001-ZN02 | Alley Pond Park Zone 2</td>\n",
       "      <td>Queens</td>\n",
       "    </tr>\n",
       "    <tr>\n",
       "      <td>4</td>\n",
       "      <td>06-05-2020 13:35:19</td>\n",
       "      <td>Q-07</td>\n",
       "      <td>25.0</td>\n",
       "      <td>Yes</td>\n",
       "      <td>Did not approach the crowd; the crowd remains</td>\n",
       "      <td>Playground</td>\n",
       "      <td>NaN</td>\n",
       "      <td>Q300-03 | Kissena Corridor Park-Silent Springs...</td>\n",
       "      <td>Queens</td>\n",
       "    </tr>\n",
       "    <tr>\n",
       "      <td>5</td>\n",
       "      <td>06-04-2020 18:42:02</td>\n",
       "      <td>Q-14</td>\n",
       "      <td>10.0</td>\n",
       "      <td>No</td>\n",
       "      <td>Did not approach the crowd; the crowd remains</td>\n",
       "      <td>Handall court</td>\n",
       "      <td>B77 handball  - elderly paddleball regulars</td>\n",
       "      <td>Q163-ZN05A | Rockaway Beach &amp; Boardwalk-Rockaw...</td>\n",
       "      <td>Queens</td>\n",
       "    </tr>\n",
       "  </tbody>\n",
       "</table>\n",
       "</div>"
      ],
      "text/plain": [
       "   encounter_timestamp park_district  patroncount in_playground  \\\n",
       "1  06-05-2020 18:55:11          Q-07         50.0           Yes   \n",
       "2  06-05-2020 17:00:16          Q-08         25.0            No   \n",
       "3  06-05-2020 15:53:01         Q-07A         15.0            No   \n",
       "4  06-05-2020 13:35:19          Q-07         25.0           Yes   \n",
       "5  06-04-2020 18:42:02          Q-14         10.0            No   \n",
       "\n",
       "                                    action_taken             amenity  \\\n",
       "1  Did not approach the crowd; the crowd remains       Handall court   \n",
       "2  Did not approach the crowd; the crowd remains  Bench/sitting area   \n",
       "3  Did not approach the crowd; the crowd remains  Bench/sitting area   \n",
       "4  Did not approach the crowd; the crowd remains          Playground   \n",
       "5  Did not approach the crowd; the crowd remains       Handall court   \n",
       "\n",
       "                                            comments  \\\n",
       "1  Kids in PG and adults on HBCT. Departing slowl...   \n",
       "2                                      Bocce courts    \n",
       "3  Kids birthday party at Orange BBQ area Upper A...   \n",
       "4                                                NaN   \n",
       "5        B77 handball  - elderly paddleball regulars   \n",
       "\n",
       "                                       desc_location borough  \n",
       "1  Q086-01 | Flushing Fields-Leonardo Ingravallo ...  Queens  \n",
       "2                             Q021 | Cunningham Park  Queens  \n",
       "3                 Q001-ZN02 | Alley Pond Park Zone 2  Queens  \n",
       "4  Q300-03 | Kissena Corridor Park-Silent Springs...  Queens  \n",
       "5  Q163-ZN05A | Rockaway Beach & Boardwalk-Rockaw...  Queens  "
      ]
     },
     "execution_count": 24,
     "metadata": {},
     "output_type": "execute_result"
    }
   ],
   "source": [
    "crowds.head()"
   ]
  },
  {
   "cell_type": "code",
   "execution_count": 25,
   "metadata": {},
   "outputs": [],
   "source": [
    "yesno = ['in_playground']"
   ]
  },
  {
   "cell_type": "code",
   "execution_count": 26,
   "metadata": {},
   "outputs": [],
   "source": [
    "yesno_cols(crowds, yesno)"
   ]
  },
  {
   "cell_type": "code",
   "execution_count": 27,
   "metadata": {},
   "outputs": [],
   "source": [
    "crowds = crowds.merge(site_ref, how = 'left', on = 'desc_location')[sql_cols]"
   ]
  },
  {
   "cell_type": "code",
   "execution_count": 28,
   "metadata": {},
   "outputs": [],
   "source": [
    "hash_rows(crowds, exclude_cols = ['site_id', 'encounter_timestamp'], hash_name = 'row_hash')"
   ]
  },
  {
   "cell_type": "code",
   "execution_count": 29,
   "metadata": {},
   "outputs": [
    {
     "data": {
      "text/html": [
       "<div>\n",
       "<style scoped>\n",
       "    .dataframe tbody tr th:only-of-type {\n",
       "        vertical-align: middle;\n",
       "    }\n",
       "\n",
       "    .dataframe tbody tr th {\n",
       "        vertical-align: top;\n",
       "    }\n",
       "\n",
       "    .dataframe thead th {\n",
       "        text-align: right;\n",
       "    }\n",
       "</style>\n",
       "<table border=\"1\" class=\"dataframe\">\n",
       "  <thead>\n",
       "    <tr style=\"text-align: right;\">\n",
       "      <th></th>\n",
       "      <th>encounter_timestamp</th>\n",
       "      <th>park_district</th>\n",
       "      <th>patroncount</th>\n",
       "      <th>in_playground</th>\n",
       "      <th>action_taken</th>\n",
       "      <th>amenity</th>\n",
       "      <th>comments</th>\n",
       "      <th>site_id</th>\n",
       "      <th>borough</th>\n",
       "      <th>row_hash</th>\n",
       "    </tr>\n",
       "  </thead>\n",
       "  <tbody>\n",
       "    <tr>\n",
       "      <td>0</td>\n",
       "      <td>06-05-2020 18:55:11</td>\n",
       "      <td>Q-07</td>\n",
       "      <td>50.0</td>\n",
       "      <td>1.0</td>\n",
       "      <td>Did not approach the crowd; the crowd remains</td>\n",
       "      <td>Handall court</td>\n",
       "      <td>Kids in PG and adults on HBCT. Departing slowl...</td>\n",
       "      <td>Q086-01</td>\n",
       "      <td>Queens</td>\n",
       "      <td>56d898f6ea9f8118c6224bbfc188daaf0afeb5841517b7...</td>\n",
       "    </tr>\n",
       "    <tr>\n",
       "      <td>1</td>\n",
       "      <td>06-05-2020 17:00:16</td>\n",
       "      <td>Q-08</td>\n",
       "      <td>25.0</td>\n",
       "      <td>0.0</td>\n",
       "      <td>Did not approach the crowd; the crowd remains</td>\n",
       "      <td>Bench/sitting area</td>\n",
       "      <td>Bocce courts</td>\n",
       "      <td>Q021</td>\n",
       "      <td>Queens</td>\n",
       "      <td>fef7f7aaa6d3a8dbbb4ff030dd461e551e135fc335df9a...</td>\n",
       "    </tr>\n",
       "    <tr>\n",
       "      <td>2</td>\n",
       "      <td>06-05-2020 15:53:01</td>\n",
       "      <td>Q-07A</td>\n",
       "      <td>15.0</td>\n",
       "      <td>0.0</td>\n",
       "      <td>Did not approach the crowd; the crowd remains</td>\n",
       "      <td>Bench/sitting area</td>\n",
       "      <td>Kids birthday party at Orange BBQ area Upper A...</td>\n",
       "      <td>Q001-ZN02</td>\n",
       "      <td>Queens</td>\n",
       "      <td>485bfff1e40774b3b7e4c68694b1bfe91ffcb7ded1e151...</td>\n",
       "    </tr>\n",
       "    <tr>\n",
       "      <td>3</td>\n",
       "      <td>06-05-2020 13:35:19</td>\n",
       "      <td>Q-07</td>\n",
       "      <td>25.0</td>\n",
       "      <td>1.0</td>\n",
       "      <td>Did not approach the crowd; the crowd remains</td>\n",
       "      <td>Playground</td>\n",
       "      <td>NaN</td>\n",
       "      <td>Q300-03</td>\n",
       "      <td>Queens</td>\n",
       "      <td>28bf778d8d5a04bb693dbf6d953238d0ef2aefa919f075...</td>\n",
       "    </tr>\n",
       "    <tr>\n",
       "      <td>4</td>\n",
       "      <td>06-04-2020 18:42:02</td>\n",
       "      <td>Q-14</td>\n",
       "      <td>10.0</td>\n",
       "      <td>0.0</td>\n",
       "      <td>Did not approach the crowd; the crowd remains</td>\n",
       "      <td>Handall court</td>\n",
       "      <td>B77 handball  - elderly paddleball regulars</td>\n",
       "      <td>Q163-ZN05A</td>\n",
       "      <td>Queens</td>\n",
       "      <td>3bf2d5b48523c37a2e2959e262aa72711f2eefceeecf77...</td>\n",
       "    </tr>\n",
       "  </tbody>\n",
       "</table>\n",
       "</div>"
      ],
      "text/plain": [
       "   encounter_timestamp park_district  patroncount  in_playground  \\\n",
       "0  06-05-2020 18:55:11          Q-07         50.0            1.0   \n",
       "1  06-05-2020 17:00:16          Q-08         25.0            0.0   \n",
       "2  06-05-2020 15:53:01         Q-07A         15.0            0.0   \n",
       "3  06-05-2020 13:35:19          Q-07         25.0            1.0   \n",
       "4  06-04-2020 18:42:02          Q-14         10.0            0.0   \n",
       "\n",
       "                                    action_taken             amenity  \\\n",
       "0  Did not approach the crowd; the crowd remains       Handall court   \n",
       "1  Did not approach the crowd; the crowd remains  Bench/sitting area   \n",
       "2  Did not approach the crowd; the crowd remains  Bench/sitting area   \n",
       "3  Did not approach the crowd; the crowd remains          Playground   \n",
       "4  Did not approach the crowd; the crowd remains       Handall court   \n",
       "\n",
       "                                            comments     site_id borough  \\\n",
       "0  Kids in PG and adults on HBCT. Departing slowl...     Q086-01  Queens   \n",
       "1                                      Bocce courts         Q021  Queens   \n",
       "2  Kids birthday party at Orange BBQ area Upper A...   Q001-ZN02  Queens   \n",
       "3                                                NaN     Q300-03  Queens   \n",
       "4        B77 handball  - elderly paddleball regulars  Q163-ZN05A  Queens   \n",
       "\n",
       "                                            row_hash  \n",
       "0  56d898f6ea9f8118c6224bbfc188daaf0afeb5841517b7...  \n",
       "1  fef7f7aaa6d3a8dbbb4ff030dd461e551e135fc335df9a...  \n",
       "2  485bfff1e40774b3b7e4c68694b1bfe91ffcb7ded1e151...  \n",
       "3  28bf778d8d5a04bb693dbf6d953238d0ef2aefa919f075...  \n",
       "4  3bf2d5b48523c37a2e2959e262aa72711f2eefceeecf77...  "
      ]
     },
     "execution_count": 29,
     "metadata": {},
     "output_type": "execute_result"
    }
   ],
   "source": [
    "crowds.head()"
   ]
  },
  {
   "cell_type": "markdown",
   "metadata": {},
   "source": [
    "### Find the deltas based on the row hashes"
   ]
  },
  {
   "cell_type": "code",
   "execution_count": 30,
   "metadata": {},
   "outputs": [],
   "source": [
    "crowds_deltas = (check_deltas(new_df = crowds, old_df = crowds_sql, on = ['encounter_timestamp', 'site_id'], \n",
    "                              hash_name = 'row_hash', dml_col = 'dml_verb'))[sql_cols + ['dml_verb']]"
   ]
  },
  {
   "cell_type": "code",
   "execution_count": 31,
   "metadata": {},
   "outputs": [
    {
     "data": {
      "text/html": [
       "<div>\n",
       "<style scoped>\n",
       "    .dataframe tbody tr th:only-of-type {\n",
       "        vertical-align: middle;\n",
       "    }\n",
       "\n",
       "    .dataframe tbody tr th {\n",
       "        vertical-align: top;\n",
       "    }\n",
       "\n",
       "    .dataframe thead th {\n",
       "        text-align: right;\n",
       "    }\n",
       "</style>\n",
       "<table border=\"1\" class=\"dataframe\">\n",
       "  <thead>\n",
       "    <tr style=\"text-align: right;\">\n",
       "      <th></th>\n",
       "      <th>encounter_timestamp</th>\n",
       "      <th>park_district</th>\n",
       "      <th>patroncount</th>\n",
       "      <th>in_playground</th>\n",
       "      <th>action_taken</th>\n",
       "      <th>amenity</th>\n",
       "      <th>comments</th>\n",
       "      <th>site_id</th>\n",
       "      <th>borough</th>\n",
       "      <th>dml_verb</th>\n",
       "    </tr>\n",
       "  </thead>\n",
       "  <tbody>\n",
       "    <tr>\n",
       "      <td>0</td>\n",
       "      <td>06-05-2020 18:55:11</td>\n",
       "      <td>Q-07</td>\n",
       "      <td>50.0</td>\n",
       "      <td>1.0</td>\n",
       "      <td>Did not approach the crowd; the crowd remains</td>\n",
       "      <td>Handall court</td>\n",
       "      <td>Kids in PG and adults on HBCT. Departing slowl...</td>\n",
       "      <td>Q086-01</td>\n",
       "      <td>Queens</td>\n",
       "      <td>I</td>\n",
       "    </tr>\n",
       "    <tr>\n",
       "      <td>1</td>\n",
       "      <td>06-05-2020 17:00:16</td>\n",
       "      <td>Q-08</td>\n",
       "      <td>25.0</td>\n",
       "      <td>0.0</td>\n",
       "      <td>Did not approach the crowd; the crowd remains</td>\n",
       "      <td>Bench/sitting area</td>\n",
       "      <td>Bocce courts</td>\n",
       "      <td>Q021</td>\n",
       "      <td>Queens</td>\n",
       "      <td>I</td>\n",
       "    </tr>\n",
       "    <tr>\n",
       "      <td>2</td>\n",
       "      <td>06-05-2020 15:53:01</td>\n",
       "      <td>Q-07A</td>\n",
       "      <td>15.0</td>\n",
       "      <td>0.0</td>\n",
       "      <td>Did not approach the crowd; the crowd remains</td>\n",
       "      <td>Bench/sitting area</td>\n",
       "      <td>Kids birthday party at Orange BBQ area Upper A...</td>\n",
       "      <td>Q001-ZN02</td>\n",
       "      <td>Queens</td>\n",
       "      <td>I</td>\n",
       "    </tr>\n",
       "    <tr>\n",
       "      <td>3</td>\n",
       "      <td>06-05-2020 13:35:19</td>\n",
       "      <td>Q-07</td>\n",
       "      <td>25.0</td>\n",
       "      <td>1.0</td>\n",
       "      <td>Did not approach the crowd; the crowd remains</td>\n",
       "      <td>Playground</td>\n",
       "      <td>NaN</td>\n",
       "      <td>Q300-03</td>\n",
       "      <td>Queens</td>\n",
       "      <td>I</td>\n",
       "    </tr>\n",
       "    <tr>\n",
       "      <td>4</td>\n",
       "      <td>06-04-2020 18:42:02</td>\n",
       "      <td>Q-14</td>\n",
       "      <td>10.0</td>\n",
       "      <td>0.0</td>\n",
       "      <td>Did not approach the crowd; the crowd remains</td>\n",
       "      <td>Handall court</td>\n",
       "      <td>B77 handball  - elderly paddleball regulars</td>\n",
       "      <td>Q163-ZN05A</td>\n",
       "      <td>Queens</td>\n",
       "      <td>I</td>\n",
       "    </tr>\n",
       "  </tbody>\n",
       "</table>\n",
       "</div>"
      ],
      "text/plain": [
       "   encounter_timestamp park_district  patroncount  in_playground  \\\n",
       "0  06-05-2020 18:55:11          Q-07         50.0            1.0   \n",
       "1  06-05-2020 17:00:16          Q-08         25.0            0.0   \n",
       "2  06-05-2020 15:53:01         Q-07A         15.0            0.0   \n",
       "3  06-05-2020 13:35:19          Q-07         25.0            1.0   \n",
       "4  06-04-2020 18:42:02          Q-14         10.0            0.0   \n",
       "\n",
       "                                    action_taken             amenity  \\\n",
       "0  Did not approach the crowd; the crowd remains       Handall court   \n",
       "1  Did not approach the crowd; the crowd remains  Bench/sitting area   \n",
       "2  Did not approach the crowd; the crowd remains  Bench/sitting area   \n",
       "3  Did not approach the crowd; the crowd remains          Playground   \n",
       "4  Did not approach the crowd; the crowd remains       Handall court   \n",
       "\n",
       "                                            comments     site_id borough  \\\n",
       "0  Kids in PG and adults on HBCT. Departing slowl...     Q086-01  Queens   \n",
       "1                                      Bocce courts         Q021  Queens   \n",
       "2  Kids birthday party at Orange BBQ area Upper A...   Q001-ZN02  Queens   \n",
       "3                                                NaN     Q300-03  Queens   \n",
       "4        B77 handball  - elderly paddleball regulars  Q163-ZN05A  Queens   \n",
       "\n",
       "  dml_verb  \n",
       "0        I  \n",
       "1        I  \n",
       "2        I  \n",
       "3        I  \n",
       "4        I  "
      ]
     },
     "execution_count": 31,
     "metadata": {},
     "output_type": "execute_result"
    }
   ],
   "source": [
    "crowds_deltas.head()"
   ]
  },
  {
   "cell_type": "code",
   "execution_count": 32,
   "metadata": {},
   "outputs": [],
   "source": [
    "crowds_inserts = crowds_deltas[crowds_deltas['dml_verb'] == 'I'][sql_cols]"
   ]
  },
  {
   "cell_type": "code",
   "execution_count": 33,
   "metadata": {},
   "outputs": [
    {
     "data": {
      "text/html": [
       "<div>\n",
       "<style scoped>\n",
       "    .dataframe tbody tr th:only-of-type {\n",
       "        vertical-align: middle;\n",
       "    }\n",
       "\n",
       "    .dataframe tbody tr th {\n",
       "        vertical-align: top;\n",
       "    }\n",
       "\n",
       "    .dataframe thead th {\n",
       "        text-align: right;\n",
       "    }\n",
       "</style>\n",
       "<table border=\"1\" class=\"dataframe\">\n",
       "  <thead>\n",
       "    <tr style=\"text-align: right;\">\n",
       "      <th></th>\n",
       "      <th>encounter_timestamp</th>\n",
       "      <th>park_district</th>\n",
       "      <th>patroncount</th>\n",
       "      <th>in_playground</th>\n",
       "      <th>action_taken</th>\n",
       "      <th>amenity</th>\n",
       "      <th>comments</th>\n",
       "      <th>site_id</th>\n",
       "      <th>borough</th>\n",
       "    </tr>\n",
       "  </thead>\n",
       "  <tbody>\n",
       "    <tr>\n",
       "      <td>0</td>\n",
       "      <td>06-05-2020 18:55:11</td>\n",
       "      <td>Q-07</td>\n",
       "      <td>50.0</td>\n",
       "      <td>1.0</td>\n",
       "      <td>Did not approach the crowd; the crowd remains</td>\n",
       "      <td>Handall court</td>\n",
       "      <td>Kids in PG and adults on HBCT. Departing slowl...</td>\n",
       "      <td>Q086-01</td>\n",
       "      <td>Queens</td>\n",
       "    </tr>\n",
       "    <tr>\n",
       "      <td>1</td>\n",
       "      <td>06-05-2020 17:00:16</td>\n",
       "      <td>Q-08</td>\n",
       "      <td>25.0</td>\n",
       "      <td>0.0</td>\n",
       "      <td>Did not approach the crowd; the crowd remains</td>\n",
       "      <td>Bench/sitting area</td>\n",
       "      <td>Bocce courts</td>\n",
       "      <td>Q021</td>\n",
       "      <td>Queens</td>\n",
       "    </tr>\n",
       "    <tr>\n",
       "      <td>2</td>\n",
       "      <td>06-05-2020 15:53:01</td>\n",
       "      <td>Q-07A</td>\n",
       "      <td>15.0</td>\n",
       "      <td>0.0</td>\n",
       "      <td>Did not approach the crowd; the crowd remains</td>\n",
       "      <td>Bench/sitting area</td>\n",
       "      <td>Kids birthday party at Orange BBQ area Upper A...</td>\n",
       "      <td>Q001-ZN02</td>\n",
       "      <td>Queens</td>\n",
       "    </tr>\n",
       "    <tr>\n",
       "      <td>3</td>\n",
       "      <td>06-05-2020 13:35:19</td>\n",
       "      <td>Q-07</td>\n",
       "      <td>25.0</td>\n",
       "      <td>1.0</td>\n",
       "      <td>Did not approach the crowd; the crowd remains</td>\n",
       "      <td>Playground</td>\n",
       "      <td>NaN</td>\n",
       "      <td>Q300-03</td>\n",
       "      <td>Queens</td>\n",
       "    </tr>\n",
       "    <tr>\n",
       "      <td>4</td>\n",
       "      <td>06-04-2020 18:42:02</td>\n",
       "      <td>Q-14</td>\n",
       "      <td>10.0</td>\n",
       "      <td>0.0</td>\n",
       "      <td>Did not approach the crowd; the crowd remains</td>\n",
       "      <td>Handall court</td>\n",
       "      <td>B77 handball  - elderly paddleball regulars</td>\n",
       "      <td>Q163-ZN05A</td>\n",
       "      <td>Queens</td>\n",
       "    </tr>\n",
       "  </tbody>\n",
       "</table>\n",
       "</div>"
      ],
      "text/plain": [
       "   encounter_timestamp park_district  patroncount  in_playground  \\\n",
       "0  06-05-2020 18:55:11          Q-07         50.0            1.0   \n",
       "1  06-05-2020 17:00:16          Q-08         25.0            0.0   \n",
       "2  06-05-2020 15:53:01         Q-07A         15.0            0.0   \n",
       "3  06-05-2020 13:35:19          Q-07         25.0            1.0   \n",
       "4  06-04-2020 18:42:02          Q-14         10.0            0.0   \n",
       "\n",
       "                                    action_taken             amenity  \\\n",
       "0  Did not approach the crowd; the crowd remains       Handall court   \n",
       "1  Did not approach the crowd; the crowd remains  Bench/sitting area   \n",
       "2  Did not approach the crowd; the crowd remains  Bench/sitting area   \n",
       "3  Did not approach the crowd; the crowd remains          Playground   \n",
       "4  Did not approach the crowd; the crowd remains       Handall court   \n",
       "\n",
       "                                            comments     site_id borough  \n",
       "0  Kids in PG and adults on HBCT. Departing slowl...     Q086-01  Queens  \n",
       "1                                      Bocce courts         Q021  Queens  \n",
       "2  Kids birthday party at Orange BBQ area Upper A...   Q001-ZN02  Queens  \n",
       "3                                                NaN     Q300-03  Queens  \n",
       "4        B77 handball  - elderly paddleball regulars  Q163-ZN05A  Queens  "
      ]
     },
     "execution_count": 33,
     "metadata": {},
     "output_type": "execute_result"
    }
   ],
   "source": [
    "crowds_inserts.head()"
   ]
  },
  {
   "cell_type": "code",
   "execution_count": 34,
   "metadata": {},
   "outputs": [],
   "source": [
    "crowds_inserts.to_sql('tbl_dpr_crowds', engine, index = False, if_exists = 'append')"
   ]
  },
  {
   "cell_type": "code",
   "execution_count": 35,
   "metadata": {},
   "outputs": [],
   "source": [
    "crowds_updates = crowds_deltas[crowds_deltas['dml_verb'] == 'U'][sql_cols]"
   ]
  },
  {
   "cell_type": "code",
   "execution_count": 36,
   "metadata": {},
   "outputs": [
    {
     "data": {
      "text/html": [
       "<div>\n",
       "<style scoped>\n",
       "    .dataframe tbody tr th:only-of-type {\n",
       "        vertical-align: middle;\n",
       "    }\n",
       "\n",
       "    .dataframe tbody tr th {\n",
       "        vertical-align: top;\n",
       "    }\n",
       "\n",
       "    .dataframe thead th {\n",
       "        text-align: right;\n",
       "    }\n",
       "</style>\n",
       "<table border=\"1\" class=\"dataframe\">\n",
       "  <thead>\n",
       "    <tr style=\"text-align: right;\">\n",
       "      <th></th>\n",
       "      <th>encounter_timestamp</th>\n",
       "      <th>park_district</th>\n",
       "      <th>patroncount</th>\n",
       "      <th>in_playground</th>\n",
       "      <th>action_taken</th>\n",
       "      <th>amenity</th>\n",
       "      <th>comments</th>\n",
       "      <th>site_id</th>\n",
       "      <th>borough</th>\n",
       "    </tr>\n",
       "  </thead>\n",
       "  <tbody>\n",
       "  </tbody>\n",
       "</table>\n",
       "</div>"
      ],
      "text/plain": [
       "Empty DataFrame\n",
       "Columns: [encounter_timestamp, park_district, patroncount, in_playground, action_taken, amenity, comments, site_id, borough]\n",
       "Index: []"
      ]
     },
     "execution_count": 36,
     "metadata": {},
     "output_type": "execute_result"
    }
   ],
   "source": [
    "crowds_updates.head()"
   ]
  },
  {
   "cell_type": "code",
   "execution_count": 37,
   "metadata": {},
   "outputs": [],
   "source": [
    "sql_update(crowds_updates, 'tbl_dpr_crowds', engine, ['encounter_timestamp', 'site_id'])"
   ]
  }
 ],
 "metadata": {
  "kernelspec": {
   "display_name": "Python 3",
   "language": "python",
   "name": "python3"
  },
  "language_info": {
   "codemirror_mode": {
    "name": "ipython",
    "version": 3
   },
   "file_extension": ".py",
   "mimetype": "text/x-python",
   "name": "python",
   "nbconvert_exporter": "python",
   "pygments_lexer": "ipython3",
   "version": "3.7.4"
  }
 },
 "nbformat": 4,
 "nbformat_minor": 2
}
