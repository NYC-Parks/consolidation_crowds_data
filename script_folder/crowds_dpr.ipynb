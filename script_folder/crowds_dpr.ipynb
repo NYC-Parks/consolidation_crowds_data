{
 "cells": [
  {
   "cell_type": "code",
   "execution_count": 1,
   "metadata": {},
   "outputs": [],
   "source": [
    "#Import required libraries\n",
    "import gspread\n",
    "import sys\n",
    "from oauth2client.service_account import ServiceAccountCredentials\n",
    "import pandas as pd\n",
    "import numpy as np\n",
    "import urllib\n",
    "import sqlalchemy\n",
    "from gspread_dataframe import set_with_dataframe\n",
    "from gspread_dataframe import get_as_dataframe"
   ]
  },
  {
   "cell_type": "code",
   "execution_count": 2,
   "metadata": {},
   "outputs": [],
   "source": [
    "#Import project specific functions\n",
    "from column_map import column_map\n",
    "from yesno_functions import *"
   ]
  },
  {
   "cell_type": "code",
   "execution_count": 3,
   "metadata": {},
   "outputs": [
    {
     "name": "stderr",
     "output_type": "stream",
     "text": [
      "C:\\ProgramData\\Anaconda3\\lib\\site-packages\\authlib\\client\\__init__.py:12: AuthlibDeprecationWarning: Deprecate \"authlib.client\", USE \"authlib.integrations.requests_client\" instead.\n",
      "It will be compatible before version 1.0.\n",
      "Read more <https://git.io/Jeclj#file-rn-md>\n",
      "  deprecate('Deprecate \"authlib.client\", USE \"authlib.integrations.requests_client\" instead.', '1.0', 'Jeclj', 'rn')\n"
     ]
    }
   ],
   "source": [
    "#Import shared functions\n",
    "sys.path.append('../..')\n",
    "from IPM_Shared_Code_public.Python.google_creds_functions import create_assertion_session\n",
    "from IPM_Shared_Code_public.Python.utils import get_config\n",
    "from IPM_Shared_Code_public.Python.delta_functions import *\n",
    "from IPM_Shared_Code_public.Python.sql_functions import *"
   ]
  },
  {
   "cell_type": "markdown",
   "metadata": {},
   "source": [
    "### Use the config file to setup connections"
   ]
  },
  {
   "cell_type": "code",
   "execution_count": 4,
   "metadata": {},
   "outputs": [],
   "source": [
    "config = get_config('c:\\Projects\\config.ini')\n",
    "\n",
    "driver = config['srv']['driver']\n",
    "server = config['srv']['server']\n",
    "dwh = config['db']['crowdsdb']\n",
    "cred_file = config['google']['path_to_file']"
   ]
  },
  {
   "cell_type": "code",
   "execution_count": 5,
   "metadata": {},
   "outputs": [],
   "source": [
    "con_string = 'Driver={' + driver + '};Server=' + server +';Database=' + dwh + ';Trusted_Connection=Yes;'\n",
    "params = urllib.parse.quote_plus(con_string)\n",
    "engine = sqlalchemy.create_engine(\"mssql+pyodbc:///?odbc_connect=%s\" % params)"
   ]
  },
  {
   "cell_type": "markdown",
   "metadata": {},
   "source": [
    "### Execute the function to get the renamed columns for this sheet"
   ]
  },
  {
   "cell_type": "code",
   "execution_count": 6,
   "metadata": {},
   "outputs": [],
   "source": [
    "#Call the column map function to get the dictionary to be used for renaming and subsetting the columns\n",
    "col_rename = column_map('crowds_dpr')"
   ]
  },
  {
   "cell_type": "code",
   "execution_count": 7,
   "metadata": {},
   "outputs": [],
   "source": [
    "#Because of duplicate column names these columns are renamed based on the column index and the keys and \n",
    "#values need to be switched\n",
    "col_rename = {v[0]: k for k, v in col_rename.items()}"
   ]
  },
  {
   "cell_type": "code",
   "execution_count": 8,
   "metadata": {},
   "outputs": [],
   "source": [
    "cols = list(col_rename.values())"
   ]
  },
  {
   "cell_type": "markdown",
   "metadata": {},
   "source": [
    "### Read the site reference list from SQL"
   ]
  },
  {
   "cell_type": "code",
   "execution_count": 9,
   "metadata": {},
   "outputs": [],
   "source": [
    "sql = 'select * from crowdsdb.dbo.tbl_ref_sites'"
   ]
  },
  {
   "cell_type": "code",
   "execution_count": 10,
   "metadata": {},
   "outputs": [],
   "source": [
    "site_ref = pd.read_sql(con = engine, sql = sql)[['site_id', 'desc_location']]"
   ]
  },
  {
   "cell_type": "markdown",
   "metadata": {},
   "source": [
    "### Read the current data from SQL"
   ]
  },
  {
   "cell_type": "code",
   "execution_count": 11,
   "metadata": {},
   "outputs": [],
   "source": [
    "sql = 'select * from crowdsdb.dbo.tbl_dpr_crowds'"
   ]
  },
  {
   "cell_type": "code",
   "execution_count": 12,
   "metadata": {},
   "outputs": [],
   "source": [
    "crowds_sql = (pd.read_sql(con = engine, sql = sql)\n",
    "              .drop(columns = ['crowds_id'])\n",
    "              .fillna(value = np.nan, axis = 1))"
   ]
  },
  {
   "cell_type": "code",
   "execution_count": 13,
   "metadata": {},
   "outputs": [],
   "source": [
    "sql_cols = list(crowds_sql.columns.values)"
   ]
  },
  {
   "cell_type": "code",
   "execution_count": 14,
   "metadata": {},
   "outputs": [],
   "source": [
    "hash_rows(crowds_sql, exclude_cols = ['site_id', 'encounter_timestamp'], hash_name = 'row_hash')"
   ]
  },
  {
   "cell_type": "markdown",
   "metadata": {},
   "source": [
    "### Read the latest data from Google Sheets"
   ]
  },
  {
   "cell_type": "code",
   "execution_count": 15,
   "metadata": {},
   "outputs": [],
   "source": [
    "scope = ['https://spreadsheets.google.com/feeds',\n",
    "         'https://www.googleapis.com/auth/drive']\n",
    "creds = ServiceAccountCredentials.from_json_keyfile_name(cred_file, scope)\n",
    "client = gspread.authorize(creds)"
   ]
  },
  {
   "cell_type": "code",
   "execution_count": 16,
   "metadata": {},
   "outputs": [],
   "source": [
    "sheet = client.open('Crowds_Combined')"
   ]
  },
  {
   "cell_type": "code",
   "execution_count": 17,
   "metadata": {},
   "outputs": [],
   "source": [
    "ws = sheet.worksheet('Sheet1')"
   ]
  },
  {
   "cell_type": "code",
   "execution_count": 24,
   "metadata": {},
   "outputs": [],
   "source": [
    "crowds = (get_as_dataframe(ws, evaluate_formulas = True, header= None)\n",
    "          #Always remove row 0 with the column headers\n",
    "          .iloc[1:]\n",
    "          .rename(columns = col_rename)\n",
    "          .fillna(value = np.nan, axis = 1))[cols]"
   ]
  },
  {
   "cell_type": "code",
   "execution_count": 25,
   "metadata": {},
   "outputs": [],
   "source": [
    "#Remove the rows where there timestamp is null because these sheets have extra rows full of nulls\n",
    "crowds = crowds[crowds['encounter_timestamp'].notnull()]"
   ]
  },
  {
   "cell_type": "code",
   "execution_count": 26,
   "metadata": {},
   "outputs": [
    {
     "data": {
      "text/html": [
       "<div>\n",
       "<style scoped>\n",
       "    .dataframe tbody tr th:only-of-type {\n",
       "        vertical-align: middle;\n",
       "    }\n",
       "\n",
       "    .dataframe tbody tr th {\n",
       "        vertical-align: top;\n",
       "    }\n",
       "\n",
       "    .dataframe thead th {\n",
       "        text-align: right;\n",
       "    }\n",
       "</style>\n",
       "<table border=\"1\" class=\"dataframe\">\n",
       "  <thead>\n",
       "    <tr style=\"text-align: right;\">\n",
       "      <th></th>\n",
       "      <th>encounter_timestamp</th>\n",
       "      <th>park_district</th>\n",
       "      <th>patroncount</th>\n",
       "      <th>in_playground</th>\n",
       "      <th>action_taken</th>\n",
       "      <th>amenity</th>\n",
       "      <th>comments</th>\n",
       "      <th>desc_location</th>\n",
       "      <th>borough</th>\n",
       "    </tr>\n",
       "  </thead>\n",
       "  <tbody>\n",
       "    <tr>\n",
       "      <td>1</td>\n",
       "      <td>5/26/2020 17:37:04</td>\n",
       "      <td>Q-06</td>\n",
       "      <td>25.0</td>\n",
       "      <td>No</td>\n",
       "      <td>Did not approach the crowd; the crowd remains</td>\n",
       "      <td>Chess area</td>\n",
       "      <td>Chess players</td>\n",
       "      <td>Q207 | MacDonald Park</td>\n",
       "      <td>Queens</td>\n",
       "    </tr>\n",
       "    <tr>\n",
       "      <td>2</td>\n",
       "      <td>5/26/2020 17:17:41</td>\n",
       "      <td>X-14</td>\n",
       "      <td>17.0</td>\n",
       "      <td>No</td>\n",
       "      <td>Did not approach the crowd; the crowd remains</td>\n",
       "      <td>Soccer field</td>\n",
       "      <td>NaN</td>\n",
       "      <td>X147A-ZN01 | Starlight Park Zone 1</td>\n",
       "      <td>Bronx</td>\n",
       "    </tr>\n",
       "    <tr>\n",
       "      <td>3</td>\n",
       "      <td>5/26/2020 16:31:03</td>\n",
       "      <td>X-14</td>\n",
       "      <td>8.0</td>\n",
       "      <td>Yes</td>\n",
       "      <td>Did not approach the crowd; the crowd remains</td>\n",
       "      <td>Playground</td>\n",
       "      <td>On the swings and play equipment</td>\n",
       "      <td>X147A-ZN01 | Starlight Park Zone 1</td>\n",
       "      <td>Bronx</td>\n",
       "    </tr>\n",
       "    <tr>\n",
       "      <td>4</td>\n",
       "      <td>5/26/2020 10:55:57</td>\n",
       "      <td>X-06</td>\n",
       "      <td>20.0</td>\n",
       "      <td>No</td>\n",
       "      <td>Approached the crowd; they ignored the employee</td>\n",
       "      <td>Bench/sitting area</td>\n",
       "      <td>NaN</td>\n",
       "      <td>X010A | Tremont Park</td>\n",
       "      <td>Bronx</td>\n",
       "    </tr>\n",
       "    <tr>\n",
       "      <td>5</td>\n",
       "      <td>5/26/2020 10:24:04</td>\n",
       "      <td>B-13</td>\n",
       "      <td>20.0</td>\n",
       "      <td>No</td>\n",
       "      <td>Approached the crowd; they ignored the employee</td>\n",
       "      <td>Soccer field</td>\n",
       "      <td>NaN</td>\n",
       "      <td>B129 | Kaiser Park</td>\n",
       "      <td>Brooklyn</td>\n",
       "    </tr>\n",
       "  </tbody>\n",
       "</table>\n",
       "</div>"
      ],
      "text/plain": [
       "  encounter_timestamp park_district  patroncount in_playground  \\\n",
       "1  5/26/2020 17:37:04          Q-06         25.0            No   \n",
       "2  5/26/2020 17:17:41          X-14         17.0            No   \n",
       "3  5/26/2020 16:31:03          X-14          8.0           Yes   \n",
       "4  5/26/2020 10:55:57          X-06         20.0            No   \n",
       "5  5/26/2020 10:24:04          B-13         20.0            No   \n",
       "\n",
       "                                      action_taken             amenity  \\\n",
       "1    Did not approach the crowd; the crowd remains          Chess area   \n",
       "2    Did not approach the crowd; the crowd remains        Soccer field   \n",
       "3    Did not approach the crowd; the crowd remains          Playground   \n",
       "4  Approached the crowd; they ignored the employee  Bench/sitting area   \n",
       "5  Approached the crowd; they ignored the employee        Soccer field   \n",
       "\n",
       "                            comments                       desc_location  \\\n",
       "1                      Chess players               Q207 | MacDonald Park   \n",
       "2                                NaN  X147A-ZN01 | Starlight Park Zone 1   \n",
       "3  On the swings and play equipment   X147A-ZN01 | Starlight Park Zone 1   \n",
       "4                                NaN                X010A | Tremont Park   \n",
       "5                                NaN                  B129 | Kaiser Park   \n",
       "\n",
       "    borough  \n",
       "1    Queens  \n",
       "2     Bronx  \n",
       "3     Bronx  \n",
       "4     Bronx  \n",
       "5  Brooklyn  "
      ]
     },
     "execution_count": 26,
     "metadata": {},
     "output_type": "execute_result"
    }
   ],
   "source": [
    "crowds.head()"
   ]
  },
  {
   "cell_type": "code",
   "execution_count": 27,
   "metadata": {},
   "outputs": [],
   "source": [
    "yesno = ['in_playground']"
   ]
  },
  {
   "cell_type": "code",
   "execution_count": 28,
   "metadata": {},
   "outputs": [],
   "source": [
    "yesno_cols(crowds, yesno)"
   ]
  },
  {
   "cell_type": "code",
   "execution_count": 29,
   "metadata": {},
   "outputs": [],
   "source": [
    "crowds = crowds.merge(site_ref, how = 'left', on = 'desc_location')[sql_cols]"
   ]
  },
  {
   "cell_type": "code",
   "execution_count": 26,
   "metadata": {},
   "outputs": [],
   "source": [
    "hash_rows(crowds, exclude_cols = ['site_id', 'encounter_timestamp'], hash_name = 'row_hash')"
   ]
  },
  {
   "cell_type": "code",
   "execution_count": 27,
   "metadata": {},
   "outputs": [
    {
     "data": {
      "text/html": [
       "<div>\n",
       "<style scoped>\n",
       "    .dataframe tbody tr th:only-of-type {\n",
       "        vertical-align: middle;\n",
       "    }\n",
       "\n",
       "    .dataframe tbody tr th {\n",
       "        vertical-align: top;\n",
       "    }\n",
       "\n",
       "    .dataframe thead th {\n",
       "        text-align: right;\n",
       "    }\n",
       "</style>\n",
       "<table border=\"1\" class=\"dataframe\">\n",
       "  <thead>\n",
       "    <tr style=\"text-align: right;\">\n",
       "      <th></th>\n",
       "      <th>encounter_timestamp</th>\n",
       "      <th>park_district</th>\n",
       "      <th>patroncount</th>\n",
       "      <th>in_playground</th>\n",
       "      <th>action_taken</th>\n",
       "      <th>amenity</th>\n",
       "      <th>comments</th>\n",
       "      <th>site_id</th>\n",
       "      <th>borough</th>\n",
       "      <th>row_hash</th>\n",
       "    </tr>\n",
       "  </thead>\n",
       "  <tbody>\n",
       "    <tr>\n",
       "      <td>0</td>\n",
       "      <td>5/26/2020 17:37:04</td>\n",
       "      <td>Q-06</td>\n",
       "      <td>25.0</td>\n",
       "      <td>0.0</td>\n",
       "      <td>Did not approach the crowd; the crowd remains</td>\n",
       "      <td>Chess area</td>\n",
       "      <td>Chess players</td>\n",
       "      <td>Q207</td>\n",
       "      <td>Queens</td>\n",
       "      <td>230d771c770588d196f0ff3a045f014e7d2ae717c19870...</td>\n",
       "    </tr>\n",
       "    <tr>\n",
       "      <td>1</td>\n",
       "      <td>5/26/2020 17:17:41</td>\n",
       "      <td>X-14</td>\n",
       "      <td>17.0</td>\n",
       "      <td>0.0</td>\n",
       "      <td>Did not approach the crowd; the crowd remains</td>\n",
       "      <td>Soccer field</td>\n",
       "      <td>NaN</td>\n",
       "      <td>X147A-ZN01</td>\n",
       "      <td>Bronx</td>\n",
       "      <td>357cf0fd8cb2692275585adf6bb3a8ed856235187eb0d3...</td>\n",
       "    </tr>\n",
       "    <tr>\n",
       "      <td>2</td>\n",
       "      <td>5/26/2020 16:31:03</td>\n",
       "      <td>X-14</td>\n",
       "      <td>8.0</td>\n",
       "      <td>1.0</td>\n",
       "      <td>Did not approach the crowd; the crowd remains</td>\n",
       "      <td>Playground</td>\n",
       "      <td>On the swings and play equipment</td>\n",
       "      <td>X147A-ZN01</td>\n",
       "      <td>Bronx</td>\n",
       "      <td>12f45e93d05d3fb926d66c6eb1aeeab06d4e83e90a1596...</td>\n",
       "    </tr>\n",
       "    <tr>\n",
       "      <td>3</td>\n",
       "      <td>5/26/2020 10:55:57</td>\n",
       "      <td>X-06</td>\n",
       "      <td>20.0</td>\n",
       "      <td>0.0</td>\n",
       "      <td>Approached the crowd; they ignored the employee</td>\n",
       "      <td>Bench/sitting area</td>\n",
       "      <td>NaN</td>\n",
       "      <td>X010A</td>\n",
       "      <td>Bronx</td>\n",
       "      <td>f60be131fa74dff78e843dc7964b929c48959e6999b8ba...</td>\n",
       "    </tr>\n",
       "    <tr>\n",
       "      <td>4</td>\n",
       "      <td>5/26/2020 10:24:04</td>\n",
       "      <td>B-13</td>\n",
       "      <td>20.0</td>\n",
       "      <td>0.0</td>\n",
       "      <td>Approached the crowd; they ignored the employee</td>\n",
       "      <td>Soccer field</td>\n",
       "      <td>NaN</td>\n",
       "      <td>B129</td>\n",
       "      <td>Brooklyn</td>\n",
       "      <td>fa5f2cd5e2b38dcc295e39ed620afd980f2bea75f26991...</td>\n",
       "    </tr>\n",
       "  </tbody>\n",
       "</table>\n",
       "</div>"
      ],
      "text/plain": [
       "  encounter_timestamp park_district  patroncount  in_playground  \\\n",
       "0  5/26/2020 17:37:04          Q-06         25.0            0.0   \n",
       "1  5/26/2020 17:17:41          X-14         17.0            0.0   \n",
       "2  5/26/2020 16:31:03          X-14          8.0            1.0   \n",
       "3  5/26/2020 10:55:57          X-06         20.0            0.0   \n",
       "4  5/26/2020 10:24:04          B-13         20.0            0.0   \n",
       "\n",
       "                                      action_taken             amenity  \\\n",
       "0    Did not approach the crowd; the crowd remains          Chess area   \n",
       "1    Did not approach the crowd; the crowd remains        Soccer field   \n",
       "2    Did not approach the crowd; the crowd remains          Playground   \n",
       "3  Approached the crowd; they ignored the employee  Bench/sitting area   \n",
       "4  Approached the crowd; they ignored the employee        Soccer field   \n",
       "\n",
       "                            comments     site_id   borough  \\\n",
       "0                      Chess players        Q207    Queens   \n",
       "1                                NaN  X147A-ZN01     Bronx   \n",
       "2  On the swings and play equipment   X147A-ZN01     Bronx   \n",
       "3                                NaN       X010A     Bronx   \n",
       "4                                NaN        B129  Brooklyn   \n",
       "\n",
       "                                            row_hash  \n",
       "0  230d771c770588d196f0ff3a045f014e7d2ae717c19870...  \n",
       "1  357cf0fd8cb2692275585adf6bb3a8ed856235187eb0d3...  \n",
       "2  12f45e93d05d3fb926d66c6eb1aeeab06d4e83e90a1596...  \n",
       "3  f60be131fa74dff78e843dc7964b929c48959e6999b8ba...  \n",
       "4  fa5f2cd5e2b38dcc295e39ed620afd980f2bea75f26991...  "
      ]
     },
     "execution_count": 27,
     "metadata": {},
     "output_type": "execute_result"
    }
   ],
   "source": [
    "crowds.head()"
   ]
  },
  {
   "cell_type": "markdown",
   "metadata": {},
   "source": [
    "### Find the deltas based on the row hashes"
   ]
  },
  {
   "cell_type": "code",
   "execution_count": 33,
   "metadata": {},
   "outputs": [],
   "source": [
    "crowds_deltas = (check_deltas(new_df = crowds, old_df = crowds_sql, on = ['encounter_timestamp', 'site_id'], \n",
    "                              hash_name = 'row_hash', dml_col = 'dml_verb'))[sql_cols + ['dml_verb']]"
   ]
  },
  {
   "cell_type": "code",
   "execution_count": 34,
   "metadata": {},
   "outputs": [
    {
     "data": {
      "text/html": [
       "<div>\n",
       "<style scoped>\n",
       "    .dataframe tbody tr th:only-of-type {\n",
       "        vertical-align: middle;\n",
       "    }\n",
       "\n",
       "    .dataframe tbody tr th {\n",
       "        vertical-align: top;\n",
       "    }\n",
       "\n",
       "    .dataframe thead th {\n",
       "        text-align: right;\n",
       "    }\n",
       "</style>\n",
       "<table border=\"1\" class=\"dataframe\">\n",
       "  <thead>\n",
       "    <tr style=\"text-align: right;\">\n",
       "      <th></th>\n",
       "      <th>encounter_timestamp</th>\n",
       "      <th>park_district</th>\n",
       "      <th>patroncount</th>\n",
       "      <th>in_playground</th>\n",
       "      <th>action_taken</th>\n",
       "      <th>amenity</th>\n",
       "      <th>comments</th>\n",
       "      <th>site_id</th>\n",
       "      <th>borough</th>\n",
       "      <th>dml_verb</th>\n",
       "    </tr>\n",
       "  </thead>\n",
       "  <tbody>\n",
       "    <tr>\n",
       "      <td>0</td>\n",
       "      <td>5/26/2020 17:37:04</td>\n",
       "      <td>Q-06</td>\n",
       "      <td>25.0</td>\n",
       "      <td>0.0</td>\n",
       "      <td>Did not approach the crowd; the crowd remains</td>\n",
       "      <td>Chess area</td>\n",
       "      <td>Chess players</td>\n",
       "      <td>Q207</td>\n",
       "      <td>Queens</td>\n",
       "      <td>I</td>\n",
       "    </tr>\n",
       "    <tr>\n",
       "      <td>1</td>\n",
       "      <td>5/26/2020 17:17:41</td>\n",
       "      <td>X-14</td>\n",
       "      <td>17.0</td>\n",
       "      <td>0.0</td>\n",
       "      <td>Did not approach the crowd; the crowd remains</td>\n",
       "      <td>Soccer field</td>\n",
       "      <td>NaN</td>\n",
       "      <td>X147A-ZN01</td>\n",
       "      <td>Bronx</td>\n",
       "      <td>I</td>\n",
       "    </tr>\n",
       "    <tr>\n",
       "      <td>2</td>\n",
       "      <td>5/26/2020 16:31:03</td>\n",
       "      <td>X-14</td>\n",
       "      <td>8.0</td>\n",
       "      <td>1.0</td>\n",
       "      <td>Did not approach the crowd; the crowd remains</td>\n",
       "      <td>Playground</td>\n",
       "      <td>On the swings and play equipment</td>\n",
       "      <td>X147A-ZN01</td>\n",
       "      <td>Bronx</td>\n",
       "      <td>I</td>\n",
       "    </tr>\n",
       "    <tr>\n",
       "      <td>3</td>\n",
       "      <td>5/26/2020 10:55:57</td>\n",
       "      <td>X-06</td>\n",
       "      <td>20.0</td>\n",
       "      <td>0.0</td>\n",
       "      <td>Approached the crowd; they ignored the employee</td>\n",
       "      <td>Bench/sitting area</td>\n",
       "      <td>NaN</td>\n",
       "      <td>X010A</td>\n",
       "      <td>Bronx</td>\n",
       "      <td>I</td>\n",
       "    </tr>\n",
       "    <tr>\n",
       "      <td>4</td>\n",
       "      <td>5/26/2020 10:24:04</td>\n",
       "      <td>B-13</td>\n",
       "      <td>20.0</td>\n",
       "      <td>0.0</td>\n",
       "      <td>Approached the crowd; they ignored the employee</td>\n",
       "      <td>Soccer field</td>\n",
       "      <td>NaN</td>\n",
       "      <td>B129</td>\n",
       "      <td>Brooklyn</td>\n",
       "      <td>I</td>\n",
       "    </tr>\n",
       "  </tbody>\n",
       "</table>\n",
       "</div>"
      ],
      "text/plain": [
       "  encounter_timestamp park_district  patroncount  in_playground  \\\n",
       "0  5/26/2020 17:37:04          Q-06         25.0            0.0   \n",
       "1  5/26/2020 17:17:41          X-14         17.0            0.0   \n",
       "2  5/26/2020 16:31:03          X-14          8.0            1.0   \n",
       "3  5/26/2020 10:55:57          X-06         20.0            0.0   \n",
       "4  5/26/2020 10:24:04          B-13         20.0            0.0   \n",
       "\n",
       "                                      action_taken             amenity  \\\n",
       "0    Did not approach the crowd; the crowd remains          Chess area   \n",
       "1    Did not approach the crowd; the crowd remains        Soccer field   \n",
       "2    Did not approach the crowd; the crowd remains          Playground   \n",
       "3  Approached the crowd; they ignored the employee  Bench/sitting area   \n",
       "4  Approached the crowd; they ignored the employee        Soccer field   \n",
       "\n",
       "                            comments     site_id   borough dml_verb  \n",
       "0                      Chess players        Q207    Queens        I  \n",
       "1                                NaN  X147A-ZN01     Bronx        I  \n",
       "2  On the swings and play equipment   X147A-ZN01     Bronx        I  \n",
       "3                                NaN       X010A     Bronx        I  \n",
       "4                                NaN        B129  Brooklyn        I  "
      ]
     },
     "execution_count": 34,
     "metadata": {},
     "output_type": "execute_result"
    }
   ],
   "source": [
    "crowds_deltas.head()"
   ]
  },
  {
   "cell_type": "code",
   "execution_count": 39,
   "metadata": {},
   "outputs": [],
   "source": [
    "crowds_inserts = crowds_deltas[crowds_deltas['dml_verb'] == 'I'][sql_cols]"
   ]
  },
  {
   "cell_type": "code",
   "execution_count": 40,
   "metadata": {},
   "outputs": [
    {
     "data": {
      "text/html": [
       "<div>\n",
       "<style scoped>\n",
       "    .dataframe tbody tr th:only-of-type {\n",
       "        vertical-align: middle;\n",
       "    }\n",
       "\n",
       "    .dataframe tbody tr th {\n",
       "        vertical-align: top;\n",
       "    }\n",
       "\n",
       "    .dataframe thead th {\n",
       "        text-align: right;\n",
       "    }\n",
       "</style>\n",
       "<table border=\"1\" class=\"dataframe\">\n",
       "  <thead>\n",
       "    <tr style=\"text-align: right;\">\n",
       "      <th></th>\n",
       "      <th>encounter_timestamp</th>\n",
       "      <th>park_district</th>\n",
       "      <th>patroncount</th>\n",
       "      <th>in_playground</th>\n",
       "      <th>action_taken</th>\n",
       "      <th>amenity</th>\n",
       "      <th>comments</th>\n",
       "      <th>site_id</th>\n",
       "      <th>borough</th>\n",
       "    </tr>\n",
       "  </thead>\n",
       "  <tbody>\n",
       "    <tr>\n",
       "      <td>0</td>\n",
       "      <td>5/26/2020 17:37:04</td>\n",
       "      <td>Q-06</td>\n",
       "      <td>25.0</td>\n",
       "      <td>0.0</td>\n",
       "      <td>Did not approach the crowd; the crowd remains</td>\n",
       "      <td>Chess area</td>\n",
       "      <td>Chess players</td>\n",
       "      <td>Q207</td>\n",
       "      <td>Queens</td>\n",
       "    </tr>\n",
       "    <tr>\n",
       "      <td>1</td>\n",
       "      <td>5/26/2020 17:17:41</td>\n",
       "      <td>X-14</td>\n",
       "      <td>17.0</td>\n",
       "      <td>0.0</td>\n",
       "      <td>Did not approach the crowd; the crowd remains</td>\n",
       "      <td>Soccer field</td>\n",
       "      <td>NaN</td>\n",
       "      <td>X147A-ZN01</td>\n",
       "      <td>Bronx</td>\n",
       "    </tr>\n",
       "    <tr>\n",
       "      <td>2</td>\n",
       "      <td>5/26/2020 16:31:03</td>\n",
       "      <td>X-14</td>\n",
       "      <td>8.0</td>\n",
       "      <td>1.0</td>\n",
       "      <td>Did not approach the crowd; the crowd remains</td>\n",
       "      <td>Playground</td>\n",
       "      <td>On the swings and play equipment</td>\n",
       "      <td>X147A-ZN01</td>\n",
       "      <td>Bronx</td>\n",
       "    </tr>\n",
       "    <tr>\n",
       "      <td>3</td>\n",
       "      <td>5/26/2020 10:55:57</td>\n",
       "      <td>X-06</td>\n",
       "      <td>20.0</td>\n",
       "      <td>0.0</td>\n",
       "      <td>Approached the crowd; they ignored the employee</td>\n",
       "      <td>Bench/sitting area</td>\n",
       "      <td>NaN</td>\n",
       "      <td>X010A</td>\n",
       "      <td>Bronx</td>\n",
       "    </tr>\n",
       "    <tr>\n",
       "      <td>4</td>\n",
       "      <td>5/26/2020 10:24:04</td>\n",
       "      <td>B-13</td>\n",
       "      <td>20.0</td>\n",
       "      <td>0.0</td>\n",
       "      <td>Approached the crowd; they ignored the employee</td>\n",
       "      <td>Soccer field</td>\n",
       "      <td>NaN</td>\n",
       "      <td>B129</td>\n",
       "      <td>Brooklyn</td>\n",
       "    </tr>\n",
       "  </tbody>\n",
       "</table>\n",
       "</div>"
      ],
      "text/plain": [
       "  encounter_timestamp park_district  patroncount  in_playground  \\\n",
       "0  5/26/2020 17:37:04          Q-06         25.0            0.0   \n",
       "1  5/26/2020 17:17:41          X-14         17.0            0.0   \n",
       "2  5/26/2020 16:31:03          X-14          8.0            1.0   \n",
       "3  5/26/2020 10:55:57          X-06         20.0            0.0   \n",
       "4  5/26/2020 10:24:04          B-13         20.0            0.0   \n",
       "\n",
       "                                      action_taken             amenity  \\\n",
       "0    Did not approach the crowd; the crowd remains          Chess area   \n",
       "1    Did not approach the crowd; the crowd remains        Soccer field   \n",
       "2    Did not approach the crowd; the crowd remains          Playground   \n",
       "3  Approached the crowd; they ignored the employee  Bench/sitting area   \n",
       "4  Approached the crowd; they ignored the employee        Soccer field   \n",
       "\n",
       "                            comments     site_id   borough  \n",
       "0                      Chess players        Q207    Queens  \n",
       "1                                NaN  X147A-ZN01     Bronx  \n",
       "2  On the swings and play equipment   X147A-ZN01     Bronx  \n",
       "3                                NaN       X010A     Bronx  \n",
       "4                                NaN        B129  Brooklyn  "
      ]
     },
     "execution_count": 40,
     "metadata": {},
     "output_type": "execute_result"
    }
   ],
   "source": [
    "crowds_inserts.head()"
   ]
  },
  {
   "cell_type": "code",
   "execution_count": 41,
   "metadata": {},
   "outputs": [],
   "source": [
    "crowds_inserts.to_sql('tbl_dpr_crowds', engine, index = False, if_exists = 'append')"
   ]
  },
  {
   "cell_type": "code",
   "execution_count": 43,
   "metadata": {},
   "outputs": [],
   "source": [
    "crowds_updates = crowds_deltas[crowds_deltas['dml_verb'] == 'U'][sql_cols]"
   ]
  },
  {
   "cell_type": "code",
   "execution_count": 44,
   "metadata": {},
   "outputs": [
    {
     "data": {
      "text/html": [
       "<div>\n",
       "<style scoped>\n",
       "    .dataframe tbody tr th:only-of-type {\n",
       "        vertical-align: middle;\n",
       "    }\n",
       "\n",
       "    .dataframe tbody tr th {\n",
       "        vertical-align: top;\n",
       "    }\n",
       "\n",
       "    .dataframe thead th {\n",
       "        text-align: right;\n",
       "    }\n",
       "</style>\n",
       "<table border=\"1\" class=\"dataframe\">\n",
       "  <thead>\n",
       "    <tr style=\"text-align: right;\">\n",
       "      <th></th>\n",
       "      <th>encounter_timestamp</th>\n",
       "      <th>park_district</th>\n",
       "      <th>patroncount</th>\n",
       "      <th>in_playground</th>\n",
       "      <th>action_taken</th>\n",
       "      <th>amenity</th>\n",
       "      <th>comments</th>\n",
       "      <th>site_id</th>\n",
       "      <th>borough</th>\n",
       "    </tr>\n",
       "  </thead>\n",
       "  <tbody>\n",
       "  </tbody>\n",
       "</table>\n",
       "</div>"
      ],
      "text/plain": [
       "Empty DataFrame\n",
       "Columns: [encounter_timestamp, park_district, patroncount, in_playground, action_taken, amenity, comments, site_id, borough]\n",
       "Index: []"
      ]
     },
     "execution_count": 44,
     "metadata": {},
     "output_type": "execute_result"
    }
   ],
   "source": [
    "crowds_updates.head()"
   ]
  },
  {
   "cell_type": "code",
   "execution_count": 47,
   "metadata": {},
   "outputs": [],
   "source": [
    "sql_update(crowds_updates, 'tbl_dpr_crowds', engine, ['encounter_timestamp', 'site_id'])"
   ]
  }
 ],
 "metadata": {
  "kernelspec": {
   "display_name": "Python 3",
   "language": "python",
   "name": "python3"
  },
  "language_info": {
   "codemirror_mode": {
    "name": "ipython",
    "version": 3
   },
   "file_extension": ".py",
   "mimetype": "text/x-python",
   "name": "python",
   "nbconvert_exporter": "python",
   "pygments_lexer": "ipython3",
   "version": "3.7.4"
  }
 },
 "nbformat": 4,
 "nbformat_minor": 2
}
