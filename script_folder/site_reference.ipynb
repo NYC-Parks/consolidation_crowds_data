{
 "cells": [
  {
   "cell_type": "code",
   "execution_count": 2,
   "metadata": {},
   "outputs": [],
   "source": [
    "import gspread\n",
    "import sys\n",
    "from oauth2client.service_account import ServiceAccountCredentials\n",
    "import pandas as pd\n",
    "import numpy as np\n",
    "import urllib\n",
    "import sqlalchemy\n",
    "from gspread_dataframe import set_with_dataframe\n",
    "from gspread_dataframe import get_as_dataframe"
   ]
  },
  {
   "cell_type": "code",
   "execution_count": 3,
   "metadata": {},
   "outputs": [],
   "source": [
    "from column_map import column_map"
   ]
  },
  {
   "cell_type": "code",
   "execution_count": 49,
   "metadata": {},
   "outputs": [],
   "source": [
    "sys.path.append('../..')\n",
    "from IPM_Shared_Code_public.Python.google_creds_functions import create_assertion_session\n",
    "from IPM_Shared_Code_public.Python.utils import get_config\n",
    "from IPM_Shared_Code_public.Python.delta_functions import *\n",
    "from IPM_Shared_Code_public.Python.sql_functions import sql_update"
   ]
  },
  {
   "cell_type": "markdown",
   "metadata": {},
   "source": [
    "### Use the config file to setup connections"
   ]
  },
  {
   "cell_type": "code",
   "execution_count": 5,
   "metadata": {},
   "outputs": [],
   "source": [
    "config = get_config('c:\\Projects\\config.ini')\n",
    "\n",
    "driver = config['srv']['driver']\n",
    "server = config['srv']['server']\n",
    "dwh = config['db']['crowdsdb']\n",
    "cred_file = config['google']['path_to_file']"
   ]
  },
  {
   "cell_type": "markdown",
   "metadata": {},
   "source": [
    "### Create the dictionary to rename the columns"
   ]
  },
  {
   "cell_type": "code",
   "execution_count": 24,
   "metadata": {},
   "outputs": [],
   "source": [
    "col_rename = {'PROPERTY_I': 'site_id',\n",
    "               'DESCRIPTIO': 'site_desc', \n",
    "               'DISTRICT': 'park_district', \n",
    "               'DESC_LOCAT': 'desc_location', \n",
    "               'Latitiude': 'latitude', \n",
    "               'Longitude': 'longitude'}"
   ]
  },
  {
   "cell_type": "code",
   "execution_count": 25,
   "metadata": {},
   "outputs": [],
   "source": [
    "cols = list(col_rename.values())"
   ]
  },
  {
   "cell_type": "markdown",
   "metadata": {},
   "source": [
    "### Read the current data from SQL"
   ]
  },
  {
   "cell_type": "code",
   "execution_count": 29,
   "metadata": {},
   "outputs": [],
   "source": [
    "con_string = 'Driver={' + driver + '};Server=' + server +';Database=' + dwh + ';Trusted_Connection=Yes;'\n",
    "params = urllib.parse.quote_plus(con_string)\n",
    "engine = sqlalchemy.create_engine(\"mssql+pyodbc:///?odbc_connect=%s\" % params)"
   ]
  },
  {
   "cell_type": "code",
   "execution_count": 30,
   "metadata": {},
   "outputs": [],
   "source": [
    "sql = 'select * from crowdsdb.dbo.tbl_ref_sites'"
   ]
  },
  {
   "cell_type": "code",
   "execution_count": 31,
   "metadata": {},
   "outputs": [],
   "source": [
    "sites_sql = (pd.read_sql(con = engine, sql = sql)\n",
    "             .fillna(value = np.nan, axis = 1))[cols]"
   ]
  },
  {
   "cell_type": "code",
   "execution_count": 32,
   "metadata": {},
   "outputs": [],
   "source": [
    "hash_rows(sites_sql, exclude_cols = ['site_id'], hash_name = 'row_hash')"
   ]
  },
  {
   "cell_type": "markdown",
   "metadata": {},
   "source": [
    "### Read the latest data from Google Sheets"
   ]
  },
  {
   "cell_type": "code",
   "execution_count": 10,
   "metadata": {},
   "outputs": [],
   "source": [
    "scope = ['https://spreadsheets.google.com/feeds',\n",
    "         'https://www.googleapis.com/auth/drive']\n",
    "creds = ServiceAccountCredentials.from_json_keyfile_name(cred_file, scope)\n",
    "client = gspread.authorize(creds)"
   ]
  },
  {
   "cell_type": "code",
   "execution_count": 11,
   "metadata": {},
   "outputs": [],
   "source": [
    "sheet = client.open('DailyTasks_WebMerc_Centroids')"
   ]
  },
  {
   "cell_type": "code",
   "execution_count": 13,
   "metadata": {},
   "outputs": [],
   "source": [
    "ws = sheet.worksheet('Sheet1')"
   ]
  },
  {
   "cell_type": "code",
   "execution_count": 26,
   "metadata": {},
   "outputs": [],
   "source": [
    "sites = (get_as_dataframe(ws, evaluate_formulas = True, header= 0)\n",
    "         .rename(columns = col_rename)\n",
    "         .fillna(value = np.nan, axis = 1))[cols]"
   ]
  },
  {
   "cell_type": "code",
   "execution_count": 39,
   "metadata": {},
   "outputs": [],
   "source": [
    "#Exclude any row with a null site_id\n",
    "sites = sites[sites['site_id'].notna()]"
   ]
  },
  {
   "cell_type": "code",
   "execution_count": null,
   "metadata": {},
   "outputs": [],
   "source": [
    "sites['dups'] = sites['site_id'].duplicated()"
   ]
  },
  {
   "cell_type": "code",
   "execution_count": 59,
   "metadata": {},
   "outputs": [
    {
     "data": {
      "text/html": [
       "<div>\n",
       "<style scoped>\n",
       "    .dataframe tbody tr th:only-of-type {\n",
       "        vertical-align: middle;\n",
       "    }\n",
       "\n",
       "    .dataframe tbody tr th {\n",
       "        vertical-align: top;\n",
       "    }\n",
       "\n",
       "    .dataframe thead th {\n",
       "        text-align: right;\n",
       "    }\n",
       "</style>\n",
       "<table border=\"1\" class=\"dataframe\">\n",
       "  <thead>\n",
       "    <tr style=\"text-align: right;\">\n",
       "      <th></th>\n",
       "      <th>site_id</th>\n",
       "      <th>site_desc</th>\n",
       "      <th>park_district</th>\n",
       "      <th>desc_location</th>\n",
       "      <th>latitude</th>\n",
       "      <th>longitude</th>\n",
       "      <th>row_hash</th>\n",
       "      <th>dups</th>\n",
       "    </tr>\n",
       "  </thead>\n",
       "  <tbody>\n",
       "    <tr>\n",
       "      <td>568</td>\n",
       "      <td>Q052-01</td>\n",
       "      <td>Captain Tilly Park-Captain Tilly Playground</td>\n",
       "      <td>Q-08</td>\n",
       "      <td>Q052-01 | Captain Tilly Park-Captain Tilly Pla...</td>\n",
       "      <td>40.71260</td>\n",
       "      <td>-73.79920</td>\n",
       "      <td>44464b0a962ecd6a29bc2fc32a3eb570bf693c80f723b4...</td>\n",
       "      <td>True</td>\n",
       "    </tr>\n",
       "    <tr>\n",
       "      <td>4836</td>\n",
       "      <td>M198</td>\n",
       "      <td>Martin Luther King Jr. Playground</td>\n",
       "      <td>M-10</td>\n",
       "      <td>M198 | Martin Luther King Jr. Playground</td>\n",
       "      <td>40.80020</td>\n",
       "      <td>-73.95040</td>\n",
       "      <td>3395d42a55ced6eed402b1b9665bf0d245d7d391c729c2...</td>\n",
       "      <td>True</td>\n",
       "    </tr>\n",
       "    <tr>\n",
       "      <td>4837</td>\n",
       "      <td>M404</td>\n",
       "      <td>NYC AIDS Memorial Park at St. Vincent’s Triangle</td>\n",
       "      <td>M-02</td>\n",
       "      <td>M404 | NYC AIDS Memorial Park at St. Vincent’s...</td>\n",
       "      <td>40.73720</td>\n",
       "      <td>-74.00120</td>\n",
       "      <td>a6daf06321df6730bd8aadbe90724004f8b9706bc724aa...</td>\n",
       "      <td>True</td>\n",
       "    </tr>\n",
       "    <tr>\n",
       "      <td>4841</td>\n",
       "      <td>X039-ZN19</td>\n",
       "      <td>Orchard Beach</td>\n",
       "      <td>NaN</td>\n",
       "      <td>X039-ZN19 | Orchard Beach</td>\n",
       "      <td>40.86926</td>\n",
       "      <td>-73.79017</td>\n",
       "      <td>47c9e632848013b3a2b049167aa70ed03bfaca517b97d1...</td>\n",
       "      <td>True</td>\n",
       "    </tr>\n",
       "    <tr>\n",
       "      <td>4844</td>\n",
       "      <td>M042-ZN04</td>\n",
       "      <td>Inwood Hill Park - Dyckman Ballfield</td>\n",
       "      <td>NaN</td>\n",
       "      <td>M042-ZN04 | Inwood Hill Park Zone 4 (Dyckman F...</td>\n",
       "      <td>40.87202</td>\n",
       "      <td>-73.93082</td>\n",
       "      <td>4f6fc4b2122cba93cffb6ea5ada1a11b84ce0316effd42...</td>\n",
       "      <td>True</td>\n",
       "    </tr>\n",
       "    <tr>\n",
       "      <td>4845</td>\n",
       "      <td>M071-37</td>\n",
       "      <td>Riverside Park-Tot Lot  One Hundred And Twelve</td>\n",
       "      <td>NaN</td>\n",
       "      <td>M071-37 | Riverside Park-Tot Lot One Hundred A...</td>\n",
       "      <td>40.80625</td>\n",
       "      <td>-73.96805</td>\n",
       "      <td>ccfbcc7cac06ac8a4b665524a58cde4c96458f6bd64093...</td>\n",
       "      <td>True</td>\n",
       "    </tr>\n",
       "    <tr>\n",
       "      <td>4846</td>\n",
       "      <td>M071-38</td>\n",
       "      <td>Riverside Park-Tot Lot  One Hundred And Sixteen</td>\n",
       "      <td>NaN</td>\n",
       "      <td>M071-38 | Riverside Park-Tot Lot One Hundred A...</td>\n",
       "      <td>40.80980</td>\n",
       "      <td>-73.96535</td>\n",
       "      <td>fcff21907385e420e055ba422f0d8bf1392c755e2100e3...</td>\n",
       "      <td>True</td>\n",
       "    </tr>\n",
       "    <tr>\n",
       "      <td>4848</td>\n",
       "      <td>X044</td>\n",
       "      <td>St. James Park</td>\n",
       "      <td>NaN</td>\n",
       "      <td>NaN</td>\n",
       "      <td>40.86516</td>\n",
       "      <td>-73.89779</td>\n",
       "      <td>b12c32bed66e5ccb2e032e29599df6f1580b3376d60418...</td>\n",
       "      <td>True</td>\n",
       "    </tr>\n",
       "  </tbody>\n",
       "</table>\n",
       "</div>"
      ],
      "text/plain": [
       "        site_id                                         site_desc  \\\n",
       "568     Q052-01       Captain Tilly Park-Captain Tilly Playground   \n",
       "4836       M198                 Martin Luther King Jr. Playground   \n",
       "4837       M404  NYC AIDS Memorial Park at St. Vincent’s Triangle   \n",
       "4841  X039-ZN19                                     Orchard Beach   \n",
       "4844  M042-ZN04              Inwood Hill Park - Dyckman Ballfield   \n",
       "4845    M071-37    Riverside Park-Tot Lot  One Hundred And Twelve   \n",
       "4846    M071-38   Riverside Park-Tot Lot  One Hundred And Sixteen   \n",
       "4848       X044                                    St. James Park   \n",
       "\n",
       "     park_district                                      desc_location  \\\n",
       "568           Q-08  Q052-01 | Captain Tilly Park-Captain Tilly Pla...   \n",
       "4836          M-10           M198 | Martin Luther King Jr. Playground   \n",
       "4837          M-02  M404 | NYC AIDS Memorial Park at St. Vincent’s...   \n",
       "4841           NaN                          X039-ZN19 | Orchard Beach   \n",
       "4844           NaN  M042-ZN04 | Inwood Hill Park Zone 4 (Dyckman F...   \n",
       "4845           NaN  M071-37 | Riverside Park-Tot Lot One Hundred A...   \n",
       "4846           NaN  M071-38 | Riverside Park-Tot Lot One Hundred A...   \n",
       "4848           NaN                                                NaN   \n",
       "\n",
       "      latitude  longitude                                           row_hash  \\\n",
       "568   40.71260  -73.79920  44464b0a962ecd6a29bc2fc32a3eb570bf693c80f723b4...   \n",
       "4836  40.80020  -73.95040  3395d42a55ced6eed402b1b9665bf0d245d7d391c729c2...   \n",
       "4837  40.73720  -74.00120  a6daf06321df6730bd8aadbe90724004f8b9706bc724aa...   \n",
       "4841  40.86926  -73.79017  47c9e632848013b3a2b049167aa70ed03bfaca517b97d1...   \n",
       "4844  40.87202  -73.93082  4f6fc4b2122cba93cffb6ea5ada1a11b84ce0316effd42...   \n",
       "4845  40.80625  -73.96805  ccfbcc7cac06ac8a4b665524a58cde4c96458f6bd64093...   \n",
       "4846  40.80980  -73.96535  fcff21907385e420e055ba422f0d8bf1392c755e2100e3...   \n",
       "4848  40.86516  -73.89779  b12c32bed66e5ccb2e032e29599df6f1580b3376d60418...   \n",
       "\n",
       "      dups  \n",
       "568   True  \n",
       "4836  True  \n",
       "4837  True  \n",
       "4841  True  \n",
       "4844  True  \n",
       "4845  True  \n",
       "4846  True  \n",
       "4848  True  "
      ]
     },
     "execution_count": 59,
     "metadata": {},
     "output_type": "execute_result"
    }
   ],
   "source": [
    "sites[sites['dups'] == True]"
   ]
  },
  {
   "cell_type": "code",
   "execution_count": 34,
   "metadata": {},
   "outputs": [],
   "source": [
    "hash_rows(sites, exclude_cols = ['site_id'], hash_name = 'row_hash')"
   ]
  },
  {
   "cell_type": "markdown",
   "metadata": {},
   "source": [
    "### Perform the delta check"
   ]
  },
  {
   "cell_type": "code",
   "execution_count": 35,
   "metadata": {},
   "outputs": [],
   "source": [
    "sites_deltas = (check_deltas(new_df = sites, old_df = sites_sql, on = 'site_id', \n",
    "                              hash_name = 'row_hash', dml_col = 'dml_verb'))"
   ]
  },
  {
   "cell_type": "code",
   "execution_count": 37,
   "metadata": {},
   "outputs": [
    {
     "data": {
      "text/html": [
       "<div>\n",
       "<style scoped>\n",
       "    .dataframe tbody tr th:only-of-type {\n",
       "        vertical-align: middle;\n",
       "    }\n",
       "\n",
       "    .dataframe tbody tr th {\n",
       "        vertical-align: top;\n",
       "    }\n",
       "\n",
       "    .dataframe thead th {\n",
       "        text-align: right;\n",
       "    }\n",
       "</style>\n",
       "<table border=\"1\" class=\"dataframe\">\n",
       "  <thead>\n",
       "    <tr style=\"text-align: right;\">\n",
       "      <th></th>\n",
       "      <th>site_id</th>\n",
       "      <th>site_desc</th>\n",
       "      <th>park_district</th>\n",
       "      <th>desc_location</th>\n",
       "      <th>latitude</th>\n",
       "      <th>longitude</th>\n",
       "      <th>row_hash</th>\n",
       "      <th>site_desc_old</th>\n",
       "      <th>park_district_old</th>\n",
       "      <th>desc_location_old</th>\n",
       "      <th>latitude_old</th>\n",
       "      <th>longitude_old</th>\n",
       "      <th>row_hash_old</th>\n",
       "      <th>dml_verb</th>\n",
       "    </tr>\n",
       "  </thead>\n",
       "  <tbody>\n",
       "    <tr>\n",
       "      <td>0</td>\n",
       "      <td>Q102</td>\n",
       "      <td>Juniper Valley Park</td>\n",
       "      <td>Q-05</td>\n",
       "      <td>Q102 | Juniper Valley Park</td>\n",
       "      <td>40.7202</td>\n",
       "      <td>-73.8804</td>\n",
       "      <td>d322002ab6bc23a6a3e67b72fb0aa7005da8c5212380dc...</td>\n",
       "      <td>NaN</td>\n",
       "      <td>NaN</td>\n",
       "      <td>NaN</td>\n",
       "      <td>NaN</td>\n",
       "      <td>NaN</td>\n",
       "      <td>NaN</td>\n",
       "      <td>I</td>\n",
       "    </tr>\n",
       "    <tr>\n",
       "      <td>1</td>\n",
       "      <td>Q024</td>\n",
       "      <td>Kissena Park</td>\n",
       "      <td>Q-07</td>\n",
       "      <td>Q024 | Kissena Park</td>\n",
       "      <td>40.7454</td>\n",
       "      <td>-73.8048</td>\n",
       "      <td>6b3148652d96466cf59804d9f6121c6005211be0033f6e...</td>\n",
       "      <td>NaN</td>\n",
       "      <td>NaN</td>\n",
       "      <td>NaN</td>\n",
       "      <td>NaN</td>\n",
       "      <td>NaN</td>\n",
       "      <td>NaN</td>\n",
       "      <td>I</td>\n",
       "    </tr>\n",
       "    <tr>\n",
       "      <td>2</td>\n",
       "      <td>Q347</td>\n",
       "      <td>Colden Playground</td>\n",
       "      <td>Q-07</td>\n",
       "      <td>Q347 | Colden Playground</td>\n",
       "      <td>40.7702</td>\n",
       "      <td>-73.8272</td>\n",
       "      <td>f8b1b82cc366fdf7d2a30573cefd225e0b53ff020b38f5...</td>\n",
       "      <td>NaN</td>\n",
       "      <td>NaN</td>\n",
       "      <td>NaN</td>\n",
       "      <td>NaN</td>\n",
       "      <td>NaN</td>\n",
       "      <td>NaN</td>\n",
       "      <td>I</td>\n",
       "    </tr>\n",
       "    <tr>\n",
       "      <td>3</td>\n",
       "      <td>Q121</td>\n",
       "      <td>Detective Keith L Williams Park</td>\n",
       "      <td>Q-12</td>\n",
       "      <td>Q121 | Detective Keith L Williams Park</td>\n",
       "      <td>40.7029</td>\n",
       "      <td>-73.7844</td>\n",
       "      <td>fbe4b102c854dc470881fbe0c2bfdd1a10f7a830f1dfda...</td>\n",
       "      <td>NaN</td>\n",
       "      <td>NaN</td>\n",
       "      <td>NaN</td>\n",
       "      <td>NaN</td>\n",
       "      <td>NaN</td>\n",
       "      <td>NaN</td>\n",
       "      <td>I</td>\n",
       "    </tr>\n",
       "    <tr>\n",
       "      <td>4</td>\n",
       "      <td>Q375</td>\n",
       "      <td>Willets Point Playground</td>\n",
       "      <td>Q-07</td>\n",
       "      <td>Q375 | Willets Point Playground</td>\n",
       "      <td>40.7838</td>\n",
       "      <td>-73.7964</td>\n",
       "      <td>1cdfd2182f58db2aa5ca2c81a2ba3c814fcdf1df9dcb04...</td>\n",
       "      <td>NaN</td>\n",
       "      <td>NaN</td>\n",
       "      <td>NaN</td>\n",
       "      <td>NaN</td>\n",
       "      <td>NaN</td>\n",
       "      <td>NaN</td>\n",
       "      <td>I</td>\n",
       "    </tr>\n",
       "  </tbody>\n",
       "</table>\n",
       "</div>"
      ],
      "text/plain": [
       "  site_id                        site_desc park_district  \\\n",
       "0    Q102              Juniper Valley Park          Q-05   \n",
       "1    Q024                     Kissena Park          Q-07   \n",
       "2    Q347                Colden Playground          Q-07   \n",
       "3    Q121  Detective Keith L Williams Park          Q-12   \n",
       "4    Q375         Willets Point Playground          Q-07   \n",
       "\n",
       "                            desc_location  latitude  longitude  \\\n",
       "0              Q102 | Juniper Valley Park   40.7202   -73.8804   \n",
       "1                     Q024 | Kissena Park   40.7454   -73.8048   \n",
       "2                Q347 | Colden Playground   40.7702   -73.8272   \n",
       "3  Q121 | Detective Keith L Williams Park   40.7029   -73.7844   \n",
       "4         Q375 | Willets Point Playground   40.7838   -73.7964   \n",
       "\n",
       "                                            row_hash  site_desc_old  \\\n",
       "0  d322002ab6bc23a6a3e67b72fb0aa7005da8c5212380dc...            NaN   \n",
       "1  6b3148652d96466cf59804d9f6121c6005211be0033f6e...            NaN   \n",
       "2  f8b1b82cc366fdf7d2a30573cefd225e0b53ff020b38f5...            NaN   \n",
       "3  fbe4b102c854dc470881fbe0c2bfdd1a10f7a830f1dfda...            NaN   \n",
       "4  1cdfd2182f58db2aa5ca2c81a2ba3c814fcdf1df9dcb04...            NaN   \n",
       "\n",
       "   park_district_old  desc_location_old  latitude_old  longitude_old  \\\n",
       "0                NaN                NaN           NaN            NaN   \n",
       "1                NaN                NaN           NaN            NaN   \n",
       "2                NaN                NaN           NaN            NaN   \n",
       "3                NaN                NaN           NaN            NaN   \n",
       "4                NaN                NaN           NaN            NaN   \n",
       "\n",
       "   row_hash_old dml_verb  \n",
       "0           NaN        I  \n",
       "1           NaN        I  \n",
       "2           NaN        I  \n",
       "3           NaN        I  \n",
       "4           NaN        I  "
      ]
     },
     "execution_count": 37,
     "metadata": {},
     "output_type": "execute_result"
    }
   ],
   "source": [
    "sites_deltas.head()"
   ]
  },
  {
   "cell_type": "markdown",
   "metadata": {},
   "source": [
    "### Slice the inserts and push them to SQL"
   ]
  },
  {
   "cell_type": "code",
   "execution_count": 42,
   "metadata": {},
   "outputs": [],
   "source": [
    "sites_inserts = sites_deltas[sites_deltas['dml_verb'] == 'I'][cols]"
   ]
  },
  {
   "cell_type": "code",
   "execution_count": 52,
   "metadata": {},
   "outputs": [
    {
     "data": {
      "text/plain": [
       "(4849, 6)"
      ]
     },
     "execution_count": 52,
     "metadata": {},
     "output_type": "execute_result"
    }
   ],
   "source": [
    "sites_inserts.shape"
   ]
  },
  {
   "cell_type": "code",
   "execution_count": 54,
   "metadata": {},
   "outputs": [
    {
     "data": {
      "text/plain": [
       "4841"
      ]
     },
     "execution_count": 54,
     "metadata": {},
     "output_type": "execute_result"
    }
   ],
   "source": [
    "len(pd.unique(sites_inserts['site_id']))"
   ]
  },
  {
   "cell_type": "code",
   "execution_count": 58,
   "metadata": {},
   "outputs": [],
   "source": []
  },
  {
   "cell_type": "code",
   "execution_count": 44,
   "metadata": {},
   "outputs": [
    {
     "data": {
      "text/html": [
       "<div>\n",
       "<style scoped>\n",
       "    .dataframe tbody tr th:only-of-type {\n",
       "        vertical-align: middle;\n",
       "    }\n",
       "\n",
       "    .dataframe tbody tr th {\n",
       "        vertical-align: top;\n",
       "    }\n",
       "\n",
       "    .dataframe thead th {\n",
       "        text-align: right;\n",
       "    }\n",
       "</style>\n",
       "<table border=\"1\" class=\"dataframe\">\n",
       "  <thead>\n",
       "    <tr style=\"text-align: right;\">\n",
       "      <th></th>\n",
       "      <th>site_id</th>\n",
       "      <th>site_desc</th>\n",
       "      <th>park_district</th>\n",
       "      <th>desc_location</th>\n",
       "      <th>latitude</th>\n",
       "      <th>longitude</th>\n",
       "    </tr>\n",
       "  </thead>\n",
       "  <tbody>\n",
       "    <tr>\n",
       "      <td>0</td>\n",
       "      <td>Q102</td>\n",
       "      <td>Juniper Valley Park</td>\n",
       "      <td>Q-05</td>\n",
       "      <td>Q102 | Juniper Valley Park</td>\n",
       "      <td>40.7202</td>\n",
       "      <td>-73.8804</td>\n",
       "    </tr>\n",
       "    <tr>\n",
       "      <td>1</td>\n",
       "      <td>Q024</td>\n",
       "      <td>Kissena Park</td>\n",
       "      <td>Q-07</td>\n",
       "      <td>Q024 | Kissena Park</td>\n",
       "      <td>40.7454</td>\n",
       "      <td>-73.8048</td>\n",
       "    </tr>\n",
       "    <tr>\n",
       "      <td>2</td>\n",
       "      <td>Q347</td>\n",
       "      <td>Colden Playground</td>\n",
       "      <td>Q-07</td>\n",
       "      <td>Q347 | Colden Playground</td>\n",
       "      <td>40.7702</td>\n",
       "      <td>-73.8272</td>\n",
       "    </tr>\n",
       "    <tr>\n",
       "      <td>3</td>\n",
       "      <td>Q121</td>\n",
       "      <td>Detective Keith L Williams Park</td>\n",
       "      <td>Q-12</td>\n",
       "      <td>Q121 | Detective Keith L Williams Park</td>\n",
       "      <td>40.7029</td>\n",
       "      <td>-73.7844</td>\n",
       "    </tr>\n",
       "    <tr>\n",
       "      <td>4</td>\n",
       "      <td>Q375</td>\n",
       "      <td>Willets Point Playground</td>\n",
       "      <td>Q-07</td>\n",
       "      <td>Q375 | Willets Point Playground</td>\n",
       "      <td>40.7838</td>\n",
       "      <td>-73.7964</td>\n",
       "    </tr>\n",
       "  </tbody>\n",
       "</table>\n",
       "</div>"
      ],
      "text/plain": [
       "  site_id                        site_desc park_district  \\\n",
       "0    Q102              Juniper Valley Park          Q-05   \n",
       "1    Q024                     Kissena Park          Q-07   \n",
       "2    Q347                Colden Playground          Q-07   \n",
       "3    Q121  Detective Keith L Williams Park          Q-12   \n",
       "4    Q375         Willets Point Playground          Q-07   \n",
       "\n",
       "                            desc_location  latitude  longitude  \n",
       "0              Q102 | Juniper Valley Park   40.7202   -73.8804  \n",
       "1                     Q024 | Kissena Park   40.7454   -73.8048  \n",
       "2                Q347 | Colden Playground   40.7702   -73.8272  \n",
       "3  Q121 | Detective Keith L Williams Park   40.7029   -73.7844  \n",
       "4         Q375 | Willets Point Playground   40.7838   -73.7964  "
      ]
     },
     "execution_count": 44,
     "metadata": {},
     "output_type": "execute_result"
    }
   ],
   "source": [
    "sites_inserts.head()"
   ]
  },
  {
   "cell_type": "code",
   "execution_count": null,
   "metadata": {},
   "outputs": [],
   "source": [
    "sites_inserts.to_sql('tbl_ref_sites', engine, index = False, if_exists = 'append')"
   ]
  },
  {
   "cell_type": "markdown",
   "metadata": {},
   "source": [
    "### Slice the updates and push them to SQL"
   ]
  },
  {
   "cell_type": "code",
   "execution_count": 43,
   "metadata": {},
   "outputs": [],
   "source": [
    "sites_updates = sites_deltas[sites_deltas['dml_verb'] == 'U'][cols]"
   ]
  },
  {
   "cell_type": "code",
   "execution_count": 45,
   "metadata": {},
   "outputs": [
    {
     "data": {
      "text/html": [
       "<div>\n",
       "<style scoped>\n",
       "    .dataframe tbody tr th:only-of-type {\n",
       "        vertical-align: middle;\n",
       "    }\n",
       "\n",
       "    .dataframe tbody tr th {\n",
       "        vertical-align: top;\n",
       "    }\n",
       "\n",
       "    .dataframe thead th {\n",
       "        text-align: right;\n",
       "    }\n",
       "</style>\n",
       "<table border=\"1\" class=\"dataframe\">\n",
       "  <thead>\n",
       "    <tr style=\"text-align: right;\">\n",
       "      <th></th>\n",
       "      <th>site_id</th>\n",
       "      <th>site_desc</th>\n",
       "      <th>park_district</th>\n",
       "      <th>desc_location</th>\n",
       "      <th>latitude</th>\n",
       "      <th>longitude</th>\n",
       "    </tr>\n",
       "  </thead>\n",
       "  <tbody>\n",
       "  </tbody>\n",
       "</table>\n",
       "</div>"
      ],
      "text/plain": [
       "Empty DataFrame\n",
       "Columns: [site_id, site_desc, park_district, desc_location, latitude, longitude]\n",
       "Index: []"
      ]
     },
     "execution_count": 45,
     "metadata": {},
     "output_type": "execute_result"
    }
   ],
   "source": [
    "sites_updates.head()"
   ]
  },
  {
   "cell_type": "code",
   "execution_count": 50,
   "metadata": {},
   "outputs": [],
   "source": [
    "sql_update(df = sites_updates, sql_table = 'tbl_ref_sites', engine = engine, where_col = 'site_id')"
   ]
  }
 ],
 "metadata": {
  "kernelspec": {
   "display_name": "Python 3",
   "language": "python",
   "name": "python3"
  },
  "language_info": {
   "codemirror_mode": {
    "name": "ipython",
    "version": 3
   },
   "file_extension": ".py",
   "mimetype": "text/x-python",
   "name": "python",
   "nbconvert_exporter": "python",
   "pygments_lexer": "ipython3",
   "version": "3.7.4"
  }
 },
 "nbformat": 4,
 "nbformat_minor": 2
}
