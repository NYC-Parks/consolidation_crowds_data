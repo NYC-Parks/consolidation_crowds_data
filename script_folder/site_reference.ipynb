{
 "cells": [
  {
   "cell_type": "code",
   "execution_count": 1,
   "metadata": {},
   "outputs": [],
   "source": [
    "import gspread\n",
    "import sys\n",
    "from oauth2client.service_account import ServiceAccountCredentials\n",
    "import pandas as pd\n",
    "import numpy as np\n",
    "import urllib\n",
    "import sqlalchemy\n",
    "from gspread_dataframe import set_with_dataframe\n",
    "from gspread_dataframe import get_as_dataframe"
   ]
  },
  {
   "cell_type": "code",
   "execution_count": 2,
   "metadata": {},
   "outputs": [],
   "source": [
    "from column_map import column_map"
   ]
  },
  {
   "cell_type": "code",
   "execution_count": 3,
   "metadata": {},
   "outputs": [
    {
     "name": "stderr",
     "output_type": "stream",
     "text": [
      "C:\\ProgramData\\Anaconda3\\lib\\site-packages\\authlib\\client\\__init__.py:12: AuthlibDeprecationWarning: Deprecate \"authlib.client\", USE \"authlib.integrations.requests_client\" instead.\n",
      "It will be compatible before version 1.0.\n",
      "Read more <https://git.io/Jeclj#file-rn-md>\n",
      "  deprecate('Deprecate \"authlib.client\", USE \"authlib.integrations.requests_client\" instead.', '1.0', 'Jeclj', 'rn')\n"
     ]
    }
   ],
   "source": [
    "sys.path.append('../..')\n",
    "from IPM_Shared_Code_public.Python.google_creds_functions import create_assertion_session\n",
    "from IPM_Shared_Code_public.Python.utils import get_config\n",
    "from IPM_Shared_Code_public.Python.delta_functions import *\n",
    "from IPM_Shared_Code_public.Python.sql_functions import sql_update"
   ]
  },
  {
   "cell_type": "markdown",
   "metadata": {},
   "source": [
    "### Use the config file to setup connections"
   ]
  },
  {
   "cell_type": "code",
   "execution_count": 4,
   "metadata": {},
   "outputs": [],
   "source": [
    "config = get_config('c:\\Projects\\config.ini')\n",
    "\n",
    "driver = config['srv']['driver']\n",
    "server = config['srv']['server']\n",
    "dwh = config['db']['crowdsdb']\n",
    "cred_file = config['google']['path_to_file']"
   ]
  },
  {
   "cell_type": "markdown",
   "metadata": {},
   "source": [
    "### Create the dictionary to rename the columns"
   ]
  },
  {
   "cell_type": "code",
   "execution_count": 5,
   "metadata": {},
   "outputs": [],
   "source": [
    "col_rename = {'PROPERTY_I': 'site_id',\n",
    "               'DESCRIPTIO': 'site_desc', \n",
    "               'DISTRICT': 'park_district', \n",
    "               'DESC_LOCAT': 'desc_location', \n",
    "               'Latitiude': 'latitude', \n",
    "               'Longitude': 'longitude',\n",
    "               'Borough': 'borough'}"
   ]
  },
  {
   "cell_type": "code",
   "execution_count": 6,
   "metadata": {},
   "outputs": [],
   "source": [
    "cols = list(col_rename.values())"
   ]
  },
  {
   "cell_type": "markdown",
   "metadata": {},
   "source": [
    "### Read the current data from SQL"
   ]
  },
  {
   "cell_type": "code",
   "execution_count": 7,
   "metadata": {},
   "outputs": [],
   "source": [
    "con_string = 'Driver={' + driver + '};Server=' + server +';Database=' + dwh + ';Trusted_Connection=Yes;'\n",
    "params = urllib.parse.quote_plus(con_string)\n",
    "engine = sqlalchemy.create_engine(\"mssql+pyodbc:///?odbc_connect=%s\" % params)"
   ]
  },
  {
   "cell_type": "code",
   "execution_count": 8,
   "metadata": {},
   "outputs": [],
   "source": [
    "sql = 'select * from crowdsdb.dbo.tbl_ref_sites'"
   ]
  },
  {
   "cell_type": "code",
   "execution_count": 9,
   "metadata": {},
   "outputs": [],
   "source": [
    "sites_sql = (pd.read_sql(con = engine, sql = sql)\n",
    "             .fillna(value = np.nan, axis = 1))[cols]"
   ]
  },
  {
   "cell_type": "code",
   "execution_count": 10,
   "metadata": {},
   "outputs": [],
   "source": [
    "hash_rows(sites_sql, exclude_cols = ['site_id'], hash_name = 'row_hash')"
   ]
  },
  {
   "cell_type": "markdown",
   "metadata": {},
   "source": [
    "### Read the latest data from Google Sheets"
   ]
  },
  {
   "cell_type": "code",
   "execution_count": 11,
   "metadata": {},
   "outputs": [],
   "source": [
    "scope = ['https://spreadsheets.google.com/feeds',\n",
    "         'https://www.googleapis.com/auth/drive']\n",
    "creds = ServiceAccountCredentials.from_json_keyfile_name(cred_file, scope)\n",
    "client = gspread.authorize(creds)"
   ]
  },
  {
   "cell_type": "code",
   "execution_count": 12,
   "metadata": {},
   "outputs": [],
   "source": [
    "sheet = client.open('DailyTasks_WebMerc_Centroids')"
   ]
  },
  {
   "cell_type": "code",
   "execution_count": 13,
   "metadata": {},
   "outputs": [],
   "source": [
    "ws = sheet.worksheet('Sheet1')"
   ]
  },
  {
   "cell_type": "code",
   "execution_count": 27,
   "metadata": {},
   "outputs": [],
   "source": [
    "sites = (get_as_dataframe(ws, evaluate_formulas = True, header= 0)\n",
    "         .rename(columns = col_rename)\n",
    "         .fillna(value = np.nan, axis = 1))[cols]"
   ]
  },
  {
   "cell_type": "code",
   "execution_count": 28,
   "metadata": {},
   "outputs": [
    {
     "data": {
      "text/html": [
       "<div>\n",
       "<style scoped>\n",
       "    .dataframe tbody tr th:only-of-type {\n",
       "        vertical-align: middle;\n",
       "    }\n",
       "\n",
       "    .dataframe tbody tr th {\n",
       "        vertical-align: top;\n",
       "    }\n",
       "\n",
       "    .dataframe thead th {\n",
       "        text-align: right;\n",
       "    }\n",
       "</style>\n",
       "<table border=\"1\" class=\"dataframe\">\n",
       "  <thead>\n",
       "    <tr style=\"text-align: right;\">\n",
       "      <th></th>\n",
       "      <th>site_id</th>\n",
       "      <th>site_desc</th>\n",
       "      <th>park_district</th>\n",
       "      <th>desc_location</th>\n",
       "      <th>latitude</th>\n",
       "      <th>longitude</th>\n",
       "      <th>borough</th>\n",
       "    </tr>\n",
       "  </thead>\n",
       "  <tbody>\n",
       "    <tr>\n",
       "      <td>0</td>\n",
       "      <td>Q102</td>\n",
       "      <td>Juniper Valley Park</td>\n",
       "      <td>Q-05</td>\n",
       "      <td>Q102 | Juniper Valley Park</td>\n",
       "      <td>40.7202</td>\n",
       "      <td>-73.8804</td>\n",
       "      <td>Queens</td>\n",
       "    </tr>\n",
       "    <tr>\n",
       "      <td>1</td>\n",
       "      <td>Q024</td>\n",
       "      <td>Kissena Park</td>\n",
       "      <td>Q-07</td>\n",
       "      <td>Q024 | Kissena Park</td>\n",
       "      <td>40.7454</td>\n",
       "      <td>-73.8048</td>\n",
       "      <td>Queens</td>\n",
       "    </tr>\n",
       "    <tr>\n",
       "      <td>2</td>\n",
       "      <td>Q347</td>\n",
       "      <td>Colden Playground</td>\n",
       "      <td>Q-07</td>\n",
       "      <td>Q347 | Colden Playground</td>\n",
       "      <td>40.7702</td>\n",
       "      <td>-73.8272</td>\n",
       "      <td>Queens</td>\n",
       "    </tr>\n",
       "    <tr>\n",
       "      <td>3</td>\n",
       "      <td>Q121</td>\n",
       "      <td>Detective Keith L Williams Park</td>\n",
       "      <td>Q-12</td>\n",
       "      <td>Q121 | Detective Keith L Williams Park</td>\n",
       "      <td>40.7029</td>\n",
       "      <td>-73.7844</td>\n",
       "      <td>Queens</td>\n",
       "    </tr>\n",
       "    <tr>\n",
       "      <td>4</td>\n",
       "      <td>Q375</td>\n",
       "      <td>Willets Point Playground</td>\n",
       "      <td>Q-07</td>\n",
       "      <td>Q375 | Willets Point Playground</td>\n",
       "      <td>40.7838</td>\n",
       "      <td>-73.7964</td>\n",
       "      <td>Queens</td>\n",
       "    </tr>\n",
       "  </tbody>\n",
       "</table>\n",
       "</div>"
      ],
      "text/plain": [
       "  site_id                        site_desc park_district  \\\n",
       "0    Q102              Juniper Valley Park          Q-05   \n",
       "1    Q024                     Kissena Park          Q-07   \n",
       "2    Q347                Colden Playground          Q-07   \n",
       "3    Q121  Detective Keith L Williams Park          Q-12   \n",
       "4    Q375         Willets Point Playground          Q-07   \n",
       "\n",
       "                            desc_location  latitude  longitude borough  \n",
       "0              Q102 | Juniper Valley Park   40.7202   -73.8804  Queens  \n",
       "1                     Q024 | Kissena Park   40.7454   -73.8048  Queens  \n",
       "2                Q347 | Colden Playground   40.7702   -73.8272  Queens  \n",
       "3  Q121 | Detective Keith L Williams Park   40.7029   -73.7844  Queens  \n",
       "4         Q375 | Willets Point Playground   40.7838   -73.7964  Queens  "
      ]
     },
     "execution_count": 28,
     "metadata": {},
     "output_type": "execute_result"
    }
   ],
   "source": [
    "sites.head()"
   ]
  },
  {
   "cell_type": "code",
   "execution_count": 29,
   "metadata": {},
   "outputs": [],
   "source": [
    "hash_rows(sites, exclude_cols = ['site_id'], hash_name = 'row_hash')"
   ]
  },
  {
   "cell_type": "code",
   "execution_count": 30,
   "metadata": {},
   "outputs": [],
   "source": [
    "sites = sites.drop_duplicates(subset = ['site_id'], keep = False)"
   ]
  },
  {
   "cell_type": "markdown",
   "metadata": {},
   "source": [
    "### Perform the delta check"
   ]
  },
  {
   "cell_type": "code",
   "execution_count": 31,
   "metadata": {},
   "outputs": [],
   "source": [
    "sites_deltas = (check_deltas(new_df = sites, old_df = sites_sql, on = 'site_id', \n",
    "                              hash_name = 'row_hash', dml_col = 'dml_verb'))"
   ]
  },
  {
   "cell_type": "code",
   "execution_count": 32,
   "metadata": {},
   "outputs": [
    {
     "data": {
      "text/html": [
       "<div>\n",
       "<style scoped>\n",
       "    .dataframe tbody tr th:only-of-type {\n",
       "        vertical-align: middle;\n",
       "    }\n",
       "\n",
       "    .dataframe tbody tr th {\n",
       "        vertical-align: top;\n",
       "    }\n",
       "\n",
       "    .dataframe thead th {\n",
       "        text-align: right;\n",
       "    }\n",
       "</style>\n",
       "<table border=\"1\" class=\"dataframe\">\n",
       "  <thead>\n",
       "    <tr style=\"text-align: right;\">\n",
       "      <th></th>\n",
       "      <th>site_id</th>\n",
       "      <th>site_desc</th>\n",
       "      <th>park_district</th>\n",
       "      <th>desc_location</th>\n",
       "      <th>latitude</th>\n",
       "      <th>longitude</th>\n",
       "      <th>borough</th>\n",
       "      <th>row_hash</th>\n",
       "      <th>site_desc_old</th>\n",
       "      <th>park_district_old</th>\n",
       "      <th>desc_location_old</th>\n",
       "      <th>latitude_old</th>\n",
       "      <th>longitude_old</th>\n",
       "      <th>borough_old</th>\n",
       "      <th>row_hash_old</th>\n",
       "      <th>dml_verb</th>\n",
       "    </tr>\n",
       "  </thead>\n",
       "  <tbody>\n",
       "    <tr>\n",
       "      <td>0</td>\n",
       "      <td>Q102</td>\n",
       "      <td>Juniper Valley Park</td>\n",
       "      <td>Q-05</td>\n",
       "      <td>Q102 | Juniper Valley Park</td>\n",
       "      <td>40.7202</td>\n",
       "      <td>-73.8804</td>\n",
       "      <td>Queens</td>\n",
       "      <td>1930ba678d3a3a8dd294895fdaab7893a18b9fb55f011f...</td>\n",
       "      <td>NaN</td>\n",
       "      <td>NaN</td>\n",
       "      <td>NaN</td>\n",
       "      <td>NaN</td>\n",
       "      <td>NaN</td>\n",
       "      <td>NaN</td>\n",
       "      <td>NaN</td>\n",
       "      <td>I</td>\n",
       "    </tr>\n",
       "    <tr>\n",
       "      <td>1</td>\n",
       "      <td>Q024</td>\n",
       "      <td>Kissena Park</td>\n",
       "      <td>Q-07</td>\n",
       "      <td>Q024 | Kissena Park</td>\n",
       "      <td>40.7454</td>\n",
       "      <td>-73.8048</td>\n",
       "      <td>Queens</td>\n",
       "      <td>707169b8f5989e7e63bf3084a8feb6c9c7ba37ff01370c...</td>\n",
       "      <td>NaN</td>\n",
       "      <td>NaN</td>\n",
       "      <td>NaN</td>\n",
       "      <td>NaN</td>\n",
       "      <td>NaN</td>\n",
       "      <td>NaN</td>\n",
       "      <td>NaN</td>\n",
       "      <td>I</td>\n",
       "    </tr>\n",
       "    <tr>\n",
       "      <td>2</td>\n",
       "      <td>Q347</td>\n",
       "      <td>Colden Playground</td>\n",
       "      <td>Q-07</td>\n",
       "      <td>Q347 | Colden Playground</td>\n",
       "      <td>40.7702</td>\n",
       "      <td>-73.8272</td>\n",
       "      <td>Queens</td>\n",
       "      <td>966796b8304bf1bb54cf96e6427d8cf062cd5a7b570499...</td>\n",
       "      <td>NaN</td>\n",
       "      <td>NaN</td>\n",
       "      <td>NaN</td>\n",
       "      <td>NaN</td>\n",
       "      <td>NaN</td>\n",
       "      <td>NaN</td>\n",
       "      <td>NaN</td>\n",
       "      <td>I</td>\n",
       "    </tr>\n",
       "    <tr>\n",
       "      <td>3</td>\n",
       "      <td>Q121</td>\n",
       "      <td>Detective Keith L Williams Park</td>\n",
       "      <td>Q-12</td>\n",
       "      <td>Q121 | Detective Keith L Williams Park</td>\n",
       "      <td>40.7029</td>\n",
       "      <td>-73.7844</td>\n",
       "      <td>Queens</td>\n",
       "      <td>ffdd3c6b0d5591e25178b1c4d232dae3cad6f48ce563ac...</td>\n",
       "      <td>NaN</td>\n",
       "      <td>NaN</td>\n",
       "      <td>NaN</td>\n",
       "      <td>NaN</td>\n",
       "      <td>NaN</td>\n",
       "      <td>NaN</td>\n",
       "      <td>NaN</td>\n",
       "      <td>I</td>\n",
       "    </tr>\n",
       "    <tr>\n",
       "      <td>4</td>\n",
       "      <td>Q375</td>\n",
       "      <td>Willets Point Playground</td>\n",
       "      <td>Q-07</td>\n",
       "      <td>Q375 | Willets Point Playground</td>\n",
       "      <td>40.7838</td>\n",
       "      <td>-73.7964</td>\n",
       "      <td>Queens</td>\n",
       "      <td>e51dca9c9f859f8c7f6dc9a76d00b015f3a407262b71c4...</td>\n",
       "      <td>NaN</td>\n",
       "      <td>NaN</td>\n",
       "      <td>NaN</td>\n",
       "      <td>NaN</td>\n",
       "      <td>NaN</td>\n",
       "      <td>NaN</td>\n",
       "      <td>NaN</td>\n",
       "      <td>I</td>\n",
       "    </tr>\n",
       "  </tbody>\n",
       "</table>\n",
       "</div>"
      ],
      "text/plain": [
       "  site_id                        site_desc park_district  \\\n",
       "0    Q102              Juniper Valley Park          Q-05   \n",
       "1    Q024                     Kissena Park          Q-07   \n",
       "2    Q347                Colden Playground          Q-07   \n",
       "3    Q121  Detective Keith L Williams Park          Q-12   \n",
       "4    Q375         Willets Point Playground          Q-07   \n",
       "\n",
       "                            desc_location  latitude  longitude borough  \\\n",
       "0              Q102 | Juniper Valley Park   40.7202   -73.8804  Queens   \n",
       "1                     Q024 | Kissena Park   40.7454   -73.8048  Queens   \n",
       "2                Q347 | Colden Playground   40.7702   -73.8272  Queens   \n",
       "3  Q121 | Detective Keith L Williams Park   40.7029   -73.7844  Queens   \n",
       "4         Q375 | Willets Point Playground   40.7838   -73.7964  Queens   \n",
       "\n",
       "                                            row_hash  site_desc_old  \\\n",
       "0  1930ba678d3a3a8dd294895fdaab7893a18b9fb55f011f...            NaN   \n",
       "1  707169b8f5989e7e63bf3084a8feb6c9c7ba37ff01370c...            NaN   \n",
       "2  966796b8304bf1bb54cf96e6427d8cf062cd5a7b570499...            NaN   \n",
       "3  ffdd3c6b0d5591e25178b1c4d232dae3cad6f48ce563ac...            NaN   \n",
       "4  e51dca9c9f859f8c7f6dc9a76d00b015f3a407262b71c4...            NaN   \n",
       "\n",
       "   park_district_old  desc_location_old  latitude_old  longitude_old  \\\n",
       "0                NaN                NaN           NaN            NaN   \n",
       "1                NaN                NaN           NaN            NaN   \n",
       "2                NaN                NaN           NaN            NaN   \n",
       "3                NaN                NaN           NaN            NaN   \n",
       "4                NaN                NaN           NaN            NaN   \n",
       "\n",
       "   borough_old  row_hash_old dml_verb  \n",
       "0          NaN           NaN        I  \n",
       "1          NaN           NaN        I  \n",
       "2          NaN           NaN        I  \n",
       "3          NaN           NaN        I  \n",
       "4          NaN           NaN        I  "
      ]
     },
     "execution_count": 32,
     "metadata": {},
     "output_type": "execute_result"
    }
   ],
   "source": [
    "sites_deltas.head()"
   ]
  },
  {
   "cell_type": "markdown",
   "metadata": {},
   "source": [
    "### Slice the inserts and push them to SQL"
   ]
  },
  {
   "cell_type": "code",
   "execution_count": 33,
   "metadata": {},
   "outputs": [],
   "source": [
    "sites_inserts = sites_deltas[sites_deltas['dml_verb'] == 'I'][cols]"
   ]
  },
  {
   "cell_type": "code",
   "execution_count": 36,
   "metadata": {},
   "outputs": [
    {
     "data": {
      "text/html": [
       "<div>\n",
       "<style scoped>\n",
       "    .dataframe tbody tr th:only-of-type {\n",
       "        vertical-align: middle;\n",
       "    }\n",
       "\n",
       "    .dataframe tbody tr th {\n",
       "        vertical-align: top;\n",
       "    }\n",
       "\n",
       "    .dataframe thead th {\n",
       "        text-align: right;\n",
       "    }\n",
       "</style>\n",
       "<table border=\"1\" class=\"dataframe\">\n",
       "  <thead>\n",
       "    <tr style=\"text-align: right;\">\n",
       "      <th></th>\n",
       "      <th>site_id</th>\n",
       "      <th>site_desc</th>\n",
       "      <th>park_district</th>\n",
       "      <th>desc_location</th>\n",
       "      <th>latitude</th>\n",
       "      <th>longitude</th>\n",
       "      <th>borough</th>\n",
       "    </tr>\n",
       "  </thead>\n",
       "  <tbody>\n",
       "    <tr>\n",
       "      <td>0</td>\n",
       "      <td>Q102</td>\n",
       "      <td>Juniper Valley Park</td>\n",
       "      <td>Q-05</td>\n",
       "      <td>Q102 | Juniper Valley Park</td>\n",
       "      <td>40.7202</td>\n",
       "      <td>-73.8804</td>\n",
       "      <td>Queens</td>\n",
       "    </tr>\n",
       "    <tr>\n",
       "      <td>1</td>\n",
       "      <td>Q024</td>\n",
       "      <td>Kissena Park</td>\n",
       "      <td>Q-07</td>\n",
       "      <td>Q024 | Kissena Park</td>\n",
       "      <td>40.7454</td>\n",
       "      <td>-73.8048</td>\n",
       "      <td>Queens</td>\n",
       "    </tr>\n",
       "    <tr>\n",
       "      <td>2</td>\n",
       "      <td>Q347</td>\n",
       "      <td>Colden Playground</td>\n",
       "      <td>Q-07</td>\n",
       "      <td>Q347 | Colden Playground</td>\n",
       "      <td>40.7702</td>\n",
       "      <td>-73.8272</td>\n",
       "      <td>Queens</td>\n",
       "    </tr>\n",
       "    <tr>\n",
       "      <td>3</td>\n",
       "      <td>Q121</td>\n",
       "      <td>Detective Keith L Williams Park</td>\n",
       "      <td>Q-12</td>\n",
       "      <td>Q121 | Detective Keith L Williams Park</td>\n",
       "      <td>40.7029</td>\n",
       "      <td>-73.7844</td>\n",
       "      <td>Queens</td>\n",
       "    </tr>\n",
       "    <tr>\n",
       "      <td>4</td>\n",
       "      <td>Q375</td>\n",
       "      <td>Willets Point Playground</td>\n",
       "      <td>Q-07</td>\n",
       "      <td>Q375 | Willets Point Playground</td>\n",
       "      <td>40.7838</td>\n",
       "      <td>-73.7964</td>\n",
       "      <td>Queens</td>\n",
       "    </tr>\n",
       "  </tbody>\n",
       "</table>\n",
       "</div>"
      ],
      "text/plain": [
       "  site_id                        site_desc park_district  \\\n",
       "0    Q102              Juniper Valley Park          Q-05   \n",
       "1    Q024                     Kissena Park          Q-07   \n",
       "2    Q347                Colden Playground          Q-07   \n",
       "3    Q121  Detective Keith L Williams Park          Q-12   \n",
       "4    Q375         Willets Point Playground          Q-07   \n",
       "\n",
       "                            desc_location  latitude  longitude borough  \n",
       "0              Q102 | Juniper Valley Park   40.7202   -73.8804  Queens  \n",
       "1                     Q024 | Kissena Park   40.7454   -73.8048  Queens  \n",
       "2                Q347 | Colden Playground   40.7702   -73.8272  Queens  \n",
       "3  Q121 | Detective Keith L Williams Park   40.7029   -73.7844  Queens  \n",
       "4         Q375 | Willets Point Playground   40.7838   -73.7964  Queens  "
      ]
     },
     "execution_count": 36,
     "metadata": {},
     "output_type": "execute_result"
    }
   ],
   "source": [
    "sites_inserts.head()"
   ]
  },
  {
   "cell_type": "code",
   "execution_count": 37,
   "metadata": {},
   "outputs": [],
   "source": [
    "sites_inserts.to_sql('tbl_ref_sites', engine, index = False, if_exists = 'append')"
   ]
  },
  {
   "cell_type": "markdown",
   "metadata": {},
   "source": [
    "### Slice the updates and push them to SQL"
   ]
  },
  {
   "cell_type": "code",
   "execution_count": 38,
   "metadata": {},
   "outputs": [],
   "source": [
    "sites_updates = sites_deltas[sites_deltas['dml_verb'] == 'U'][cols]"
   ]
  },
  {
   "cell_type": "code",
   "execution_count": 39,
   "metadata": {},
   "outputs": [
    {
     "data": {
      "text/html": [
       "<div>\n",
       "<style scoped>\n",
       "    .dataframe tbody tr th:only-of-type {\n",
       "        vertical-align: middle;\n",
       "    }\n",
       "\n",
       "    .dataframe tbody tr th {\n",
       "        vertical-align: top;\n",
       "    }\n",
       "\n",
       "    .dataframe thead th {\n",
       "        text-align: right;\n",
       "    }\n",
       "</style>\n",
       "<table border=\"1\" class=\"dataframe\">\n",
       "  <thead>\n",
       "    <tr style=\"text-align: right;\">\n",
       "      <th></th>\n",
       "      <th>site_id</th>\n",
       "      <th>site_desc</th>\n",
       "      <th>park_district</th>\n",
       "      <th>desc_location</th>\n",
       "      <th>latitude</th>\n",
       "      <th>longitude</th>\n",
       "      <th>borough</th>\n",
       "    </tr>\n",
       "  </thead>\n",
       "  <tbody>\n",
       "  </tbody>\n",
       "</table>\n",
       "</div>"
      ],
      "text/plain": [
       "Empty DataFrame\n",
       "Columns: [site_id, site_desc, park_district, desc_location, latitude, longitude, borough]\n",
       "Index: []"
      ]
     },
     "execution_count": 39,
     "metadata": {},
     "output_type": "execute_result"
    }
   ],
   "source": [
    "sites_updates.head()"
   ]
  },
  {
   "cell_type": "code",
   "execution_count": 40,
   "metadata": {},
   "outputs": [],
   "source": [
    "sql_update(df = sites_updates, sql_table = 'tbl_ref_sites', engine = engine, where_col = 'site_id')"
   ]
  }
 ],
 "metadata": {
  "kernelspec": {
   "display_name": "Python 3",
   "language": "python",
   "name": "python3"
  },
  "language_info": {
   "codemirror_mode": {
    "name": "ipython",
    "version": 3
   },
   "file_extension": ".py",
   "mimetype": "text/x-python",
   "name": "python",
   "nbconvert_exporter": "python",
   "pygments_lexer": "ipython3",
   "version": "3.7.4"
  }
 },
 "nbformat": 4,
 "nbformat_minor": 2
}
