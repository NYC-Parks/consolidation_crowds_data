{
 "cells": [
  {
   "cell_type": "code",
   "execution_count": 1,
   "metadata": {},
   "outputs": [],
   "source": [
    "#Import required libraries\n",
    "import gspread\n",
    "import sys\n",
    "from oauth2client.service_account import ServiceAccountCredentials\n",
    "import pandas as pd\n",
    "import numpy as np\n",
    "import urllib\n",
    "import sqlalchemy\n",
    "from gspread_dataframe import set_with_dataframe\n",
    "from gspread_dataframe import get_as_dataframe"
   ]
  },
  {
   "cell_type": "code",
   "execution_count": 2,
   "metadata": {},
   "outputs": [],
   "source": [
    "#Import project specific functions\n",
    "from column_map import column_map\n",
    "from yesno_functions import *"
   ]
  },
  {
   "cell_type": "code",
   "execution_count": 3,
   "metadata": {},
   "outputs": [
    {
     "name": "stderr",
     "output_type": "stream",
     "text": [
      "C:\\ProgramData\\Anaconda3\\lib\\site-packages\\authlib\\client\\__init__.py:12: AuthlibDeprecationWarning: Deprecate \"authlib.client\", USE \"authlib.integrations.requests_client\" instead.\n",
      "It will be compatible before version 1.0.\n",
      "Read more <https://git.io/Jeclj#file-rn-md>\n",
      "  deprecate('Deprecate \"authlib.client\", USE \"authlib.integrations.requests_client\" instead.', '1.0', 'Jeclj', 'rn')\n"
     ]
    }
   ],
   "source": [
    "#Import shared functions\n",
    "sys.path.append('../..')\n",
    "from IPM_Shared_Code_public.Python.google_creds_functions import create_assertion_session\n",
    "from IPM_Shared_Code_public.Python.utils import get_config\n",
    "from IPM_Shared_Code_public.Python.delta_functions import *"
   ]
  },
  {
   "cell_type": "markdown",
   "metadata": {},
   "source": [
    "### Use the config file to setup connections"
   ]
  },
  {
   "cell_type": "code",
   "execution_count": 4,
   "metadata": {},
   "outputs": [],
   "source": [
    "config = get_config('c:\\Projects\\config.ini')\n",
    "\n",
    "driver = config['srv']['driver']\n",
    "server = config['srv']['server']\n",
    "dwh = config['db']['crowdsdb']\n",
    "cred_file = config['google']['path_to_file']"
   ]
  },
  {
   "cell_type": "code",
   "execution_count": 5,
   "metadata": {},
   "outputs": [],
   "source": [
    "con_string = 'Driver={' + driver + '};Server=' + server +';Database=' + dwh + ';Trusted_Connection=Yes;'\n",
    "params = urllib.parse.quote_plus(con_string)\n",
    "engine = sqlalchemy.create_engine(\"mssql+pyodbc:///?odbc_connect=%s\" % params)"
   ]
  },
  {
   "cell_type": "markdown",
   "metadata": {},
   "source": [
    "### Execute the function to get the renamed columns for this sheet"
   ]
  },
  {
   "cell_type": "code",
   "execution_count": 6,
   "metadata": {},
   "outputs": [],
   "source": [
    "#Call the column map function to get the dictionary to be used for renaming and subsetting the columns\n",
    "col_rename = column_map('ambassador_dpr')"
   ]
  },
  {
   "cell_type": "code",
   "execution_count": 7,
   "metadata": {},
   "outputs": [],
   "source": [
    "#Because of duplicate column names these columns are renamed based on the column index and the keys and \n",
    "#values need to be switched\n",
    "col_rename = {v[0]: k for k, v in col_rename.items()}"
   ]
  },
  {
   "cell_type": "code",
   "execution_count": 8,
   "metadata": {},
   "outputs": [],
   "source": [
    "cols = list(col_rename.values())"
   ]
  },
  {
   "cell_type": "markdown",
   "metadata": {},
   "source": [
    "### Read the site reference list from SQL"
   ]
  },
  {
   "cell_type": "code",
   "execution_count": 10,
   "metadata": {},
   "outputs": [],
   "source": [
    "sql = 'select * from crowdsdb.dbo.tbl_ref_sites'"
   ]
  },
  {
   "cell_type": "code",
   "execution_count": 11,
   "metadata": {},
   "outputs": [],
   "source": [
    "site_ref = pd.read_sql(con = engine, sql = sql)[['site_id', 'site_desc']]"
   ]
  },
  {
   "cell_type": "markdown",
   "metadata": {},
   "source": [
    "### Read the current data from SQL"
   ]
  },
  {
   "cell_type": "code",
   "execution_count": 12,
   "metadata": {},
   "outputs": [],
   "source": [
    "sql = 'select * from crowdsdb.dbo.tbl_dpr_ambassador'"
   ]
  },
  {
   "cell_type": "code",
   "execution_count": 13,
   "metadata": {},
   "outputs": [],
   "source": [
    "ambass_sql = (pd.read_sql(con = engine, sql = sql)\n",
    "              .drop(columns = ['ambassador_id'])\n",
    "              .fillna(value = np.nan, axis = 1))"
   ]
  },
  {
   "cell_type": "code",
   "execution_count": 14,
   "metadata": {},
   "outputs": [],
   "source": [
    "sql_cols = list(ambass_sql.columns.values)"
   ]
  },
  {
   "cell_type": "code",
   "execution_count": 15,
   "metadata": {},
   "outputs": [],
   "source": [
    "hash_rows(ambass_sql, exclude_cols = ['site_id', 'encounter_timestamp'], hash_name = 'row_hash')"
   ]
  },
  {
   "cell_type": "markdown",
   "metadata": {},
   "source": [
    "### Read the latest data from Google Sheets"
   ]
  },
  {
   "cell_type": "code",
   "execution_count": 16,
   "metadata": {},
   "outputs": [],
   "source": [
    "scope = ['https://spreadsheets.google.com/feeds',\n",
    "         'https://www.googleapis.com/auth/drive']\n",
    "creds = ServiceAccountCredentials.from_json_keyfile_name(cred_file, scope)\n",
    "client = gspread.authorize(creds)"
   ]
  },
  {
   "cell_type": "code",
   "execution_count": 17,
   "metadata": {},
   "outputs": [],
   "source": [
    "sheet = client.open('_Combined INTERNAL PARKS Ambassador COVID-19 Reporting (Responses)')"
   ]
  },
  {
   "cell_type": "code",
   "execution_count": 18,
   "metadata": {},
   "outputs": [],
   "source": [
    "ws = sheet.worksheet('Form Responses 1')"
   ]
  },
  {
   "cell_type": "code",
   "execution_count": 19,
   "metadata": {},
   "outputs": [],
   "source": [
    "ambass = (get_as_dataframe(ws, evaluate_formulas = True, header= None)\n",
    "          #Always remove row 0 with the column headers\n",
    "          .iloc[1:]\n",
    "          .rename(columns = col_rename)\n",
    "          .fillna(value = np.nan, axis = 1))[cols]"
   ]
  },
  {
   "cell_type": "code",
   "execution_count": 20,
   "metadata": {},
   "outputs": [
    {
     "data": {
      "text/html": [
       "<div>\n",
       "<style scoped>\n",
       "    .dataframe tbody tr th:only-of-type {\n",
       "        vertical-align: middle;\n",
       "    }\n",
       "\n",
       "    .dataframe tbody tr th {\n",
       "        vertical-align: top;\n",
       "    }\n",
       "\n",
       "    .dataframe thead th {\n",
       "        text-align: right;\n",
       "    }\n",
       "</style>\n",
       "<table border=\"1\" class=\"dataframe\">\n",
       "  <thead>\n",
       "    <tr style=\"text-align: right;\">\n",
       "      <th></th>\n",
       "      <th>encounter_timestamp</th>\n",
       "      <th>encounter_datetime</th>\n",
       "      <th>site_desc</th>\n",
       "      <th>location_adddesc</th>\n",
       "      <th>park_division</th>\n",
       "      <th>firstname_1</th>\n",
       "      <th>lastname_1</th>\n",
       "      <th>firstname_2</th>\n",
       "      <th>lastname_2</th>\n",
       "      <th>firstname_3</th>\n",
       "      <th>...</th>\n",
       "      <th>sd_amenity</th>\n",
       "      <th>sd_pdcontact</th>\n",
       "      <th>sd_comments</th>\n",
       "      <th>closed_amenity</th>\n",
       "      <th>closed_patroncount</th>\n",
       "      <th>closed_approach</th>\n",
       "      <th>closed_outcome</th>\n",
       "      <th>closed_pdcontact</th>\n",
       "      <th>closed_comments</th>\n",
       "      <th>borough</th>\n",
       "    </tr>\n",
       "  </thead>\n",
       "  <tbody>\n",
       "    <tr>\n",
       "      <td>1</td>\n",
       "      <td>5/26/2020 20:06:28</td>\n",
       "      <td>5/25/2020 15:30:00</td>\n",
       "      <td>Rockaway Beach Boardwalk</td>\n",
       "      <td>B102nd street.</td>\n",
       "      <td>AQUATICS</td>\n",
       "      <td>Steve</td>\n",
       "      <td>Nicola</td>\n",
       "      <td>Ben</td>\n",
       "      <td>Peters</td>\n",
       "      <td>NaN</td>\n",
       "      <td>...</td>\n",
       "      <td>Walking path</td>\n",
       "      <td>No</td>\n",
       "      <td>The patron without a mask was offered a mask a...</td>\n",
       "      <td>NaN</td>\n",
       "      <td>NaN</td>\n",
       "      <td>NaN</td>\n",
       "      <td>NaN</td>\n",
       "      <td>NaN</td>\n",
       "      <td>NaN</td>\n",
       "      <td>Queens</td>\n",
       "    </tr>\n",
       "    <tr>\n",
       "      <td>2</td>\n",
       "      <td>5/26/2020 19:13:22</td>\n",
       "      <td>5/26/2020 16:31:00</td>\n",
       "      <td>Walker Park</td>\n",
       "      <td>NaN</td>\n",
       "      <td>Recreation</td>\n",
       "      <td>Dana</td>\n",
       "      <td>Vitolo</td>\n",
       "      <td>NaN</td>\n",
       "      <td>NaN</td>\n",
       "      <td>NaN</td>\n",
       "      <td>...</td>\n",
       "      <td>NaN</td>\n",
       "      <td>NaN</td>\n",
       "      <td>NaN</td>\n",
       "      <td>Tennis courts</td>\n",
       "      <td>4.0</td>\n",
       "      <td>Yes</td>\n",
       "      <td>No</td>\n",
       "      <td>No</td>\n",
       "      <td>NaN</td>\n",
       "      <td>Staten Island</td>\n",
       "    </tr>\n",
       "    <tr>\n",
       "      <td>3</td>\n",
       "      <td>5/26/2020 17:57:13</td>\n",
       "      <td>5/26/2020 12:00:00</td>\n",
       "      <td>Lost Battalion Hall Recreation Center</td>\n",
       "      <td>In the park</td>\n",
       "      <td>Recreation</td>\n",
       "      <td>Chris</td>\n",
       "      <td>Wong</td>\n",
       "      <td>NaN</td>\n",
       "      <td>NaN</td>\n",
       "      <td>NaN</td>\n",
       "      <td>...</td>\n",
       "      <td>Bench/sitting area</td>\n",
       "      <td>No</td>\n",
       "      <td>NaN</td>\n",
       "      <td>NaN</td>\n",
       "      <td>NaN</td>\n",
       "      <td>NaN</td>\n",
       "      <td>NaN</td>\n",
       "      <td>NaN</td>\n",
       "      <td>NaN</td>\n",
       "      <td>Queens</td>\n",
       "    </tr>\n",
       "    <tr>\n",
       "      <td>4</td>\n",
       "      <td>5/26/2020 17:40:13</td>\n",
       "      <td>5/26/2020 17:39:00</td>\n",
       "      <td>Chelsea Park</td>\n",
       "      <td>NaN</td>\n",
       "      <td>Recreation</td>\n",
       "      <td>Bobby</td>\n",
       "      <td>Vangelatos</td>\n",
       "      <td>Dana</td>\n",
       "      <td>Brown</td>\n",
       "      <td>NaN</td>\n",
       "      <td>...</td>\n",
       "      <td>NaN</td>\n",
       "      <td>NaN</td>\n",
       "      <td>NaN</td>\n",
       "      <td>Adult fitness equipment</td>\n",
       "      <td>5.0</td>\n",
       "      <td>Yes</td>\n",
       "      <td>Yes</td>\n",
       "      <td>No</td>\n",
       "      <td>All but 1 patron left the area</td>\n",
       "      <td>Manhattan</td>\n",
       "    </tr>\n",
       "    <tr>\n",
       "      <td>5</td>\n",
       "      <td>5/26/2020 17:36:27</td>\n",
       "      <td>5/26/2020 15:00:00</td>\n",
       "      <td>John Paul Jones Park</td>\n",
       "      <td>NaN</td>\n",
       "      <td>Recreation</td>\n",
       "      <td>Peter</td>\n",
       "      <td>Lovett</td>\n",
       "      <td>NaN</td>\n",
       "      <td>NaN</td>\n",
       "      <td>NaN</td>\n",
       "      <td>...</td>\n",
       "      <td>NaN</td>\n",
       "      <td>NaN</td>\n",
       "      <td>NaN</td>\n",
       "      <td>NaN</td>\n",
       "      <td>NaN</td>\n",
       "      <td>NaN</td>\n",
       "      <td>NaN</td>\n",
       "      <td>NaN</td>\n",
       "      <td>NaN</td>\n",
       "      <td>Brooklyn</td>\n",
       "    </tr>\n",
       "  </tbody>\n",
       "</table>\n",
       "<p>5 rows × 24 columns</p>\n",
       "</div>"
      ],
      "text/plain": [
       "  encounter_timestamp  encounter_datetime  \\\n",
       "1  5/26/2020 20:06:28  5/25/2020 15:30:00   \n",
       "2  5/26/2020 19:13:22  5/26/2020 16:31:00   \n",
       "3  5/26/2020 17:57:13  5/26/2020 12:00:00   \n",
       "4  5/26/2020 17:40:13  5/26/2020 17:39:00   \n",
       "5  5/26/2020 17:36:27  5/26/2020 15:00:00   \n",
       "\n",
       "                               site_desc location_adddesc park_division  \\\n",
       "1               Rockaway Beach Boardwalk  B102nd street.       AQUATICS   \n",
       "2                            Walker Park              NaN    Recreation   \n",
       "3  Lost Battalion Hall Recreation Center     In the park     Recreation   \n",
       "4                           Chelsea Park              NaN    Recreation   \n",
       "5                   John Paul Jones Park              NaN    Recreation   \n",
       "\n",
       "  firstname_1  lastname_1 firstname_2 lastname_2 firstname_3  ...  \\\n",
       "1       Steve      Nicola        Ben      Peters         NaN  ...   \n",
       "2        Dana      Vitolo         NaN        NaN         NaN  ...   \n",
       "3      Chris         Wong         NaN        NaN         NaN  ...   \n",
       "4       Bobby  Vangelatos        Dana      Brown         NaN  ...   \n",
       "5       Peter      Lovett         NaN        NaN         NaN  ...   \n",
       "\n",
       "           sd_amenity sd_pdcontact  \\\n",
       "1        Walking path           No   \n",
       "2                 NaN          NaN   \n",
       "3  Bench/sitting area           No   \n",
       "4                 NaN          NaN   \n",
       "5                 NaN          NaN   \n",
       "\n",
       "                                         sd_comments           closed_amenity  \\\n",
       "1  The patron without a mask was offered a mask a...                      NaN   \n",
       "2                                                NaN            Tennis courts   \n",
       "3                                                NaN                      NaN   \n",
       "4                                                NaN  Adult fitness equipment   \n",
       "5                                                NaN                      NaN   \n",
       "\n",
       "  closed_patroncount closed_approach closed_outcome closed_pdcontact  \\\n",
       "1                NaN             NaN            NaN              NaN   \n",
       "2                4.0             Yes             No               No   \n",
       "3                NaN             NaN            NaN              NaN   \n",
       "4                5.0             Yes            Yes               No   \n",
       "5                NaN             NaN            NaN              NaN   \n",
       "\n",
       "                   closed_comments        borough  \n",
       "1                              NaN         Queens  \n",
       "2                              NaN  Staten Island  \n",
       "3                              NaN         Queens  \n",
       "4  All but 1 patron left the area       Manhattan  \n",
       "5                              NaN       Brooklyn  \n",
       "\n",
       "[5 rows x 24 columns]"
      ]
     },
     "execution_count": 20,
     "metadata": {},
     "output_type": "execute_result"
    }
   ],
   "source": [
    "ambass.head()"
   ]
  },
  {
   "cell_type": "code",
   "execution_count": 21,
   "metadata": {},
   "outputs": [],
   "source": [
    "yesno = ['sd_pdcontact', 'closed_approach', 'closed_outcome', 'closed_pdcontact']"
   ]
  },
  {
   "cell_type": "code",
   "execution_count": 22,
   "metadata": {},
   "outputs": [],
   "source": [
    "yesno_cols(ambass, yesno)"
   ]
  },
  {
   "cell_type": "code",
   "execution_count": 23,
   "metadata": {},
   "outputs": [],
   "source": [
    "ambass = ambass.merge(site_ref, how = 'left', on = 'site_desc')[sql_cols]"
   ]
  },
  {
   "cell_type": "code",
   "execution_count": 24,
   "metadata": {},
   "outputs": [
    {
     "data": {
      "text/html": [
       "<div>\n",
       "<style scoped>\n",
       "    .dataframe tbody tr th:only-of-type {\n",
       "        vertical-align: middle;\n",
       "    }\n",
       "\n",
       "    .dataframe tbody tr th {\n",
       "        vertical-align: top;\n",
       "    }\n",
       "\n",
       "    .dataframe thead th {\n",
       "        text-align: right;\n",
       "    }\n",
       "</style>\n",
       "<table border=\"1\" class=\"dataframe\">\n",
       "  <thead>\n",
       "    <tr style=\"text-align: right;\">\n",
       "      <th></th>\n",
       "      <th>encounter_timestamp</th>\n",
       "      <th>encounter_datetime</th>\n",
       "      <th>site_id</th>\n",
       "      <th>location_adddesc</th>\n",
       "      <th>park_division</th>\n",
       "      <th>firstname_1</th>\n",
       "      <th>lastname_1</th>\n",
       "      <th>firstname_2</th>\n",
       "      <th>lastname_2</th>\n",
       "      <th>firstname_3</th>\n",
       "      <th>...</th>\n",
       "      <th>sd_amenity</th>\n",
       "      <th>sd_pdcontact</th>\n",
       "      <th>sd_comments</th>\n",
       "      <th>closed_amenity</th>\n",
       "      <th>closed_patroncount</th>\n",
       "      <th>closed_approach</th>\n",
       "      <th>closed_outcome</th>\n",
       "      <th>closed_pdcontact</th>\n",
       "      <th>closed_comments</th>\n",
       "      <th>borough</th>\n",
       "    </tr>\n",
       "  </thead>\n",
       "  <tbody>\n",
       "    <tr>\n",
       "      <td>0</td>\n",
       "      <td>5/26/2020 20:06:28</td>\n",
       "      <td>5/25/2020 15:30:00</td>\n",
       "      <td>NaN</td>\n",
       "      <td>B102nd street.</td>\n",
       "      <td>AQUATICS</td>\n",
       "      <td>Steve</td>\n",
       "      <td>Nicola</td>\n",
       "      <td>Ben</td>\n",
       "      <td>Peters</td>\n",
       "      <td>NaN</td>\n",
       "      <td>...</td>\n",
       "      <td>Walking path</td>\n",
       "      <td>0.0</td>\n",
       "      <td>The patron without a mask was offered a mask a...</td>\n",
       "      <td>NaN</td>\n",
       "      <td>NaN</td>\n",
       "      <td>NaN</td>\n",
       "      <td>NaN</td>\n",
       "      <td>NaN</td>\n",
       "      <td>NaN</td>\n",
       "      <td>Queens</td>\n",
       "    </tr>\n",
       "    <tr>\n",
       "      <td>1</td>\n",
       "      <td>5/26/2020 19:13:22</td>\n",
       "      <td>5/26/2020 16:31:00</td>\n",
       "      <td>NaN</td>\n",
       "      <td>NaN</td>\n",
       "      <td>Recreation</td>\n",
       "      <td>Dana</td>\n",
       "      <td>Vitolo</td>\n",
       "      <td>NaN</td>\n",
       "      <td>NaN</td>\n",
       "      <td>NaN</td>\n",
       "      <td>...</td>\n",
       "      <td>NaN</td>\n",
       "      <td>NaN</td>\n",
       "      <td>NaN</td>\n",
       "      <td>Tennis courts</td>\n",
       "      <td>4.0</td>\n",
       "      <td>1.0</td>\n",
       "      <td>0.0</td>\n",
       "      <td>0.0</td>\n",
       "      <td>NaN</td>\n",
       "      <td>Staten Island</td>\n",
       "    </tr>\n",
       "    <tr>\n",
       "      <td>2</td>\n",
       "      <td>5/26/2020 17:57:13</td>\n",
       "      <td>5/26/2020 12:00:00</td>\n",
       "      <td>NaN</td>\n",
       "      <td>In the park</td>\n",
       "      <td>Recreation</td>\n",
       "      <td>Chris</td>\n",
       "      <td>Wong</td>\n",
       "      <td>NaN</td>\n",
       "      <td>NaN</td>\n",
       "      <td>NaN</td>\n",
       "      <td>...</td>\n",
       "      <td>Bench/sitting area</td>\n",
       "      <td>0.0</td>\n",
       "      <td>NaN</td>\n",
       "      <td>NaN</td>\n",
       "      <td>NaN</td>\n",
       "      <td>NaN</td>\n",
       "      <td>NaN</td>\n",
       "      <td>NaN</td>\n",
       "      <td>NaN</td>\n",
       "      <td>Queens</td>\n",
       "    </tr>\n",
       "    <tr>\n",
       "      <td>3</td>\n",
       "      <td>5/26/2020 17:40:13</td>\n",
       "      <td>5/26/2020 17:39:00</td>\n",
       "      <td>NaN</td>\n",
       "      <td>NaN</td>\n",
       "      <td>Recreation</td>\n",
       "      <td>Bobby</td>\n",
       "      <td>Vangelatos</td>\n",
       "      <td>Dana</td>\n",
       "      <td>Brown</td>\n",
       "      <td>NaN</td>\n",
       "      <td>...</td>\n",
       "      <td>NaN</td>\n",
       "      <td>NaN</td>\n",
       "      <td>NaN</td>\n",
       "      <td>Adult fitness equipment</td>\n",
       "      <td>5.0</td>\n",
       "      <td>1.0</td>\n",
       "      <td>1.0</td>\n",
       "      <td>0.0</td>\n",
       "      <td>All but 1 patron left the area</td>\n",
       "      <td>Manhattan</td>\n",
       "    </tr>\n",
       "    <tr>\n",
       "      <td>4</td>\n",
       "      <td>5/26/2020 17:36:27</td>\n",
       "      <td>5/26/2020 15:00:00</td>\n",
       "      <td>NaN</td>\n",
       "      <td>NaN</td>\n",
       "      <td>Recreation</td>\n",
       "      <td>Peter</td>\n",
       "      <td>Lovett</td>\n",
       "      <td>NaN</td>\n",
       "      <td>NaN</td>\n",
       "      <td>NaN</td>\n",
       "      <td>...</td>\n",
       "      <td>NaN</td>\n",
       "      <td>NaN</td>\n",
       "      <td>NaN</td>\n",
       "      <td>NaN</td>\n",
       "      <td>NaN</td>\n",
       "      <td>NaN</td>\n",
       "      <td>NaN</td>\n",
       "      <td>NaN</td>\n",
       "      <td>NaN</td>\n",
       "      <td>Brooklyn</td>\n",
       "    </tr>\n",
       "  </tbody>\n",
       "</table>\n",
       "<p>5 rows × 24 columns</p>\n",
       "</div>"
      ],
      "text/plain": [
       "  encounter_timestamp  encounter_datetime site_id location_adddesc  \\\n",
       "0  5/26/2020 20:06:28  5/25/2020 15:30:00     NaN  B102nd street.    \n",
       "1  5/26/2020 19:13:22  5/26/2020 16:31:00     NaN              NaN   \n",
       "2  5/26/2020 17:57:13  5/26/2020 12:00:00     NaN     In the park    \n",
       "3  5/26/2020 17:40:13  5/26/2020 17:39:00     NaN              NaN   \n",
       "4  5/26/2020 17:36:27  5/26/2020 15:00:00     NaN              NaN   \n",
       "\n",
       "  park_division firstname_1  lastname_1 firstname_2 lastname_2 firstname_3  \\\n",
       "0      AQUATICS       Steve      Nicola        Ben      Peters         NaN   \n",
       "1    Recreation        Dana      Vitolo         NaN        NaN         NaN   \n",
       "2    Recreation      Chris         Wong         NaN        NaN         NaN   \n",
       "3    Recreation       Bobby  Vangelatos        Dana      Brown         NaN   \n",
       "4    Recreation       Peter      Lovett         NaN        NaN         NaN   \n",
       "\n",
       "   ...          sd_amenity sd_pdcontact  \\\n",
       "0  ...        Walking path          0.0   \n",
       "1  ...                 NaN          NaN   \n",
       "2  ...  Bench/sitting area          0.0   \n",
       "3  ...                 NaN          NaN   \n",
       "4  ...                 NaN          NaN   \n",
       "\n",
       "                                         sd_comments           closed_amenity  \\\n",
       "0  The patron without a mask was offered a mask a...                      NaN   \n",
       "1                                                NaN            Tennis courts   \n",
       "2                                                NaN                      NaN   \n",
       "3                                                NaN  Adult fitness equipment   \n",
       "4                                                NaN                      NaN   \n",
       "\n",
       "  closed_patroncount  closed_approach closed_outcome closed_pdcontact  \\\n",
       "0                NaN              NaN            NaN              NaN   \n",
       "1                4.0              1.0            0.0              0.0   \n",
       "2                NaN              NaN            NaN              NaN   \n",
       "3                5.0              1.0            1.0              0.0   \n",
       "4                NaN              NaN            NaN              NaN   \n",
       "\n",
       "                   closed_comments        borough  \n",
       "0                              NaN         Queens  \n",
       "1                              NaN  Staten Island  \n",
       "2                              NaN         Queens  \n",
       "3  All but 1 patron left the area       Manhattan  \n",
       "4                              NaN       Brooklyn  \n",
       "\n",
       "[5 rows x 24 columns]"
      ]
     },
     "execution_count": 24,
     "metadata": {},
     "output_type": "execute_result"
    }
   ],
   "source": [
    "ambass.head()"
   ]
  },
  {
   "cell_type": "code",
   "execution_count": null,
   "metadata": {},
   "outputs": [],
   "source": [
    "hash_rows(ambass, exclude_cols = ['site_id', 'encounter_timestamp'], hash_name = 'row_hash')"
   ]
  }
 ],
 "metadata": {
  "kernelspec": {
   "display_name": "Python 3",
   "language": "python",
   "name": "python3"
  },
  "language_info": {
   "codemirror_mode": {
    "name": "ipython",
    "version": 3
   },
   "file_extension": ".py",
   "mimetype": "text/x-python",
   "name": "python",
   "nbconvert_exporter": "python",
   "pygments_lexer": "ipython3",
   "version": "3.7.4"
  }
 },
 "nbformat": 4,
 "nbformat_minor": 2
}
