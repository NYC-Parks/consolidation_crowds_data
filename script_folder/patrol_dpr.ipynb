{
 "cells": [
  {
   "cell_type": "code",
   "execution_count": 1,
   "metadata": {},
   "outputs": [],
   "source": [
    "#Import required libraries\n",
    "import gspread\n",
    "import sys\n",
    "from oauth2client.service_account import ServiceAccountCredentials\n",
    "import pandas as pd\n",
    "import numpy as np\n",
    "import urllib\n",
    "import sqlalchemy\n",
    "from gspread_dataframe import set_with_dataframe\n",
    "from gspread_dataframe import get_as_dataframe"
   ]
  },
  {
   "cell_type": "code",
   "execution_count": 2,
   "metadata": {},
   "outputs": [],
   "source": [
    "#Import project specific functions\n",
    "from column_map import column_map\n",
    "from yesno_functions import *"
   ]
  },
  {
   "cell_type": "code",
   "execution_count": 3,
   "metadata": {},
   "outputs": [
    {
     "name": "stderr",
     "output_type": "stream",
     "text": [
      "C:\\ProgramData\\Anaconda3\\lib\\site-packages\\authlib\\client\\__init__.py:12: AuthlibDeprecationWarning: Deprecate \"authlib.client\", USE \"authlib.integrations.requests_client\" instead.\n",
      "It will be compatible before version 1.0.\n",
      "Read more <https://git.io/Jeclj#file-rn-md>\n",
      "  deprecate('Deprecate \"authlib.client\", USE \"authlib.integrations.requests_client\" instead.', '1.0', 'Jeclj', 'rn')\n"
     ]
    }
   ],
   "source": [
    "#Import shared functions\n",
    "sys.path.append('../..')\n",
    "from IPM_Shared_Code_public.Python.google_creds_functions import create_assertion_session\n",
    "from IPM_Shared_Code_public.Python.utils import get_config\n",
    "from IPM_Shared_Code_public.Python.delta_functions import *\n",
    "from IPM_Shared_Code_public.Python.sql_functions import *"
   ]
  },
  {
   "cell_type": "markdown",
   "metadata": {},
   "source": [
    "### Use the config file to setup connections"
   ]
  },
  {
   "cell_type": "code",
   "execution_count": 4,
   "metadata": {},
   "outputs": [],
   "source": [
    "config = get_config('c:\\Projects\\config.ini')\n",
    "\n",
    "driver = config['srv']['driver']\n",
    "server = config['srv']['server']\n",
    "dwh = config['db']['crowdsdb']\n",
    "cred_file = config['google']['path_to_file']"
   ]
  },
  {
   "cell_type": "code",
   "execution_count": 5,
   "metadata": {},
   "outputs": [],
   "source": [
    "con_string = 'Driver={' + driver + '};Server=' + server +';Database=' + dwh + ';Trusted_Connection=Yes;'\n",
    "params = urllib.parse.quote_plus(con_string)\n",
    "engine = sqlalchemy.create_engine(\"mssql+pyodbc:///?odbc_connect=%s\" % params)"
   ]
  },
  {
   "cell_type": "markdown",
   "metadata": {},
   "source": [
    "### Execute the function to get the renamed columns for this sheet"
   ]
  },
  {
   "cell_type": "code",
   "execution_count": 6,
   "metadata": {},
   "outputs": [],
   "source": [
    "#Call the column map function to get the dictionary to be used for renaming and subsetting the columns\n",
    "col_rename = column_map('patrol_dpr')"
   ]
  },
  {
   "cell_type": "code",
   "execution_count": 7,
   "metadata": {},
   "outputs": [],
   "source": [
    "#Because of duplicate column names these columns are renamed based on the column index and the keys and \n",
    "#values need to be switched\n",
    "col_rename = {v[0]: k for k, v in col_rename.items()}"
   ]
  },
  {
   "cell_type": "code",
   "execution_count": 8,
   "metadata": {},
   "outputs": [],
   "source": [
    "cols = list(col_rename.values())"
   ]
  },
  {
   "cell_type": "markdown",
   "metadata": {},
   "source": [
    "### Read the current data from SQL"
   ]
  },
  {
   "cell_type": "code",
   "execution_count": 13,
   "metadata": {},
   "outputs": [],
   "source": [
    "sql = 'select * from crowdsdb.dbo.tbl_dpr_patrol'"
   ]
  },
  {
   "cell_type": "code",
   "execution_count": 14,
   "metadata": {},
   "outputs": [],
   "source": [
    "patrol_sql = (pd.read_sql(con = engine, sql = sql)\n",
    "              .drop(columns = ['patrol_id', 'patroncount'])\n",
    "              .fillna(value = np.nan, axis = 1))"
   ]
  },
  {
   "cell_type": "code",
   "execution_count": 15,
   "metadata": {},
   "outputs": [],
   "source": [
    "sql_cols = list(patrol_sql.columns.values)"
   ]
  },
  {
   "cell_type": "code",
   "execution_count": 16,
   "metadata": {},
   "outputs": [
    {
     "data": {
      "text/html": [
       "<div>\n",
       "<style scoped>\n",
       "    .dataframe tbody tr th:only-of-type {\n",
       "        vertical-align: middle;\n",
       "    }\n",
       "\n",
       "    .dataframe tbody tr th {\n",
       "        vertical-align: top;\n",
       "    }\n",
       "\n",
       "    .dataframe thead th {\n",
       "        text-align: right;\n",
       "    }\n",
       "</style>\n",
       "<table border=\"1\" class=\"dataframe\">\n",
       "  <thead>\n",
       "    <tr style=\"text-align: right;\">\n",
       "      <th></th>\n",
       "      <th>encounter_timestamp</th>\n",
       "      <th>encounter_datetime</th>\n",
       "      <th>site_id</th>\n",
       "      <th>location_adddesc</th>\n",
       "      <th>park_division</th>\n",
       "      <th>visit_reason</th>\n",
       "      <th>firstname_1</th>\n",
       "      <th>lastname_1</th>\n",
       "      <th>firstname_2</th>\n",
       "      <th>lastname_2</th>\n",
       "      <th>...</th>\n",
       "      <th>sd_patronscomplied</th>\n",
       "      <th>sd_patronsnocomply</th>\n",
       "      <th>sd_amenity</th>\n",
       "      <th>summonscount_a01</th>\n",
       "      <th>summonscount_a03</th>\n",
       "      <th>summonscount_a04</th>\n",
       "      <th>summonscount_a22</th>\n",
       "      <th>other_summonstype</th>\n",
       "      <th>other_summonscount</th>\n",
       "      <th>borough</th>\n",
       "    </tr>\n",
       "  </thead>\n",
       "  <tbody>\n",
       "  </tbody>\n",
       "</table>\n",
       "<p>0 rows × 36 columns</p>\n",
       "</div>"
      ],
      "text/plain": [
       "Empty DataFrame\n",
       "Columns: [encounter_timestamp, encounter_datetime, site_id, location_adddesc, park_division, visit_reason, firstname_1, lastname_1, firstname_2, lastname_2, firstname_3, lastname_3, patrol_method, encounter_type, closed_amenity, closed_patroncount, closed_education, closed_outcome, closed_summonsissued, closed_pdassist, closed_pdcontact, closed_comments, sd_summonsissued, sd_pdassist, sd_pdcontact, sd_comments, sd_patronscomplied, sd_patronsnocomply, sd_amenity, summonscount_a01, summonscount_a03, summonscount_a04, summonscount_a22, other_summonstype, other_summonscount, borough]\n",
       "Index: []\n",
       "\n",
       "[0 rows x 36 columns]"
      ]
     },
     "execution_count": 16,
     "metadata": {},
     "output_type": "execute_result"
    }
   ],
   "source": [
    "patrol_sql.head()"
   ]
  },
  {
   "cell_type": "code",
   "execution_count": 17,
   "metadata": {},
   "outputs": [],
   "source": [
    "hash_rows(patrol_sql, exclude_cols = ['encounter_timestamp'], hash_name = 'row_hash')"
   ]
  },
  {
   "cell_type": "markdown",
   "metadata": {},
   "source": [
    "### Read the site reference list from SQL"
   ]
  },
  {
   "cell_type": "code",
   "execution_count": 18,
   "metadata": {},
   "outputs": [],
   "source": [
    "sql = 'select * from crowdsdb.dbo.tbl_ref_sites'"
   ]
  },
  {
   "cell_type": "code",
   "execution_count": 19,
   "metadata": {},
   "outputs": [],
   "source": [
    "site_ref = pd.read_sql(con = engine, sql = sql)[['site_id', 'site_desc', 'borough']]"
   ]
  },
  {
   "cell_type": "markdown",
   "metadata": {},
   "source": [
    "### Read the latest data from Google Sheets"
   ]
  },
  {
   "cell_type": "code",
   "execution_count": 20,
   "metadata": {},
   "outputs": [],
   "source": [
    "scope = ['https://spreadsheets.google.com/feeds',\n",
    "         'https://www.googleapis.com/auth/drive']\n",
    "creds = ServiceAccountCredentials.from_json_keyfile_name(cred_file, scope)\n",
    "client = gspread.authorize(creds)"
   ]
  },
  {
   "cell_type": "code",
   "execution_count": 21,
   "metadata": {},
   "outputs": [],
   "source": [
    "sheet = client.open('COMBINED Patrol Reporting Responses')"
   ]
  },
  {
   "cell_type": "code",
   "execution_count": 22,
   "metadata": {},
   "outputs": [],
   "source": [
    "ws = sheet.worksheet('MASTER')"
   ]
  },
  {
   "cell_type": "code",
   "execution_count": 24,
   "metadata": {},
   "outputs": [],
   "source": [
    "#Read the worksheet as a data frame, rename the columns and subset the columns to only include those\n",
    "#in the column list\n",
    "patrol = (get_as_dataframe(ws, evaluate_formulas = True, header= None)\n",
    "          #Always remove row 0 with the column headers\n",
    "          .iloc[1:]\n",
    "          .rename(columns = col_rename)\n",
    "          .fillna(value = np.nan, axis = 1))[cols]"
   ]
  },
  {
   "cell_type": "code",
   "execution_count": 25,
   "metadata": {},
   "outputs": [
    {
     "data": {
      "text/html": [
       "<div>\n",
       "<style scoped>\n",
       "    .dataframe tbody tr th:only-of-type {\n",
       "        vertical-align: middle;\n",
       "    }\n",
       "\n",
       "    .dataframe tbody tr th {\n",
       "        vertical-align: top;\n",
       "    }\n",
       "\n",
       "    .dataframe thead th {\n",
       "        text-align: right;\n",
       "    }\n",
       "</style>\n",
       "<table border=\"1\" class=\"dataframe\">\n",
       "  <thead>\n",
       "    <tr style=\"text-align: right;\">\n",
       "      <th></th>\n",
       "      <th>encounter_timestamp</th>\n",
       "      <th>encounter_datetime</th>\n",
       "      <th>site_desc</th>\n",
       "      <th>location_adddesc</th>\n",
       "      <th>park_division</th>\n",
       "      <th>firstname_1</th>\n",
       "      <th>lastname_1</th>\n",
       "      <th>firstname_2</th>\n",
       "      <th>lastname_2</th>\n",
       "      <th>firstname_3</th>\n",
       "      <th>...</th>\n",
       "      <th>sd_pdassist</th>\n",
       "      <th>sd_pdcontact</th>\n",
       "      <th>sd_comments</th>\n",
       "      <th>summonscount_a01</th>\n",
       "      <th>summonscount_a03</th>\n",
       "      <th>summonscount_a04</th>\n",
       "      <th>summonscount_a22</th>\n",
       "      <th>other_summonstype</th>\n",
       "      <th>other_summonscount</th>\n",
       "      <th>borough</th>\n",
       "    </tr>\n",
       "  </thead>\n",
       "  <tbody>\n",
       "    <tr>\n",
       "      <td>1</td>\n",
       "      <td>5/29/2020 17:25:27</td>\n",
       "      <td>5/29/2020 17:08:00</td>\n",
       "      <td>Van Cortlandt Park-Southwest Playground</td>\n",
       "      <td>NaN</td>\n",
       "      <td>Rangers</td>\n",
       "      <td>Brittany</td>\n",
       "      <td>Nulph</td>\n",
       "      <td>Ilana</td>\n",
       "      <td>Weinstein</td>\n",
       "      <td>NaN</td>\n",
       "      <td>...</td>\n",
       "      <td>NaN</td>\n",
       "      <td>NaN</td>\n",
       "      <td>NaN</td>\n",
       "      <td>NaN</td>\n",
       "      <td>NaN</td>\n",
       "      <td>NaN</td>\n",
       "      <td>NaN</td>\n",
       "      <td>NaN</td>\n",
       "      <td>NaN</td>\n",
       "      <td>Bronx</td>\n",
       "    </tr>\n",
       "    <tr>\n",
       "      <td>2</td>\n",
       "      <td>5/29/2020 17:24:51</td>\n",
       "      <td>5/29/2020 17:23:00</td>\n",
       "      <td>Young Park</td>\n",
       "      <td>NaN</td>\n",
       "      <td>Rangers</td>\n",
       "      <td>Hunter</td>\n",
       "      <td>Mathis</td>\n",
       "      <td>Albert</td>\n",
       "      <td>Seto</td>\n",
       "      <td>NaN</td>\n",
       "      <td>...</td>\n",
       "      <td>NaN</td>\n",
       "      <td>NaN</td>\n",
       "      <td>NaN</td>\n",
       "      <td>NaN</td>\n",
       "      <td>NaN</td>\n",
       "      <td>NaN</td>\n",
       "      <td>NaN</td>\n",
       "      <td>NaN</td>\n",
       "      <td>NaN</td>\n",
       "      <td>Bronx</td>\n",
       "    </tr>\n",
       "    <tr>\n",
       "      <td>3</td>\n",
       "      <td>5/29/2020 17:24:50</td>\n",
       "      <td>5/29/2020 16:49:00</td>\n",
       "      <td>Van Cortlandt Park-Woodlawn Playground</td>\n",
       "      <td>NaN</td>\n",
       "      <td>Rangers</td>\n",
       "      <td>Brittany</td>\n",
       "      <td>Nulph</td>\n",
       "      <td>Ilana</td>\n",
       "      <td>Weinstein</td>\n",
       "      <td>NaN</td>\n",
       "      <td>...</td>\n",
       "      <td>NaN</td>\n",
       "      <td>NaN</td>\n",
       "      <td>NaN</td>\n",
       "      <td>NaN</td>\n",
       "      <td>NaN</td>\n",
       "      <td>NaN</td>\n",
       "      <td>NaN</td>\n",
       "      <td>NaN</td>\n",
       "      <td>NaN</td>\n",
       "      <td>Bronx</td>\n",
       "    </tr>\n",
       "    <tr>\n",
       "      <td>4</td>\n",
       "      <td>5/29/2020 17:24:01</td>\n",
       "      <td>5/29/2020 16:40:00</td>\n",
       "      <td>Van Cortlandt Park-Sachkerah Woods Playground</td>\n",
       "      <td>NaN</td>\n",
       "      <td>Rangers</td>\n",
       "      <td>Brittany</td>\n",
       "      <td>Nulph</td>\n",
       "      <td>Ilana</td>\n",
       "      <td>Weinstein</td>\n",
       "      <td>NaN</td>\n",
       "      <td>...</td>\n",
       "      <td>NaN</td>\n",
       "      <td>NaN</td>\n",
       "      <td>NaN</td>\n",
       "      <td>NaN</td>\n",
       "      <td>NaN</td>\n",
       "      <td>NaN</td>\n",
       "      <td>NaN</td>\n",
       "      <td>NaN</td>\n",
       "      <td>NaN</td>\n",
       "      <td>Bronx</td>\n",
       "    </tr>\n",
       "    <tr>\n",
       "      <td>5</td>\n",
       "      <td>5/29/2020 17:23:27</td>\n",
       "      <td>5/29/2020 17:10:00</td>\n",
       "      <td>West Harlem Piers</td>\n",
       "      <td>NaN</td>\n",
       "      <td>PEP</td>\n",
       "      <td>Anna</td>\n",
       "      <td>Williams</td>\n",
       "      <td>NaN</td>\n",
       "      <td>NaN</td>\n",
       "      <td>NaN</td>\n",
       "      <td>...</td>\n",
       "      <td>NaN</td>\n",
       "      <td>NaN</td>\n",
       "      <td>NaN</td>\n",
       "      <td>NaN</td>\n",
       "      <td>NaN</td>\n",
       "      <td>NaN</td>\n",
       "      <td>NaN</td>\n",
       "      <td>NaN</td>\n",
       "      <td>NaN</td>\n",
       "      <td>Manhattan</td>\n",
       "    </tr>\n",
       "  </tbody>\n",
       "</table>\n",
       "<p>5 rows × 36 columns</p>\n",
       "</div>"
      ],
      "text/plain": [
       "  encounter_timestamp  encounter_datetime  \\\n",
       "1  5/29/2020 17:25:27  5/29/2020 17:08:00   \n",
       "2  5/29/2020 17:24:51  5/29/2020 17:23:00   \n",
       "3  5/29/2020 17:24:50  5/29/2020 16:49:00   \n",
       "4  5/29/2020 17:24:01  5/29/2020 16:40:00   \n",
       "5  5/29/2020 17:23:27  5/29/2020 17:10:00   \n",
       "\n",
       "                                       site_desc location_adddesc  \\\n",
       "1        Van Cortlandt Park-Southwest Playground              NaN   \n",
       "2                                     Young Park              NaN   \n",
       "3         Van Cortlandt Park-Woodlawn Playground              NaN   \n",
       "4  Van Cortlandt Park-Sachkerah Woods Playground              NaN   \n",
       "5                              West Harlem Piers              NaN   \n",
       "\n",
       "  park_division firstname_1 lastname_1 firstname_2 lastname_2 firstname_3  \\\n",
       "1       Rangers    Brittany      Nulph       Ilana  Weinstein         NaN   \n",
       "2       Rangers     Hunter     Mathis      Albert       Seto          NaN   \n",
       "3       Rangers    Brittany      Nulph       Ilana  Weinstein         NaN   \n",
       "4       Rangers    Brittany      Nulph       Ilana  Weinstein         NaN   \n",
       "5           PEP        Anna   Williams         NaN        NaN         NaN   \n",
       "\n",
       "   ... sd_pdassist sd_pdcontact sd_comments summonscount_a01 summonscount_a03  \\\n",
       "1  ...         NaN          NaN         NaN              NaN              NaN   \n",
       "2  ...         NaN          NaN         NaN              NaN              NaN   \n",
       "3  ...         NaN          NaN         NaN              NaN              NaN   \n",
       "4  ...         NaN          NaN         NaN              NaN              NaN   \n",
       "5  ...         NaN          NaN         NaN              NaN              NaN   \n",
       "\n",
       "   summonscount_a04 summonscount_a22 other_summonstype other_summonscount  \\\n",
       "1               NaN              NaN               NaN                NaN   \n",
       "2               NaN              NaN               NaN                NaN   \n",
       "3               NaN              NaN               NaN                NaN   \n",
       "4               NaN              NaN               NaN                NaN   \n",
       "5               NaN              NaN               NaN                NaN   \n",
       "\n",
       "     borough  \n",
       "1      Bronx  \n",
       "2      Bronx  \n",
       "3      Bronx  \n",
       "4      Bronx  \n",
       "5  Manhattan  \n",
       "\n",
       "[5 rows x 36 columns]"
      ]
     },
     "execution_count": 25,
     "metadata": {},
     "output_type": "execute_result"
    }
   ],
   "source": [
    "patrol.head()"
   ]
  },
  {
   "cell_type": "code",
   "execution_count": 26,
   "metadata": {},
   "outputs": [],
   "source": [
    "yesno = ['closed_education', 'closed_outcome', 'closed_summonsissued', 'closed_pdassist',\n",
    "         'closed_pdcontact', 'sd_summonsissued', 'sd_pdassist', 'sd_pdcontact']"
   ]
  },
  {
   "cell_type": "code",
   "execution_count": 27,
   "metadata": {},
   "outputs": [],
   "source": [
    "yesno_cols(patrol, yesno)"
   ]
  },
  {
   "cell_type": "code",
   "execution_count": 28,
   "metadata": {},
   "outputs": [],
   "source": [
    "#Remove any rows with no data, presumably these are rows with no timestamp\n",
    "patrol = patrol[patrol['encounter_timestamp'].notna()]"
   ]
  },
  {
   "cell_type": "code",
   "execution_count": 29,
   "metadata": {},
   "outputs": [],
   "source": [
    "patrol = patrol.merge(site_ref, how = 'left', on = ['site_desc', 'borough'])[sql_cols]"
   ]
  },
  {
   "cell_type": "code",
   "execution_count": 30,
   "metadata": {},
   "outputs": [],
   "source": [
    "hash_rows(patrol, exclude_cols = ['site_id', 'encounter_timestamp'], hash_name = 'row_hash')"
   ]
  },
  {
   "cell_type": "code",
   "execution_count": 31,
   "metadata": {},
   "outputs": [],
   "source": [
    "patrol_deltas = (check_deltas(new_df = patrol, old_df = patrol_sql, on = ['site_id', 'encounter_timestamp'], \n",
    "                              hash_name = 'row_hash', dml_col = 'dml_verb'))[sql_cols + ['dml_verb']]"
   ]
  },
  {
   "cell_type": "code",
   "execution_count": 32,
   "metadata": {},
   "outputs": [],
   "source": [
    "patrol_inserts = patrol_deltas[patrol_deltas['dml_verb'] == 'I'][sql_cols]"
   ]
  },
  {
   "cell_type": "code",
   "execution_count": 33,
   "metadata": {},
   "outputs": [
    {
     "data": {
      "text/html": [
       "<div>\n",
       "<style scoped>\n",
       "    .dataframe tbody tr th:only-of-type {\n",
       "        vertical-align: middle;\n",
       "    }\n",
       "\n",
       "    .dataframe tbody tr th {\n",
       "        vertical-align: top;\n",
       "    }\n",
       "\n",
       "    .dataframe thead th {\n",
       "        text-align: right;\n",
       "    }\n",
       "</style>\n",
       "<table border=\"1\" class=\"dataframe\">\n",
       "  <thead>\n",
       "    <tr style=\"text-align: right;\">\n",
       "      <th></th>\n",
       "      <th>encounter_timestamp</th>\n",
       "      <th>encounter_datetime</th>\n",
       "      <th>site_id</th>\n",
       "      <th>location_adddesc</th>\n",
       "      <th>park_division</th>\n",
       "      <th>visit_reason</th>\n",
       "      <th>firstname_1</th>\n",
       "      <th>lastname_1</th>\n",
       "      <th>firstname_2</th>\n",
       "      <th>lastname_2</th>\n",
       "      <th>...</th>\n",
       "      <th>sd_patronscomplied</th>\n",
       "      <th>sd_patronsnocomply</th>\n",
       "      <th>sd_amenity</th>\n",
       "      <th>summonscount_a01</th>\n",
       "      <th>summonscount_a03</th>\n",
       "      <th>summonscount_a04</th>\n",
       "      <th>summonscount_a22</th>\n",
       "      <th>other_summonstype</th>\n",
       "      <th>other_summonscount</th>\n",
       "      <th>borough</th>\n",
       "    </tr>\n",
       "  </thead>\n",
       "  <tbody>\n",
       "    <tr>\n",
       "      <td>0</td>\n",
       "      <td>5/29/2020 17:25:27</td>\n",
       "      <td>5/29/2020 17:08:00</td>\n",
       "      <td>X092-09</td>\n",
       "      <td>NaN</td>\n",
       "      <td>Rangers</td>\n",
       "      <td>Standard Patrol</td>\n",
       "      <td>Brittany</td>\n",
       "      <td>Nulph</td>\n",
       "      <td>Ilana</td>\n",
       "      <td>Weinstein</td>\n",
       "      <td>...</td>\n",
       "      <td>NaN</td>\n",
       "      <td>NaN</td>\n",
       "      <td>NaN</td>\n",
       "      <td>NaN</td>\n",
       "      <td>NaN</td>\n",
       "      <td>NaN</td>\n",
       "      <td>NaN</td>\n",
       "      <td>NaN</td>\n",
       "      <td>NaN</td>\n",
       "      <td>Bronx</td>\n",
       "    </tr>\n",
       "    <tr>\n",
       "      <td>1</td>\n",
       "      <td>5/29/2020 17:24:51</td>\n",
       "      <td>5/29/2020 17:23:00</td>\n",
       "      <td>X073</td>\n",
       "      <td>NaN</td>\n",
       "      <td>Rangers</td>\n",
       "      <td>Standard Patrol</td>\n",
       "      <td>Hunter</td>\n",
       "      <td>Mathis</td>\n",
       "      <td>Albert</td>\n",
       "      <td>Seto</td>\n",
       "      <td>...</td>\n",
       "      <td>NaN</td>\n",
       "      <td>NaN</td>\n",
       "      <td>NaN</td>\n",
       "      <td>NaN</td>\n",
       "      <td>NaN</td>\n",
       "      <td>NaN</td>\n",
       "      <td>NaN</td>\n",
       "      <td>NaN</td>\n",
       "      <td>NaN</td>\n",
       "      <td>Bronx</td>\n",
       "    </tr>\n",
       "    <tr>\n",
       "      <td>2</td>\n",
       "      <td>5/29/2020 17:24:50</td>\n",
       "      <td>5/29/2020 16:49:00</td>\n",
       "      <td>X092-06</td>\n",
       "      <td>NaN</td>\n",
       "      <td>Rangers</td>\n",
       "      <td>Standard Patrol</td>\n",
       "      <td>Brittany</td>\n",
       "      <td>Nulph</td>\n",
       "      <td>Ilana</td>\n",
       "      <td>Weinstein</td>\n",
       "      <td>...</td>\n",
       "      <td>NaN</td>\n",
       "      <td>NaN</td>\n",
       "      <td>NaN</td>\n",
       "      <td>NaN</td>\n",
       "      <td>NaN</td>\n",
       "      <td>NaN</td>\n",
       "      <td>NaN</td>\n",
       "      <td>NaN</td>\n",
       "      <td>NaN</td>\n",
       "      <td>Bronx</td>\n",
       "    </tr>\n",
       "    <tr>\n",
       "      <td>3</td>\n",
       "      <td>5/29/2020 17:24:01</td>\n",
       "      <td>5/29/2020 16:40:00</td>\n",
       "      <td>X092-26</td>\n",
       "      <td>NaN</td>\n",
       "      <td>Rangers</td>\n",
       "      <td>Standard Patrol</td>\n",
       "      <td>Brittany</td>\n",
       "      <td>Nulph</td>\n",
       "      <td>Ilana</td>\n",
       "      <td>Weinstein</td>\n",
       "      <td>...</td>\n",
       "      <td>NaN</td>\n",
       "      <td>NaN</td>\n",
       "      <td>NaN</td>\n",
       "      <td>NaN</td>\n",
       "      <td>NaN</td>\n",
       "      <td>NaN</td>\n",
       "      <td>NaN</td>\n",
       "      <td>NaN</td>\n",
       "      <td>NaN</td>\n",
       "      <td>Bronx</td>\n",
       "    </tr>\n",
       "    <tr>\n",
       "      <td>4</td>\n",
       "      <td>5/29/2020 17:23:27</td>\n",
       "      <td>5/29/2020 17:10:00</td>\n",
       "      <td>M376</td>\n",
       "      <td>NaN</td>\n",
       "      <td>PEP</td>\n",
       "      <td>Fixed Post</td>\n",
       "      <td>Anna</td>\n",
       "      <td>Williams</td>\n",
       "      <td>NaN</td>\n",
       "      <td>NaN</td>\n",
       "      <td>...</td>\n",
       "      <td>NaN</td>\n",
       "      <td>NaN</td>\n",
       "      <td>NaN</td>\n",
       "      <td>NaN</td>\n",
       "      <td>NaN</td>\n",
       "      <td>NaN</td>\n",
       "      <td>NaN</td>\n",
       "      <td>NaN</td>\n",
       "      <td>NaN</td>\n",
       "      <td>Manhattan</td>\n",
       "    </tr>\n",
       "  </tbody>\n",
       "</table>\n",
       "<p>5 rows × 36 columns</p>\n",
       "</div>"
      ],
      "text/plain": [
       "  encounter_timestamp  encounter_datetime  site_id location_adddesc  \\\n",
       "0  5/29/2020 17:25:27  5/29/2020 17:08:00  X092-09              NaN   \n",
       "1  5/29/2020 17:24:51  5/29/2020 17:23:00     X073              NaN   \n",
       "2  5/29/2020 17:24:50  5/29/2020 16:49:00  X092-06              NaN   \n",
       "3  5/29/2020 17:24:01  5/29/2020 16:40:00  X092-26              NaN   \n",
       "4  5/29/2020 17:23:27  5/29/2020 17:10:00     M376              NaN   \n",
       "\n",
       "  park_division     visit_reason firstname_1 lastname_1 firstname_2  \\\n",
       "0       Rangers  Standard Patrol    Brittany      Nulph       Ilana   \n",
       "1       Rangers  Standard Patrol     Hunter     Mathis      Albert    \n",
       "2       Rangers  Standard Patrol    Brittany      Nulph       Ilana   \n",
       "3       Rangers  Standard Patrol    Brittany      Nulph       Ilana   \n",
       "4           PEP       Fixed Post        Anna   Williams         NaN   \n",
       "\n",
       "  lastname_2  ... sd_patronscomplied sd_patronsnocomply sd_amenity  \\\n",
       "0  Weinstein  ...                NaN                NaN        NaN   \n",
       "1      Seto   ...                NaN                NaN        NaN   \n",
       "2  Weinstein  ...                NaN                NaN        NaN   \n",
       "3  Weinstein  ...                NaN                NaN        NaN   \n",
       "4        NaN  ...                NaN                NaN        NaN   \n",
       "\n",
       "  summonscount_a01 summonscount_a03  summonscount_a04  summonscount_a22  \\\n",
       "0              NaN              NaN               NaN               NaN   \n",
       "1              NaN              NaN               NaN               NaN   \n",
       "2              NaN              NaN               NaN               NaN   \n",
       "3              NaN              NaN               NaN               NaN   \n",
       "4              NaN              NaN               NaN               NaN   \n",
       "\n",
       "   other_summonstype  other_summonscount    borough  \n",
       "0                NaN                 NaN      Bronx  \n",
       "1                NaN                 NaN      Bronx  \n",
       "2                NaN                 NaN      Bronx  \n",
       "3                NaN                 NaN      Bronx  \n",
       "4                NaN                 NaN  Manhattan  \n",
       "\n",
       "[5 rows x 36 columns]"
      ]
     },
     "execution_count": 33,
     "metadata": {},
     "output_type": "execute_result"
    }
   ],
   "source": [
    "patrol_inserts.head()"
   ]
  },
  {
   "cell_type": "code",
   "execution_count": 35,
   "metadata": {},
   "outputs": [],
   "source": [
    "patrol_inserts.to_sql('tbl_dpr_patrol', engine, index = False, if_exists = 'append')"
   ]
  },
  {
   "cell_type": "code",
   "execution_count": 36,
   "metadata": {},
   "outputs": [],
   "source": [
    "patrol_updates = patrol_deltas[patrol_deltas['dml_verb'] == 'U'][sql_cols]"
   ]
  },
  {
   "cell_type": "code",
   "execution_count": 40,
   "metadata": {},
   "outputs": [
    {
     "data": {
      "text/html": [
       "<div>\n",
       "<style scoped>\n",
       "    .dataframe tbody tr th:only-of-type {\n",
       "        vertical-align: middle;\n",
       "    }\n",
       "\n",
       "    .dataframe tbody tr th {\n",
       "        vertical-align: top;\n",
       "    }\n",
       "\n",
       "    .dataframe thead th {\n",
       "        text-align: right;\n",
       "    }\n",
       "</style>\n",
       "<table border=\"1\" class=\"dataframe\">\n",
       "  <thead>\n",
       "    <tr style=\"text-align: right;\">\n",
       "      <th></th>\n",
       "      <th>encounter_timestamp</th>\n",
       "      <th>encounter_datetime</th>\n",
       "      <th>site_id</th>\n",
       "      <th>location_adddesc</th>\n",
       "      <th>park_division</th>\n",
       "      <th>visit_reason</th>\n",
       "      <th>firstname_1</th>\n",
       "      <th>lastname_1</th>\n",
       "      <th>firstname_2</th>\n",
       "      <th>lastname_2</th>\n",
       "      <th>...</th>\n",
       "      <th>sd_patronscomplied</th>\n",
       "      <th>sd_patronsnocomply</th>\n",
       "      <th>sd_amenity</th>\n",
       "      <th>summonscount_a01</th>\n",
       "      <th>summonscount_a03</th>\n",
       "      <th>summonscount_a04</th>\n",
       "      <th>summonscount_a22</th>\n",
       "      <th>other_summonstype</th>\n",
       "      <th>other_summonscount</th>\n",
       "      <th>borough</th>\n",
       "    </tr>\n",
       "  </thead>\n",
       "  <tbody>\n",
       "  </tbody>\n",
       "</table>\n",
       "<p>0 rows × 36 columns</p>\n",
       "</div>"
      ],
      "text/plain": [
       "Empty DataFrame\n",
       "Columns: [encounter_timestamp, encounter_datetime, site_id, location_adddesc, park_division, visit_reason, firstname_1, lastname_1, firstname_2, lastname_2, firstname_3, lastname_3, patrol_method, encounter_type, closed_amenity, closed_patroncount, closed_education, closed_outcome, closed_summonsissued, closed_pdassist, closed_pdcontact, closed_comments, sd_summonsissued, sd_pdassist, sd_pdcontact, sd_comments, sd_patronscomplied, sd_patronsnocomply, sd_amenity, summonscount_a01, summonscount_a03, summonscount_a04, summonscount_a22, other_summonstype, other_summonscount, borough]\n",
       "Index: []\n",
       "\n",
       "[0 rows x 36 columns]"
      ]
     },
     "execution_count": 40,
     "metadata": {},
     "output_type": "execute_result"
    }
   ],
   "source": [
    "patrol_updates.head()"
   ]
  },
  {
   "cell_type": "code",
   "execution_count": 41,
   "metadata": {},
   "outputs": [],
   "source": [
    "sql_update(patrol_updates, 'tbl_dpr_patrol', engine, ['encounter_timestamp', 'site_id'])"
   ]
  }
 ],
 "metadata": {
  "kernelspec": {
   "display_name": "Python 3",
   "language": "python",
   "name": "python3"
  },
  "language_info": {
   "codemirror_mode": {
    "name": "ipython",
    "version": 3
   },
   "file_extension": ".py",
   "mimetype": "text/x-python",
   "name": "python",
   "nbconvert_exporter": "python",
   "pygments_lexer": "ipython3",
   "version": "3.7.4"
  }
 },
 "nbformat": 4,
 "nbformat_minor": 2
}
