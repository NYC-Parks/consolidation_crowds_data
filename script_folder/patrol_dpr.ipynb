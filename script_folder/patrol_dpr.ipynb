{
 "cells": [
  {
   "cell_type": "code",
   "execution_count": 1,
   "metadata": {},
   "outputs": [],
   "source": [
    "import gspread\n",
    "from oauth2client.service_account import ServiceAccountCredentials\n",
    "import pandas as pd\n",
    "import numpy as np\n",
    "import urllib\n",
    "import sqlalchemy\n",
    "from gspread_dataframe import set_with_dataframe\n",
    "from gspread_dataframe import get_as_dataframe"
   ]
  },
  {
   "cell_type": "code",
   "execution_count": 2,
   "metadata": {},
   "outputs": [],
   "source": [
    "from column_map import column_map"
   ]
  },
  {
   "cell_type": "code",
   "execution_count": 5,
   "metadata": {},
   "outputs": [
    {
     "data": {
      "text/plain": [
       "dict_values(['Encounter_Timestamp', 'Encounter_DateTime', 'Property', 'Location_AddDesc', 'Parks_Division', 'FirstName_1', 'LastName_1', 'FirstName_2', 'LastName_2', 'FirstName_3', 'LastName_3', 'Patrol_Method', 'Encounter_Type', 'Closed_Amenity', 'Closed_PatronCount', 'Closed_Education', 'Closed_Outcome', 'SD_SummonsIssued', 'SD_PDAssist', 'SD_PDContact', 'SD_Comments', 'SD_PatronsComplied', 'SD_PatronsNoComply', 'SD_Amenity', 'SummonsCount_A01', 'SummonsCount_A03', 'SummonsCount_A04', 'SummonsCount_A22', 'Other_SummonsType', 'Other_SummonsCount', 'Borough'])"
      ]
     },
     "execution_count": 5,
     "metadata": {},
     "output_type": "execute_result"
    }
   ],
   "source": [
    "column_map('Patrol_DPR').values()"
   ]
  },
  {
   "cell_type": "code",
   "execution_count": null,
   "metadata": {},
   "outputs": [],
   "source": [
    "scope = ['https://spreadsheets.google.com/feeds',\n",
    "         'https://www.googleapis.com/auth/drive']\n",
    "creds = ServiceAccountCredentials.from_json_keyfile_name('client_secret.json', scope)\n",
    "client = gspread.authorize(creds)"
   ]
  },
  {
   "cell_type": "code",
   "execution_count": null,
   "metadata": {},
   "outputs": [],
   "source": []
  }
 ],
 "metadata": {
  "kernelspec": {
   "display_name": "Python 3",
   "language": "python",
   "name": "python3"
  },
  "language_info": {
   "codemirror_mode": {
    "name": "ipython",
    "version": 3
   },
   "file_extension": ".py",
   "mimetype": "text/x-python",
   "name": "python",
   "nbconvert_exporter": "python",
   "pygments_lexer": "ipython3",
   "version": "3.7.4"
  }
 },
 "nbformat": 4,
 "nbformat_minor": 2
}
